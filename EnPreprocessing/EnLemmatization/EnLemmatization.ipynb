{
 "cells": [
  {
   "cell_type": "markdown",
   "metadata": {
    "id": "EvKLls3Ol-vr"
   },
   "source": [
    "# Import"
   ]
  },
  {
   "cell_type": "code",
   "execution_count": null,
   "metadata": {},
   "outputs": [],
   "source": [
    "# !pip install stanza"
   ]
  },
  {
   "cell_type": "code",
   "execution_count": null,
   "metadata": {
    "colab": {
     "base_uri": "https://localhost:8080/"
    },
    "executionInfo": {
     "elapsed": 5203,
     "status": "ok",
     "timestamp": 1641572055118,
     "user": {
      "displayName": "Юлия Ловчикова",
      "photoUrl": "https://lh3.googleusercontent.com/a/default-user=s64",
      "userId": "01035662716647446064"
     },
     "user_tz": -180
    },
    "id": "CznNTk3VmOLT",
    "outputId": "bce71080-c496-49d9-eb3d-0f89fc4adde4"
   },
   "outputs": [],
   "source": [
    "import math\n",
    "import glob\n",
    "import stanza\n",
    "import numpy as np\n",
    "import pandas as pd\n",
    "from tqdm import tqdm"
   ]
  },
  {
   "cell_type": "code",
   "execution_count": null,
   "metadata": {},
   "outputs": [],
   "source": [
    "# stanza.download('en')"
   ]
  },
  {
   "cell_type": "code",
   "execution_count": null,
   "metadata": {},
   "outputs": [],
   "source": [
    "#It turns out that we have about 13000 documents containing at least 1000 words. Let's take them.\n",
    "THRESHOLD = 1000\n",
    "START_INDEX = 0\n",
    "GRADUAL_NUMBER = 10\n",
    "CHECK_POINT_SHAPE = 1000\n",
    "PATH = \"EnGroupedTexts.csv\""
   ]
  },
  {
   "cell_type": "markdown",
   "metadata": {
    "id": "EYYLljVTmbym"
   },
   "source": [
    "# Lemmatization"
   ]
  },
  {
   "cell_type": "code",
   "execution_count": null,
   "metadata": {},
   "outputs": [],
   "source": [
    "def select(dataframe: pd.DataFrame, threshold: int) -> pd.DataFrame:\n",
    "    lambda_ = lambda text: len(text.split()) > threshold\n",
    "    corpus = dataframe[dataframe['proc_sentence'].apply(lambda_)].reset_index(drop=True)\n",
    "    return corpus\n",
    "\n",
    "def _lemmatize_string(string: str) -> str:\n",
    "    result = []\n",
    "    nlp = stanza.Pipeline('en', processors='tokenize, lemma, pos', logging_level='FATAL')\n",
    "    doc = nlp(string)\n",
    "    for word in doc.iter_words():\n",
    "        result.append(word.lemma)\n",
    "    return ' '.join(result)\n",
    "\n",
    "def _lemmatize_sentences(sentences: np.ndarray) -> list:\n",
    "    in_sentences = [stanza.Document([], text=sentence) for sentence in sentences]\n",
    "    nlp = stanza.Pipeline('en', processors='tokenize, lemma, pos', logging_level='FATAL')\n",
    "    out_sentences = nlp(in_sentences)\n",
    "    result_sentences = []\n",
    "    for sentence in out_sentences:\n",
    "        new_sentence = []\n",
    "        for word in sentence.iter_words():\n",
    "            new_sentence.append(word.lemma)\n",
    "        result_sentences.append(' '.join(new_sentence))\n",
    "    return result_sentences\n",
    "\n",
    "def gradualLemma(corpus: pd.DataFrame,\n",
    "                 gradual_number: int,\n",
    "                 check_point_shape: int,\n",
    "                 start_index: int) -> pd.DataFrame:\n",
    "    corpus = corpus[start_index:].reset_index(drop=True)\n",
    "    lemmatized_corpus = pd.DataFrame(columns=['pg_index', 'lem_sentence'])\n",
    "    lemmatized_corpus_ = pd.DataFrame(columns=['pg_index', 'lem_sentence'])\n",
    "    n_iters = math.ceil(corpus.shape[0] / gradual_number)\n",
    "    data_count = 1\n",
    "    for i in tqdm(range(n_iters)):\n",
    "        if corpus.shape[0] == 0:\n",
    "            break\n",
    "        slice_ = corpus[:gradual_number]\n",
    "        lemmatized_slice = _lemmatize_sentences(slice_['proc_sentence'].values)\n",
    "        lemmatized_corpus_ = lemmatized_corpus_.append(pd.DataFrame({'pg_index': slice_['pg_index'], \n",
    "                                                                     'lem_sentence': lemmatized_slice}))\n",
    "        corpus = corpus[gradual_number:]\n",
    "        if lemmatized_corpus_.shape[0] >= check_point_shape or i == n_iters - 1:\n",
    "            lemmatized_corpus = lemmatized_corpus.append(lemmatized_corpus_)\n",
    "            lemmatized_corpus_ = pd.DataFrame(columns=['pg_index', 'lem_sentence'])\n",
    "            name_ = \"EnLemCorpus/EnLemCorpus\" + str(data_count) + \".csv\"\n",
    "            lemmatized_corpus.to_csv(name_, index=False)\n",
    "            print(name_, \"saved\")\n",
    "            data_count += 1\n",
    "    return lemmatized_corpus\n",
    "\n",
    "def lemmatize_dataframe(path: str,\n",
    "                        threshold: int,\n",
    "                        gradual_number: int,\n",
    "                        check_point_shape: int,\n",
    "                        start_index: int) -> pd.DataFrame:\n",
    "    dataframe = pd.read_csv(path).dropna()\n",
    "    selected_dataframe = select(dataframe, threshold)\n",
    "    lemmatized_dataframe = gradualLemma(selected_dataframe,\n",
    "                                        gradual_number,\n",
    "                                        check_point_shape,\n",
    "                                        start_index)\n",
    "    return lemmatized_dataframe"
   ]
  },
  {
   "cell_type": "code",
   "execution_count": null,
   "metadata": {},
   "outputs": [],
   "source": [
    "lemmatized_corpus = lemmatize_dataframe(PATH, THRESHOLD, GRADUAL_NUMBER,\n",
    "                                        CHECK_POINT_SHAPE, START_INDEX)"
   ]
  },
  {
   "cell_type": "markdown",
   "metadata": {},
   "source": [
    "# Concatinate"
   ]
  },
  {
   "cell_type": "code",
   "execution_count": null,
   "metadata": {},
   "outputs": [],
   "source": [
    "def concatinate(folder_path: str) -> pd.DataFrame:\n",
    "    dataframe = pd.DataFrame()\n",
    "    files = []\n",
    "    for filename in glob.iglob(folder_path + \"/*\", recursive=True):\n",
    "        files.append(filename)\n",
    "    for file_path in files:\n",
    "        current_dataframe = pd.read_csv(file_path)\n",
    "        dataframe = pd.concat([dataframe, current_dataframe])\n",
    "    return dataframe"
   ]
  },
  {
   "cell_type": "code",
   "execution_count": null,
   "metadata": {},
   "outputs": [],
   "source": [
    "lemmatized_dataframe = concatinate(\"EnLemCorpus\").sort_values(by='pg_index').reset_index(drop=True)\n",
    "lemmatized_dataframe.to_csv(\"EnLemCorpus.csv\", index=False)"
   ]
  },
  {
   "cell_type": "markdown",
   "metadata": {},
   "source": [
    "# Check"
   ]
  },
  {
   "cell_type": "code",
   "execution_count": null,
   "metadata": {},
   "outputs": [],
   "source": [
    "lemmatized_dataframe = pd.read_csv(\"EnLemCorpus.csv\")"
   ]
  },
  {
   "cell_type": "code",
   "execution_count": null,
   "metadata": {},
   "outputs": [],
   "source": [
    "lemmatized_dataframe"
   ]
  },
  {
   "cell_type": "code",
   "execution_count": null,
   "metadata": {},
   "outputs": [],
   "source": []
  }
 ],
 "metadata": {
  "colab": {
   "authorship_tag": "ABX9TyPP2anUoDkp0WgymSGEnT5a",
   "collapsed_sections": [
    "EvKLls3Ol-vr",
    "EYYLljVTmbym"
   ],
   "mount_file_id": "16k9tBMciW7usx9adm1fkWPtKUFoG-jcy",
   "name": "ReadWiki.ipynb",
   "provenance": []
  },
  "kernelspec": {
   "display_name": "Python 3 (ipykernel)",
   "language": "python",
   "name": "python3"
  },
  "language_info": {
   "codemirror_mode": {
    "name": "ipython",
    "version": 3
   },
   "file_extension": ".py",
   "mimetype": "text/x-python",
   "name": "python",
   "nbconvert_exporter": "python",
   "pygments_lexer": "ipython3",
   "version": "3.9.7"
  }
 },
 "nbformat": 4,
 "nbformat_minor": 1
}
