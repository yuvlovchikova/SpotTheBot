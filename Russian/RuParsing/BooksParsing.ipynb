{
 "cells": [
  {
   "cell_type": "code",
   "execution_count": null,
   "id": "7c12dc06",
   "metadata": {},
   "outputs": [],
   "source": [
    "import numpy as np\n",
    "import requests\n",
    "from bs4 import BeautifulSoup\n",
    "from tqdm import tqdm\n",
    "import os\n",
    "import bs4"
   ]
  },
  {
   "cell_type": "code",
   "execution_count": null,
   "id": "aa3302c0",
   "metadata": {},
   "outputs": [],
   "source": [
    "def get_page(url: str) -> bs4.BeautifulSoup:\n",
    "    r = requests.get(url)\n",
    "    soup = BeautifulSoup(r.text, 'lxml')\n",
    "    return soup"
   ]
  },
  {
   "cell_type": "code",
   "execution_count": null,
   "id": "35e0aa86",
   "metadata": {},
   "outputs": [],
   "source": [
    "SAVE_PATH = \"/Users/yuvlo/Spot-the-bot/Russian/RuBooks/\""
   ]
  },
  {
   "cell_type": "markdown",
   "id": "46304d32",
   "metadata": {},
   "source": [
    "# aldebaran.ru"
   ]
  },
  {
   "cell_type": "code",
   "execution_count": null,
   "id": "40927a0f",
   "metadata": {
    "scrolled": true
   },
   "outputs": [],
   "source": [
    "for page_index in tqdm(range(250)):\n",
    "    url = \"https://aldebaran.ru/genre/klassika/russkaya_klassika/pagenum-\" + str(page_index) + \"/?sort=pop\"\n",
    "    soup = get_page(url)\n",
    "    downloaded_htmls = soup.find_all('p', class_=\"booktitle\")\n",
    "    for html in downloaded_htmls:\n",
    "        url = \"https://aldebaran.ru\" + html.find('a').get('href')\n",
    "        soup = get_page(url)\n",
    "        links_soup = soup.find('div', class_=\"item_download item_info border_bottom\")\n",
    "        if links_soup.text[:17] != \"Скачать бесплатно\":\n",
    "            continue\n",
    "        links_list_soup = links_soup.find_all('a')\n",
    "        for link_soup in links_list_soup:\n",
    "            if link_soup.text == \"ePub\":\n",
    "                book_name = '_'.join(link_soup.get('href').split(sep='/')[2:4]) + \".epub\"\n",
    "                save_name = SAVE_PATH + book_name\n",
    "                if os.path.isfile(save_name):\n",
    "                    print('here', save_name)\n",
    "                    continue\n",
    "                book_link = \"https://aldebaran.ru\" + link_soup.get('href')\n",
    "                r = requests.get(book_link, allow_redirects=True)\n",
    "                open(save_name, 'wb').write(r.content)\n",
    "                print('not here', save_name)"
   ]
  },
  {
   "cell_type": "markdown",
   "id": "adbf0469",
   "metadata": {},
   "source": [
    "# litlib.net"
   ]
  },
  {
   "cell_type": "code",
   "execution_count": null,
   "id": "7ebb2092",
   "metadata": {
    "scrolled": true
   },
   "outputs": [],
   "source": [
    "for page_index in tqdm(range(500)):\n",
    "    url = \"https://www.litlib.net/rating/page\" + str(page_index)\n",
    "    soup = get_page(url)\n",
    "    links_soup = soup.find_all('a', class_=\"book\")[:-2]\n",
    "    for link_soup in links_soup:\n",
    "        url = \"https://www.litlib.net\" + link_soup.get(\"href\")\n",
    "        soup = get_page(url)\n",
    "        book_name = link_soup.text\n",
    "        book_name = book_name.replace(\"/\", \" \")\n",
    "        download_links = soup.find_all('a', class_=\"down\")\n",
    "        for link in download_links:\n",
    "            book_format = ''.join(link.text.split())\n",
    "            if book_format == \"EPUB\" or link.get('href')[-4:] == \"epub\":\n",
    "                book_link = \"https://www.litlib.net\" + link.get(\"href\")\n",
    "                save_name = SAVE_PATH + book_name +  \".epub\"\n",
    "                if os.path.isfile(save_name):\n",
    "                    print(\"here\", save_name)\n",
    "                    continue\n",
    "                r = requests.get(book_link, allow_redirects=True)\n",
    "                open(save_name, 'wb').write(r.content)\n",
    "                print(\"not here\", save_name)"
   ]
  }
 ],
 "metadata": {
  "kernelspec": {
   "display_name": "Python 3 (ipykernel)",
   "language": "python",
   "name": "python3"
  },
  "language_info": {
   "codemirror_mode": {
    "name": "ipython",
    "version": 3
   },
   "file_extension": ".py",
   "mimetype": "text/x-python",
   "name": "python",
   "nbconvert_exporter": "python",
   "pygments_lexer": "ipython3",
   "version": "3.9.7"
  }
 },
 "nbformat": 4,
 "nbformat_minor": 5
}
