{
 "cells": [
  {
   "cell_type": "markdown",
   "id": "17866c51",
   "metadata": {},
   "source": [
    "# Import"
   ]
  },
  {
   "cell_type": "code",
   "execution_count": null,
   "id": "1d31e758",
   "metadata": {},
   "outputs": [],
   "source": [
    "from preprocessing_utils import *"
   ]
  },
  {
   "cell_type": "code",
   "execution_count": null,
   "id": "344b757e",
   "metadata": {},
   "outputs": [],
   "source": [
    "import re\n",
    "import glob\n",
    "import numpy as np\n",
    "import pandas as pd\n",
    "from tqdm import tqdm\n",
    "from nltk.corpus import stopwords"
   ]
  },
  {
   "cell_type": "markdown",
   "id": "38c473fd",
   "metadata": {},
   "source": [
    "# Reading"
   ]
  },
  {
   "cell_type": "code",
   "execution_count": null,
   "id": "0afbeff3",
   "metadata": {},
   "outputs": [],
   "source": [
    "books = []\n",
    "for filename in glob.iglob(\"RuBooksTXT/*\"):\n",
    "    books.append(filename)"
   ]
  },
  {
   "cell_type": "code",
   "execution_count": null,
   "id": "314a37f8",
   "metadata": {},
   "outputs": [],
   "source": [
    "df_books = pd.DataFrame(columns=['book'])\n",
    "for file_name in tqdm(books):\n",
    "    book_text = process_book(file_name, ['\\n', '\\t'])\n",
    "    df_books = df_books.append({'book': book_text}, ignore_index=True)"
   ]
  },
  {
   "cell_type": "code",
   "execution_count": null,
   "id": "fecdde23",
   "metadata": {},
   "outputs": [],
   "source": [
    "df_books.to_csv(\"RuBooks.csv\", index=False)"
   ]
  },
  {
   "cell_type": "markdown",
   "id": "a42aabab",
   "metadata": {},
   "source": [
    "# Cleaning"
   ]
  },
  {
   "cell_type": "code",
   "execution_count": null,
   "id": "838ad73a",
   "metadata": {},
   "outputs": [],
   "source": [
    "df_books = pd.read_csv(\"/Users/yuvlo/Spot-the-bot/Russian/RuBooks.csv\")\n",
    "ru_stopwords = stopwords.words(\"russian\")\n",
    "df_corpus = pd.DataFrame(columns=['preprocessed_text'])"
   ]
  },
  {
   "cell_type": "code",
   "execution_count": null,
   "id": "57838fe5",
   "metadata": {},
   "outputs": [],
   "source": [
    "df_books = df_books.dropna().reset_index(drop=True)"
   ]
  },
  {
   "cell_type": "code",
   "execution_count": null,
   "id": "dfa3cb49",
   "metadata": {
    "scrolled": true
   },
   "outputs": [],
   "source": [
    "for row in tqdm(range(0, df_books.shape[0])):\n",
    "    preprocessed_text = ru_preprocess_text(df_books.loc[row, \"book\"], ru_stopwords, (2, 30))\n",
    "    df_corpus.loc[row, \"preprocessed_text\"] = ' . '.join(preprocessed_text)\n",
    "    if row % 500 == 0:\n",
    "        save_name = \"RuPreprocessed\" + str(row) + \".csv\"\n",
    "        df_corpus.to_csv(save_name, index=False)"
   ]
  },
  {
   "cell_type": "code",
   "execution_count": null,
   "id": "b42fff08",
   "metadata": {},
   "outputs": [],
   "source": [
    "df_corpus = select_text_with_threshold(df_corpus, 'preprocessed_text', 1000)"
   ]
  },
  {
   "cell_type": "code",
   "execution_count": null,
   "id": "c9021d2a",
   "metadata": {},
   "outputs": [],
   "source": [
    "df_corpus.to_csv(\"RuPreprocessedWithSep.csv\", index=False)"
   ]
  },
  {
   "cell_type": "markdown",
   "id": "a5b4b5a5",
   "metadata": {},
   "source": [
    "# Corpus without separators"
   ]
  },
  {
   "cell_type": "code",
   "execution_count": null,
   "id": "ddb6bafc",
   "metadata": {
    "scrolled": true
   },
   "outputs": [],
   "source": [
    "df_corpus = pd.read_csv(\"/Users/yuvlo/Spot-the-bot/Russian/RuPreprocessedWithSep.csv\")"
   ]
  },
  {
   "cell_type": "code",
   "execution_count": null,
   "id": "32ec4a40",
   "metadata": {},
   "outputs": [],
   "source": [
    "lambda_ = lambda text: remove_sep_from_text(text, ' . ')\n",
    "df_corpus['preprocessed_text_no_sep'] = df_corpus['preprocessed_text'].apply(lambda_)"
   ]
  },
  {
   "cell_type": "code",
   "execution_count": null,
   "id": "d2ebfb0b",
   "metadata": {},
   "outputs": [],
   "source": [
    "df_corpus[['preprocessed_text_no_sep']].to_csv(\"RuPreprocessedNoSep.csv\", index=False)"
   ]
  }
 ],
 "metadata": {
  "kernelspec": {
   "display_name": "Python 3 (ipykernel)",
   "language": "python",
   "name": "python3"
  },
  "language_info": {
   "codemirror_mode": {
    "name": "ipython",
    "version": 3
   },
   "file_extension": ".py",
   "mimetype": "text/x-python",
   "name": "python",
   "nbconvert_exporter": "python",
   "pygments_lexer": "ipython3",
   "version": "3.9.7"
  }
 },
 "nbformat": 4,
 "nbformat_minor": 5
}
