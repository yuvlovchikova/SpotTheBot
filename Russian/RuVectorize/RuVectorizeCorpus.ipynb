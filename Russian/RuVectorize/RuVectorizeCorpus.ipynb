{
 "cells": [
  {
   "cell_type": "markdown",
   "id": "87647cf6",
   "metadata": {},
   "source": [
    "# Import"
   ]
  },
  {
   "cell_type": "code",
   "execution_count": null,
   "id": "5dc7acd0",
   "metadata": {},
   "outputs": [],
   "source": [
    "import json\n",
    "import numpy as np\n",
    "import pandas as pd\n",
    "from tqdm import tqdm"
   ]
  },
  {
   "cell_type": "markdown",
   "id": "e3698529",
   "metadata": {},
   "source": [
    "# Vectorize Corpus"
   ]
  },
  {
   "cell_type": "code",
   "execution_count": null,
   "id": "bf5399d3",
   "metadata": {},
   "outputs": [],
   "source": [
    "def vectorize_text(text: str, word_vector_dict: dict) -> dict:\n",
    "    words = text.split()\n",
    "    vectors = list(map(word_vector_dict.get, words))\n",
    "    text_dict = dict(zip(words, vectors))\n",
    "    return text_dict\n",
    "\n",
    "def vectorize_corpus_with_dots(corpus: list,\n",
    "                               separator: str,\n",
    "                               word_vector_dict: dict) -> np.ndarray:\n",
    "    vectorized_corpus = list()\n",
    "    for text_index, text in enumerate(tqdm(corpus)):\n",
    "        sentences = text.split(sep=separator)\n",
    "        vectorized_text = list()\n",
    "        for sentence_index, sentence in enumerate(sentences):\n",
    "            if not sentence:\n",
    "                continue\n",
    "            vectorized_sentence = vectorize_text(sentence, word_vector_dict)\n",
    "            vectorized_text.append({'document_index': text_index,\n",
    "                                    'sentence_index': sentence_index,\n",
    "                                    'sentence_text': vectorized_sentence})\n",
    "        vectorized_corpus.append(vectorized_text)\n",
    "    return np.array(vectorized_corpus, dtype=object)"
   ]
  },
  {
   "cell_type": "code",
   "execution_count": null,
   "id": "1e31323b",
   "metadata": {},
   "outputs": [],
   "source": [
    "corpus = pd.read_csv(\"/Users/yuvlo/Spot-the-bot/Russian/RuPreprocessedWithSep.csv\")\n",
    "word_vector_dict = json.load(open(\"/Users/yuvlo/Spot-the-bot/Russian/RuWordVectorDict8.json\"))"
   ]
  },
  {
   "cell_type": "code",
   "execution_count": null,
   "id": "6679ba88",
   "metadata": {},
   "outputs": [],
   "source": [
    "vectorized_corpus = vectorize_corpus_with_dots(corpus['preprocessed_text'].tolist(),\n",
    "                                               ' . ',\n",
    "                                               word_vector_dict)"
   ]
  },
  {
   "cell_type": "code",
   "execution_count": null,
   "id": "16480be1",
   "metadata": {
    "scrolled": true
   },
   "outputs": [],
   "source": [
    "np.save(\"RuVectorizedCorpus8\", vectorized_corpus)"
   ]
  },
  {
   "cell_type": "code",
   "execution_count": null,
   "id": "81915f46",
   "metadata": {},
   "outputs": [],
   "source": []
  }
 ],
 "metadata": {
  "kernelspec": {
   "display_name": "Python 3 (ipykernel)",
   "language": "python",
   "name": "python3"
  },
  "language_info": {
   "codemirror_mode": {
    "name": "ipython",
    "version": 3
   },
   "file_extension": ".py",
   "mimetype": "text/x-python",
   "name": "python",
   "nbconvert_exporter": "python",
   "pygments_lexer": "ipython3",
   "version": "3.9.7"
  }
 },
 "nbformat": 4,
 "nbformat_minor": 5
}
