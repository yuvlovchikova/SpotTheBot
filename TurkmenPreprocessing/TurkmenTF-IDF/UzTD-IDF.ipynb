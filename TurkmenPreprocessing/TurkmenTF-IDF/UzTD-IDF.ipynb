{
 "cells": [
  {
   "cell_type": "markdown",
   "id": "87647cf6",
   "metadata": {},
   "source": [
    "# Import"
   ]
  },
  {
   "cell_type": "code",
   "execution_count": 1,
   "id": "5dc7acd0",
   "metadata": {},
   "outputs": [],
   "source": [
    "import numpy as np\n",
    "import pandas as pd\n",
    "from sklearn.feature_extraction.text import TfidfVectorizer"
   ]
  },
  {
   "cell_type": "code",
   "execution_count": 2,
   "id": "a63f0ef5",
   "metadata": {},
   "outputs": [],
   "source": [
    "TOKEN_PATTERN = r\"\\S+\""
   ]
  },
  {
   "cell_type": "markdown",
   "id": "e3698529",
   "metadata": {},
   "source": [
    "# TF-IDF"
   ]
  },
  {
   "cell_type": "code",
   "execution_count": 3,
   "id": "38dee34b",
   "metadata": {},
   "outputs": [],
   "source": [
    "def create_doc_word_matrix(corpus: pd.DataFrame, token_pattern: str) -> tuple:\n",
    "    vectorizer = TfidfVectorizer(token_pattern=token_pattern)\n",
    "    matrix_doc_word = vectorizer.fit_transform(corpus['clean_text'].values)\n",
    "    return matrix_doc_word.toarray(), np.array(vectorizer.get_feature_names())"
   ]
  },
  {
   "cell_type": "code",
   "execution_count": 4,
   "id": "70b8aee3",
   "metadata": {},
   "outputs": [],
   "source": [
    "corpus = pd.read_csv(\"TurkmenCleanCorpus.csv\")"
   ]
  },
  {
   "cell_type": "code",
   "execution_count": 5,
   "id": "ebb96d1b",
   "metadata": {},
   "outputs": [],
   "source": [
    "matrix_doc_word, word_list = create_doc_word_matrix(corpus, TOKEN_PATTERN)"
   ]
  },
  {
   "cell_type": "code",
   "execution_count": 6,
   "id": "226d8dcd",
   "metadata": {},
   "outputs": [
    {
     "data": {
      "text/plain": [
       "(10533, 194036)"
      ]
     },
     "execution_count": 6,
     "metadata": {},
     "output_type": "execute_result"
    }
   ],
   "source": [
    "matrix_doc_word.shape"
   ]
  },
  {
   "cell_type": "code",
   "execution_count": 7,
   "id": "841dffda",
   "metadata": {},
   "outputs": [
    {
     "data": {
      "text/plain": [
       "(194036,)"
      ]
     },
     "execution_count": 7,
     "metadata": {},
     "output_type": "execute_result"
    }
   ],
   "source": [
    "word_list.shape"
   ]
  },
  {
   "cell_type": "code",
   "execution_count": 8,
   "id": "079b60ad",
   "metadata": {},
   "outputs": [],
   "source": [
    "np.save(\"MATRIX_DOC_WORD\", matrix_doc_word)\n",
    "# np.save(\"WORD_LIST\", word_list)"
   ]
  },
  {
   "cell_type": "code",
   "execution_count": null,
   "id": "82230399",
   "metadata": {},
   "outputs": [],
   "source": []
  }
 ],
 "metadata": {
  "kernelspec": {
   "display_name": "Python 3 (ipykernel)",
   "language": "python",
   "name": "python3"
  },
  "language_info": {
   "codemirror_mode": {
    "name": "ipython",
    "version": 3
   },
   "file_extension": ".py",
   "mimetype": "text/x-python",
   "name": "python",
   "nbconvert_exporter": "python",
   "pygments_lexer": "ipython3",
   "version": "3.9.7"
  }
 },
 "nbformat": 4,
 "nbformat_minor": 5
}
