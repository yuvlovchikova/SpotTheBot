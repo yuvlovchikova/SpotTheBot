{
 "cells": [
  {
   "cell_type": "markdown",
   "metadata": {
    "id": "EvKLls3Ol-vr"
   },
   "source": [
    "# Import"
   ]
  },
  {
   "cell_type": "code",
   "execution_count": 1,
   "metadata": {
    "colab": {
     "base_uri": "https://localhost:8080/"
    },
    "executionInfo": {
     "elapsed": 5203,
     "status": "ok",
     "timestamp": 1641572055118,
     "user": {
      "displayName": "Юлия Ловчикова",
      "photoUrl": "https://lh3.googleusercontent.com/a/default-user=s64",
      "userId": "01035662716647446064"
     },
     "user_tz": -180
    },
    "id": "CznNTk3VmOLT",
    "outputId": "bce71080-c496-49d9-eb3d-0f89fc4adde4"
   },
   "outputs": [],
   "source": [
    "import re\n",
    "import glob\n",
    "import nltk\n",
    "import numpy as np\n",
    "import pandas as pd\n",
    "from tqdm import tqdm\n",
    "from uuid import uuid4"
   ]
  },
  {
   "cell_type": "code",
   "execution_count": 2,
   "metadata": {},
   "outputs": [],
   "source": [
    "# nltk.download('punkt')"
   ]
  },
  {
   "cell_type": "markdown",
   "metadata": {
    "id": "EYYLljVTmbym"
   },
   "source": [
    "# Reading texts from Turkmen Wiki"
   ]
  },
  {
   "cell_type": "code",
   "execution_count": 3,
   "metadata": {
    "executionInfo": {
     "elapsed": 260,
     "status": "ok",
     "timestamp": 1641572059126,
     "user": {
      "displayName": "Юлия Ловчикова",
      "photoUrl": "https://lh3.googleusercontent.com/a/default-user=s64",
      "userId": "01035662716647446064"
     },
     "user_tz": -180
    },
    "id": "FWlLuaPqmYj9"
   },
   "outputs": [],
   "source": [
    "def split_keep_sep(string: str, sep: str) -> list:\n",
    "    cleaned = []\n",
    "    string = re.split('(%s)' % re.escape(sep), string)\n",
    "    for _ in string:\n",
    "        if _ != '' and _ != sep:\n",
    "            cleaned.append(sep + _)\n",
    "    return cleaned\n",
    "\n",
    "def remove_html_tags(text: str) -> str:\n",
    "    clean = re.compile('<.*?>')\n",
    "    return re.sub(clean, '', text)\n",
    "\n",
    "def remove_special_chars(text: str, char_list: list) -> str:\n",
    "    for char in char_list:\n",
    "        text = text.replace(char, '')\n",
    "    return text.replace(u'\\xa0', u' ')\n",
    "\n",
    "def process_wiki_file(wiki_file: str) -> pd.DataFrame:\n",
    "    chars = ['\\n']\n",
    "    with open(wiki_file, encoding='utf-8') as f:\n",
    "        content = f.read()\n",
    "    articles = split_keep_sep(content, '<doc id=')\n",
    "    dataframe = pd.DataFrame(columns=['article'])\n",
    "    for num, article in enumerate(articles):\n",
    "        article = remove_special_chars(remove_html_tags(article), chars)\n",
    "        if len(article.split()) < 50:\n",
    "            continue\n",
    "        dataframe = dataframe.append({'article': article}, ignore_index=True)\n",
    "    return dataframe"
   ]
  },
  {
   "cell_type": "code",
   "execution_count": 4,
   "metadata": {},
   "outputs": [],
   "source": [
    "wiki_files = []\n",
    "for filename in glob.iglob(\"TurkmenWiki/*/*\"):\n",
    "    wiki_files.append(filename)"
   ]
  },
  {
   "cell_type": "code",
   "execution_count": 5,
   "metadata": {},
   "outputs": [
    {
     "name": "stderr",
     "output_type": "stream",
     "text": [
      "100%|█████████████████████████████████████████| 133/133 [00:39<00:00,  3.34it/s]\n"
     ]
    }
   ],
   "source": [
    "dataframe = pd.DataFrame()\n",
    "for file_name in tqdm(wiki_files):\n",
    "    dataframe_file = process_wiki_file(file_name)\n",
    "    dataframe = pd.concat([dataframe, dataframe_file])\n",
    "dataframe.reset_index(drop=True, inplace=True)"
   ]
  },
  {
   "cell_type": "code",
   "execution_count": 6,
   "metadata": {},
   "outputs": [],
   "source": [
    "dataframe.to_csv(\"TurkmenWikiTexts.csv\", index=False)"
   ]
  },
  {
   "cell_type": "markdown",
   "metadata": {},
   "source": [
    "# Check"
   ]
  },
  {
   "cell_type": "code",
   "execution_count": 7,
   "metadata": {},
   "outputs": [],
   "source": [
    "dataframe = pd.read_csv(\"TurkmenWikiTexts.csv\")"
   ]
  },
  {
   "cell_type": "code",
   "execution_count": 8,
   "metadata": {},
   "outputs": [
    {
     "data": {
      "text/html": [
       "<div>\n",
       "<style scoped>\n",
       "    .dataframe tbody tr th:only-of-type {\n",
       "        vertical-align: middle;\n",
       "    }\n",
       "\n",
       "    .dataframe tbody tr th {\n",
       "        vertical-align: top;\n",
       "    }\n",
       "\n",
       "    .dataframe thead th {\n",
       "        text-align: right;\n",
       "    }\n",
       "</style>\n",
       "<table border=\"1\" class=\"dataframe\">\n",
       "  <thead>\n",
       "    <tr style=\"text-align: right;\">\n",
       "      <th></th>\n",
       "      <th>article</th>\n",
       "    </tr>\n",
       "  </thead>\n",
       "  <tbody>\n",
       "    <tr>\n",
       "      <th>0</th>\n",
       "      <td>Evenklar muxtor okrugiEvenklar muxtor okrugi, ...</td>\n",
       "    </tr>\n",
       "    <tr>\n",
       "      <th>1</th>\n",
       "      <td>EvkaliptEvkalipt (Yeisa1urgi8) — mirtadoshlarg...</td>\n",
       "    </tr>\n",
       "    <tr>\n",
       "      <th>2</th>\n",
       "      <td>EvklazEvklaz (yun. — yaxshi, yengil va — buzil...</td>\n",
       "    </tr>\n",
       "    <tr>\n",
       "      <th>3</th>\n",
       "      <td>EvkommiyaEvkommiya (Yeisotppa) — evkommiyadosh...</td>\n",
       "    </tr>\n",
       "    <tr>\n",
       "      <th>4</th>\n",
       "      <td>Evolventa va evolyutaEvolventa va evolyuta (lo...</td>\n",
       "    </tr>\n",
       "    <tr>\n",
       "      <th>...</th>\n",
       "      <td>...</td>\n",
       "    </tr>\n",
       "    <tr>\n",
       "      <th>35217</th>\n",
       "      <td>Roswell (Georgia)Roswell AQShning Georgia shta...</td>\n",
       "    </tr>\n",
       "    <tr>\n",
       "      <th>35218</th>\n",
       "      <td>West Point (Georgia)West Point AQShning Georgi...</td>\n",
       "    </tr>\n",
       "    <tr>\n",
       "      <th>35219</th>\n",
       "      <td>Allentown (Georgia)Allentown AQShning Georgia ...</td>\n",
       "    </tr>\n",
       "    <tr>\n",
       "      <th>35220</th>\n",
       "      <td>Bayanavul (tuman)Bayanavul tumani — Pavlodar v...</td>\n",
       "    </tr>\n",
       "    <tr>\n",
       "      <th>35221</th>\n",
       "      <td>Viete formulalariViete formulalari () — koʻpha...</td>\n",
       "    </tr>\n",
       "  </tbody>\n",
       "</table>\n",
       "<p>35222 rows × 1 columns</p>\n",
       "</div>"
      ],
      "text/plain": [
       "                                                 article\n",
       "0      Evenklar muxtor okrugiEvenklar muxtor okrugi, ...\n",
       "1      EvkaliptEvkalipt (Yeisa1urgi8) — mirtadoshlarg...\n",
       "2      EvklazEvklaz (yun. — yaxshi, yengil va — buzil...\n",
       "3      EvkommiyaEvkommiya (Yeisotppa) — evkommiyadosh...\n",
       "4      Evolventa va evolyutaEvolventa va evolyuta (lo...\n",
       "...                                                  ...\n",
       "35217  Roswell (Georgia)Roswell AQShning Georgia shta...\n",
       "35218  West Point (Georgia)West Point AQShning Georgi...\n",
       "35219  Allentown (Georgia)Allentown AQShning Georgia ...\n",
       "35220  Bayanavul (tuman)Bayanavul tumani — Pavlodar v...\n",
       "35221  Viete formulalariViete formulalari () — koʻpha...\n",
       "\n",
       "[35222 rows x 1 columns]"
      ]
     },
     "execution_count": 8,
     "metadata": {},
     "output_type": "execute_result"
    }
   ],
   "source": [
    "dataframe"
   ]
  },
  {
   "cell_type": "code",
   "execution_count": null,
   "metadata": {},
   "outputs": [],
   "source": []
  }
 ],
 "metadata": {
  "colab": {
   "authorship_tag": "ABX9TyPP2anUoDkp0WgymSGEnT5a",
   "collapsed_sections": [
    "EvKLls3Ol-vr",
    "EYYLljVTmbym"
   ],
   "mount_file_id": "16k9tBMciW7usx9adm1fkWPtKUFoG-jcy",
   "name": "ReadWiki.ipynb",
   "provenance": []
  },
  "kernelspec": {
   "display_name": "Python 3 (ipykernel)",
   "language": "python",
   "name": "python3"
  },
  "language_info": {
   "codemirror_mode": {
    "name": "ipython",
    "version": 3
   },
   "file_extension": ".py",
   "mimetype": "text/x-python",
   "name": "python",
   "nbconvert_exporter": "python",
   "pygments_lexer": "ipython3",
   "version": "3.9.7"
  }
 },
 "nbformat": 4,
 "nbformat_minor": 1
}
