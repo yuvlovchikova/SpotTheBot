{
 "cells": [
  {
   "cell_type": "markdown",
   "id": "87647cf6",
   "metadata": {},
   "source": [
    "# Import"
   ]
  },
  {
   "cell_type": "code",
   "execution_count": null,
   "id": "5dc7acd0",
   "metadata": {},
   "outputs": [],
   "source": [
    "import numpy as np\n",
    "from scipy.sparse.linalg import svds"
   ]
  },
  {
   "cell_type": "code",
   "execution_count": null,
   "id": "b551c218",
   "metadata": {},
   "outputs": [],
   "source": [
    "K = 1024"
   ]
  },
  {
   "cell_type": "markdown",
   "id": "e3698529",
   "metadata": {},
   "source": [
    "# SVD"
   ]
  },
  {
   "cell_type": "code",
   "execution_count": null,
   "id": "ef11b858",
   "metadata": {},
   "outputs": [],
   "source": [
    "matrix_doc_word = np.load(\"MATRIX_DOC_WORD.npy\")"
   ]
  },
  {
   "cell_type": "code",
   "execution_count": null,
   "id": "2a52b173",
   "metadata": {
    "scrolled": true
   },
   "outputs": [],
   "source": [
    "u, sigma, vt = svds(matrix_doc_word.T, K)"
   ]
  },
  {
   "cell_type": "code",
   "execution_count": null,
   "id": "079b60ad",
   "metadata": {},
   "outputs": [],
   "source": [
    "np.save(\"U\", u)\n",
    "np.save(\"Sigma\", sigma)\n",
    "np.save(\"VT\", vt)"
   ]
  },
  {
   "cell_type": "markdown",
   "id": "d90f1b2a",
   "metadata": {},
   "source": [
    "# Check"
   ]
  },
  {
   "cell_type": "code",
   "execution_count": null,
   "id": "93913f05",
   "metadata": {},
   "outputs": [],
   "source": [
    "u = np.load(\"U.npy\")\n",
    "sigma = np.load(\"Sigma.npy\")\n",
    "vt = np.load(\"VT.npy\")"
   ]
  },
  {
   "cell_type": "code",
   "execution_count": null,
   "id": "f64a4977",
   "metadata": {},
   "outputs": [],
   "source": [
    "u.shape"
   ]
  },
  {
   "cell_type": "code",
   "execution_count": null,
   "id": "6aa1e0b2",
   "metadata": {},
   "outputs": [],
   "source": [
    "sigma.shape"
   ]
  },
  {
   "cell_type": "code",
   "execution_count": null,
   "id": "e59e2934",
   "metadata": {},
   "outputs": [],
   "source": [
    "vt.shape"
   ]
  },
  {
   "cell_type": "code",
   "execution_count": null,
   "id": "1c15eb4c",
   "metadata": {},
   "outputs": [],
   "source": []
  }
 ],
 "metadata": {
  "kernelspec": {
   "display_name": "Python 3 (ipykernel)",
   "language": "python",
   "name": "python3"
  },
  "language_info": {
   "codemirror_mode": {
    "name": "ipython",
    "version": 3
   },
   "file_extension": ".py",
   "mimetype": "text/x-python",
   "name": "python",
   "nbconvert_exporter": "python",
   "pygments_lexer": "ipython3",
   "version": "3.9.7"
  }
 },
 "nbformat": 4,
 "nbformat_minor": 5
}
