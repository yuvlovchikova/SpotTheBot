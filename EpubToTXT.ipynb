{
 "cells": [
  {
   "cell_type": "code",
   "execution_count": null,
   "id": "cf9dde53",
   "metadata": {},
   "outputs": [],
   "source": [
    "import re\n",
    "import glob\n",
    "import numpy as np\n",
    "import pandas as pd\n",
    "from tqdm import tqdm\n",
    "from epub_conversion.utils import open_book, convert_epub_to_lines\n",
    "from xml.parsers.expat import ExpatError"
   ]
  },
  {
   "cell_type": "code",
   "execution_count": null,
   "id": "8f069128",
   "metadata": {},
   "outputs": [],
   "source": [
    "def save_txt(text: str, save_path: str, file_name: str):\n",
    "    file = open(save_path + file_name + '.txt', 'w')\n",
    "    file.write(text)\n",
    "    file.close()\n",
    "\n",
    "def collect_files(path: str) -> list:\n",
    "    files = []\n",
    "    for filename in glob.iglob(path + \"*\"):\n",
    "        files.append(filename)\n",
    "    return files"
   ]
  },
  {
   "cell_type": "code",
   "execution_count": null,
   "id": "153d09da",
   "metadata": {},
   "outputs": [],
   "source": [
    "EPUB_PATH = \"/Users/yuvlo/Spot-the-bot/English/EngBooks/\"\n",
    "SAVE_PATH = \"/Users/yuvlo/Spot-the-bot/English/EngBooksTXT3000/\""
   ]
  },
  {
   "cell_type": "code",
   "execution_count": null,
   "id": "7a639f76",
   "metadata": {},
   "outputs": [],
   "source": [
    "epub_files = collect_files(EPUB_PATH)"
   ]
  },
  {
   "cell_type": "code",
   "execution_count": null,
   "id": "91b0a942",
   "metadata": {},
   "outputs": [],
   "source": [
    "book_num = 0\n",
    "for i in tqdm(range(0, len(epub_files))):\n",
    "    try:\n",
    "        book = open_book(epub_files[i])\n",
    "        if book is None:\n",
    "            continue\n",
    "        lines = convert_epub_to_lines(book)\n",
    "    except Exception:\n",
    "        continue\n",
    "    text = ' '.join(lines)\n",
    "    book_name_index = epub_files[0].rfind('/') + 1\n",
    "    book_name = epub_files[i][book_name_index:][:-5]\n",
    "    file_name = \"book_\" + str(book_num) + ' ' + book_name\n",
    "    save_txt(text, SAVE_PATH, file_name)\n",
    "    book_num += 1"
   ]
  },
  {
   "cell_type": "code",
   "execution_count": null,
   "id": "a2949dfa",
   "metadata": {},
   "outputs": [],
   "source": []
  }
 ],
 "metadata": {
  "kernelspec": {
   "display_name": "Python 3 (ipykernel)",
   "language": "python",
   "name": "python3"
  },
  "language_info": {
   "codemirror_mode": {
    "name": "ipython",
    "version": 3
   },
   "file_extension": ".py",
   "mimetype": "text/x-python",
   "name": "python",
   "nbconvert_exporter": "python",
   "pygments_lexer": "ipython3",
   "version": "3.9.7"
  }
 },
 "nbformat": 4,
 "nbformat_minor": 5
}
