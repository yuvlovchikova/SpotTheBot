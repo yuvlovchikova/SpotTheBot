{
 "cells": [
  {
   "cell_type": "code",
   "execution_count": 1,
   "id": "0b1bb89d",
   "metadata": {},
   "outputs": [],
   "source": [
    "from graph_utils import *\n",
    "import networkx as nx\n",
    "import numpy as np\n",
    "import matplotlib.pyplot as plt\n",
    "from scipy.stats import shapiro, normaltest, anderson\n",
    "from IPython.display import clear_output"
   ]
  },
  {
   "cell_type": "markdown",
   "id": "a1b14059",
   "metadata": {},
   "source": [
    "# Характеристики графа относительного соседства (vector length 6)"
   ]
  },
  {
   "cell_type": "code",
   "execution_count": 2,
   "id": "98533587",
   "metadata": {},
   "outputs": [
    {
     "name": "stderr",
     "output_type": "stream",
     "text": [
      "100%|████████████████████████████████| 211648/211648 [00:02<00:00, 90836.08it/s]\n"
     ]
    }
   ],
   "source": [
    "rng_ru = np.load(\"/Users/yuvlo/Spot-the-bot/Graph/GraphCheck/6_rng_ru.npy\", allow_pickle=True).take(0)\n",
    "\n",
    "rng_ru_6 = nx.Graph()\n",
    "my_rng_ru_6 = GG(rng_ru)\n",
    "\n",
    "edges = my_rng_ru_6.get_weighted_edges()\n",
    "rng_ru_6.add_weighted_edges_from(edges)"
   ]
  },
  {
   "cell_type": "markdown",
   "id": "6627a3c4",
   "metadata": {},
   "source": [
    "## Распределение степеней"
   ]
  },
  {
   "cell_type": "code",
   "execution_count": 3,
   "id": "83561934",
   "metadata": {},
   "outputs": [],
   "source": [
    "def plot_graph_degrees(degrees: list, k: int, x_max: int, y_max: int = 20000, size: tuple = (10, 8)):\n",
    "    degrees = np.array(degrees)\n",
    "    y = []\n",
    "    xs = [x for x in range(x_max)]\n",
    "    for x in xs:\n",
    "        y.append(len(degrees[degrees == x]))\n",
    "    plt.figure(figsize=size)\n",
    "    plt.bar(x=xs, height=y)\n",
    "    plt.xticks(xs, rotation=45)\n",
    "    plt.grid()\n",
    "    plt.title(f\"Распределение степеней графа относительного соседства при размере вектора {k}\")\n",
    "    plt.ylabel(\"Кол-во вершин\")\n",
    "    plt.xlabel(\"Кол-во соседей\")\n",
    "    plt.ylim(0, y_max)\n",
    "    plt.show()\n",
    "    return y"
   ]
  },
  {
   "cell_type": "code",
   "execution_count": 4,
   "id": "a9bd009a",
   "metadata": {},
   "outputs": [],
   "source": [
    "graph_degrees = my_rng_ru_6.get_graph_degrees()"
   ]
  },
  {
   "cell_type": "code",
   "execution_count": 5,
   "id": "ac495623",
   "metadata": {},
   "outputs": [
    {
     "data": {
      "image/png": "[encoded data removed]",
      "text/plain": [
       "<Figure size 1440x576 with 1 Axes>"
      ]
     },
     "metadata": {
      "needs_background": "light"
     },
     "output_type": "display_data"
    }
   ],
   "source": [
    "y = plot_graph_degrees(graph_degrees, k=6, x_max=9, y_max=30000, size=(20, 8))"
   ]
  },
  {
   "cell_type": "code",
   "execution_count": 9,
   "id": "ce62e3f5",
   "metadata": {},
   "outputs": [
    {
     "data": {
      "text/plain": [
       "11773"
      ]
     },
     "execution_count": 9,
     "metadata": {},
     "output_type": "execute_result"
    }
   ],
   "source": [
    "y[0]"
   ]
  },
  {
   "cell_type": "code",
   "execution_count": 6,
   "id": "9d4424e0",
   "metadata": {},
   "outputs": [
    {
     "data": {
      "text/plain": [
       "[1952, 7047, 15862, 23510, 22963, 14781, 6259, 1818]"
      ]
     },
     "execution_count": 6,
     "metadata": {},
     "output_type": "execute_result"
    }
   ],
   "source": [
    "y[1:]"
   ]
  },
  {
   "cell_type": "code",
   "execution_count": 10,
   "id": "615893e3",
   "metadata": {},
   "outputs": [
    {
     "data": {
      "text/plain": [
       "94192"
      ]
     },
     "execution_count": 10,
     "metadata": {},
     "output_type": "execute_result"
    }
   ],
   "source": [
    "sum(y[1:])"
   ]
  },
  {
   "cell_type": "code",
   "execution_count": 7,
   "id": "8579ae95",
   "metadata": {},
   "outputs": [
    {
     "name": "stderr",
     "output_type": "stream",
     "text": [
      "/Users/yuvlo/opt/anaconda3/lib/python3.9/site-packages/scipy/stats/stats.py:1541: UserWarning: kurtosistest only valid for n>=20 ... continuing anyway, n=8\n",
      "  warnings.warn(\"kurtosistest only valid for n>=20 ... continuing \"\n"
     ]
    }
   ],
   "source": [
    "stat, p = normaltest(y[1:])"
   ]
  },
  {
   "cell_type": "code",
   "execution_count": 8,
   "id": "132d839c",
   "metadata": {},
   "outputs": [
    {
     "data": {
      "text/plain": [
       "0.39743057344838156"
      ]
     },
     "execution_count": 8,
     "metadata": {},
     "output_type": "execute_result"
    }
   ],
   "source": [
    "p"
   ]
  },
  {
   "cell_type": "code",
   "execution_count": 16,
   "id": "21cc395a",
   "metadata": {},
   "outputs": [
    {
     "data": {
      "text/plain": [
       "ShapiroResult(statistic=0.8921946287155151, pvalue=0.24525682628154755)"
      ]
     },
     "execution_count": 16,
     "metadata": {},
     "output_type": "execute_result"
    }
   ],
   "source": [
    "shapiro(y[1:])"
   ]
  },
  {
   "cell_type": "code",
   "execution_count": 17,
   "id": "f449b696",
   "metadata": {},
   "outputs": [
    {
     "data": {
      "text/plain": [
       "False"
      ]
     },
     "execution_count": 17,
     "metadata": {},
     "output_type": "execute_result"
    }
   ],
   "source": [
    "nx.is_connected(rng_ru_6)"
   ]
  },
  {
   "cell_type": "code",
   "execution_count": 19,
   "id": "83ba4ba4",
   "metadata": {},
   "outputs": [],
   "source": [
    "components_len = list(map(lambda component: len(component), list(nx.connected_components(rng_ru_6))))"
   ]
  },
  {
   "cell_type": "code",
   "execution_count": 45,
   "id": "ac07fc5e",
   "metadata": {},
   "outputs": [],
   "source": [
    "rng_c = rng_ru_6.subgraph(list(nx.connected_components(rng_ru_6))[0])"
   ]
  },
  {
   "cell_type": "code",
   "execution_count": 46,
   "id": "6070c8ea",
   "metadata": {},
   "outputs": [],
   "source": [
    "d = nx.single_source_dijkstra_path_length(rng_c, 'это')"
   ]
  },
  {
   "cell_type": "code",
   "execution_count": 50,
   "id": "cf815e93",
   "metadata": {},
   "outputs": [
    {
     "data": {
      "text/plain": [
       "'это'"
      ]
     },
     "execution_count": 50,
     "metadata": {},
     "output_type": "execute_result"
    }
   ],
   "source": [
    "min(d, key=d.get)"
   ]
  },
  {
   "cell_type": "code",
   "execution_count": 88,
   "id": "a7e2186f",
   "metadata": {},
   "outputs": [],
   "source": [
    "\"\"\"\n",
    "Compute the shortest paths and path lengths between nodes in the graph.\n",
    "\n",
    "These algorithms work with undirected and directed graphs.\n",
    "\n",
    "\"\"\"\n",
    "\n",
    "import networkx as nx\n",
    "\n",
    "def has_path(G, source, target):\n",
    "    \"\"\"Returns *True* if *G* has a path from *source* to *target*.\n",
    "\n",
    "    Parameters\n",
    "    ----------\n",
    "    G : NetworkX graph\n",
    "\n",
    "    source : node\n",
    "       Starting node for path\n",
    "\n",
    "    target : node\n",
    "       Ending node for path\n",
    "    \"\"\"\n",
    "    try:\n",
    "        nx.shortest_path(G, source, target)\n",
    "    except nx.NetworkXNoPath:\n",
    "        return False\n",
    "    return True\n",
    "\n",
    "\n",
    "\n",
    "def shortest_path(G, source=None, target=None, weight=None, method=\"dijkstra\"):\n",
    "    \"\"\"Compute shortest paths in the graph.\n",
    "\n",
    "    Parameters\n",
    "    ----------\n",
    "    G : NetworkX graph\n",
    "\n",
    "    source : node, optional\n",
    "        Starting node for path. If not specified, compute shortest\n",
    "        paths for each possible starting node.\n",
    "\n",
    "    target : node, optional\n",
    "        Ending node for path. If not specified, compute shortest\n",
    "        paths to all possible nodes.\n",
    "\n",
    "    weight : None, string or function, optional (default = None)\n",
    "        If None, every edge has weight/distance/cost 1.\n",
    "        If a string, use this edge attribute as the edge weight.\n",
    "        Any edge attribute not present defaults to 1.\n",
    "        If this is a function, the weight of an edge is the value\n",
    "        returned by the function. The function must accept exactly\n",
    "        three positional arguments: the two endpoints of an edge and\n",
    "        the dictionary of edge attributes for that edge.\n",
    "        The function must return a number.\n",
    "\n",
    "    method : string, optional (default = 'dijkstra')\n",
    "        The algorithm to use to compute the path.\n",
    "        Supported options: 'dijkstra', 'bellman-ford'.\n",
    "        Other inputs produce a ValueError.\n",
    "        If `weight` is None, unweighted graph methods are used, and this\n",
    "        suggestion is ignored.\n",
    "\n",
    "    Returns\n",
    "    -------\n",
    "    path: list or dictionary\n",
    "        All returned paths include both the source and target in the path.\n",
    "\n",
    "        If the source and target are both specified, return a single list\n",
    "        of nodes in a shortest path from the source to the target.\n",
    "\n",
    "        If only the source is specified, return a dictionary keyed by\n",
    "        targets with a list of nodes in a shortest path from the source\n",
    "        to one of the targets.\n",
    "\n",
    "        If only the target is specified, return a dictionary keyed by\n",
    "        sources with a list of nodes in a shortest path from one of the\n",
    "        sources to the target.\n",
    "\n",
    "        If neither the source nor target are specified return a dictionary\n",
    "        of dictionaries with path[source][target]=[list of nodes in path].\n",
    "\n",
    "    Raises\n",
    "    ------\n",
    "    NodeNotFound\n",
    "        If `source` is not in `G`.\n",
    "\n",
    "    ValueError\n",
    "        If `method` is not among the supported options.\n",
    "\n",
    "    Examples\n",
    "    --------\n",
    "    >>> G = nx.path_graph(5)\n",
    "    >>> print(nx.shortest_path(G, source=0, target=4))\n",
    "    [0, 1, 2, 3, 4]\n",
    "    >>> p = nx.shortest_path(G, source=0)  # target not specified\n",
    "    >>> p[3] # shortest path from source=0 to target=3\n",
    "    [0, 1, 2, 3]\n",
    "    >>> p = nx.shortest_path(G, target=4)  # source not specified\n",
    "    >>> p[1] # shortest path from source=1 to target=4\n",
    "    [1, 2, 3, 4]\n",
    "    >>> p = nx.shortest_path(G)  # source, target not specified\n",
    "    >>> p[2][4] # shortest path from source=2 to target=4\n",
    "    [2, 3, 4]\n",
    "\n",
    "    Notes\n",
    "    -----\n",
    "    There may be more than one shortest path between a source and target.\n",
    "    This returns only one of them.\n",
    "\n",
    "    See Also\n",
    "    --------\n",
    "    all_pairs_shortest_path\n",
    "    all_pairs_dijkstra_path\n",
    "    all_pairs_bellman_ford_path\n",
    "    single_source_shortest_path\n",
    "    single_source_dijkstra_path\n",
    "    single_source_bellman_ford_path\n",
    "    \"\"\"\n",
    "    if method not in (\"dijkstra\", \"bellman-ford\"):\n",
    "        # so we don't need to check in each branch later\n",
    "        raise ValueError(f\"method not supported: {method}\")\n",
    "    method = \"unweighted\" if weight is None else method\n",
    "    if source is None:\n",
    "        if target is None:\n",
    "            # Find paths between all pairs.\n",
    "            if method == \"unweighted\":\n",
    "                paths = dict(nx.all_pairs_shortest_path(G))\n",
    "            elif method == \"dijkstra\":\n",
    "                paths = dict(nx.all_pairs_dijkstra_path(G, weight=weight))\n",
    "            else:  # method == 'bellman-ford':\n",
    "                paths = dict(nx.all_pairs_bellman_ford_path(G, weight=weight))\n",
    "        else:\n",
    "            # Find paths from all nodes co-accessible to the target.\n",
    "            if G.is_directed():\n",
    "                G = G.reverse(copy=False)\n",
    "            if method == \"unweighted\":\n",
    "                paths = nx.single_source_shortest_path(G, target)\n",
    "            elif method == \"dijkstra\":\n",
    "                paths = nx.single_source_dijkstra_path(G, target, weight=weight)\n",
    "            else:  # method == 'bellman-ford':\n",
    "                paths = nx.single_source_bellman_ford_path(G, target, weight=weight)\n",
    "            # Now flip the paths so they go from a source to the target.\n",
    "            for target in paths:\n",
    "                paths[target] = list(reversed(paths[target]))\n",
    "    else:\n",
    "        if target is None:\n",
    "            # Find paths to all nodes accessible from the source.\n",
    "            if method == \"unweighted\":\n",
    "                paths = nx.single_source_shortest_path(G, source)\n",
    "            elif method == \"dijkstra\":\n",
    "                paths = nx.single_source_dijkstra_path(G, source, weight=weight)\n",
    "            else:  # method == 'bellman-ford':\n",
    "                paths = nx.single_source_bellman_ford_path(G, source, weight=weight)\n",
    "        else:\n",
    "            # Find shortest source-target path.\n",
    "            if method == \"unweighted\":\n",
    "                paths = nx.bidirectional_shortest_path(G, source, target)\n",
    "            elif method == \"dijkstra\":\n",
    "                _, paths = nx.bidirectional_dijkstra(G, source, target, weight)\n",
    "            else:  # method == 'bellman-ford':\n",
    "                paths = nx.bellman_ford_path(G, source, target, weight)\n",
    "    return paths\n",
    "\n",
    "\n",
    "\n",
    "def shortest_path_length(G, source=None, target=None, weight=None, method=\"dijkstra\"):\n",
    "    \"\"\"Compute shortest path lengths in the graph.\n",
    "\n",
    "    Parameters\n",
    "    ----------\n",
    "    G : NetworkX graph\n",
    "\n",
    "    source : node, optional\n",
    "        Starting node for path.\n",
    "        If not specified, compute shortest path lengths using all nodes as\n",
    "        source nodes.\n",
    "\n",
    "    target : node, optional\n",
    "        Ending node for path.\n",
    "        If not specified, compute shortest path lengths using all nodes as\n",
    "        target nodes.\n",
    "\n",
    "    weight : None, string or function, optional (default = None)\n",
    "        If None, every edge has weight/distance/cost 1.\n",
    "        If a string, use this edge attribute as the edge weight.\n",
    "        Any edge attribute not present defaults to 1.\n",
    "        If this is a function, the weight of an edge is the value\n",
    "        returned by the function. The function must accept exactly\n",
    "        three positional arguments: the two endpoints of an edge and\n",
    "        the dictionary of edge attributes for that edge.\n",
    "        The function must return a number.\n",
    "\n",
    "    method : string, optional (default = 'dijkstra')\n",
    "        The algorithm to use to compute the path length.\n",
    "        Supported options: 'dijkstra', 'bellman-ford'.\n",
    "        Other inputs produce a ValueError.\n",
    "        If `weight` is None, unweighted graph methods are used, and this\n",
    "        suggestion is ignored.\n",
    "\n",
    "    Returns\n",
    "    -------\n",
    "    length: int or iterator\n",
    "        If the source and target are both specified, return the length of\n",
    "        the shortest path from the source to the target.\n",
    "\n",
    "        If only the source is specified, return a dict keyed by target\n",
    "        to the shortest path length from the source to that target.\n",
    "\n",
    "        If only the target is specified, return a dict keyed by source\n",
    "        to the shortest path length from that source to the target.\n",
    "\n",
    "        If neither the source nor target are specified, return an iterator\n",
    "        over (source, dictionary) where dictionary is keyed by target to\n",
    "        shortest path length from source to that target.\n",
    "\n",
    "    Raises\n",
    "    ------\n",
    "    NodeNotFound\n",
    "        If `source` is not in `G`.\n",
    "\n",
    "    NetworkXNoPath\n",
    "        If no path exists between source and target.\n",
    "\n",
    "    ValueError\n",
    "        If `method` is not among the supported options.\n",
    "\n",
    "    Examples\n",
    "    --------\n",
    "    >>> G = nx.path_graph(5)\n",
    "    >>> nx.shortest_path_length(G, source=0, target=4)\n",
    "    4\n",
    "    >>> p = nx.shortest_path_length(G, source=0)  # target not specified\n",
    "    >>> p[4]\n",
    "    4\n",
    "    >>> p = nx.shortest_path_length(G, target=4)  # source not specified\n",
    "    >>> p[0]\n",
    "    4\n",
    "    >>> p = dict(nx.shortest_path_length(G))  # source,target not specified\n",
    "    >>> p[0][4]\n",
    "    4\n",
    "\n",
    "    Notes\n",
    "    -----\n",
    "    The length of the path is always 1 less than the number of nodes involved\n",
    "    in the path since the length measures the number of edges followed.\n",
    "\n",
    "    For digraphs this returns the shortest directed path length. To find path\n",
    "    lengths in the reverse direction use G.reverse(copy=False) first to flip\n",
    "    the edge orientation.\n",
    "\n",
    "    See Also\n",
    "    --------\n",
    "    all_pairs_shortest_path_length\n",
    "    all_pairs_dijkstra_path_length\n",
    "    all_pairs_bellman_ford_path_length\n",
    "    single_source_shortest_path_length\n",
    "    single_source_dijkstra_path_length\n",
    "    single_source_bellman_ford_path_length\n",
    "    \"\"\"\n",
    "    if method not in (\"dijkstra\", \"bellman-ford\"):\n",
    "        # so we don't need to check in each branch later\n",
    "        raise ValueError(f\"method not supported: {method}\")\n",
    "    method = \"unweighted\" if weight is None else method\n",
    "    if source is None:\n",
    "        if target is None:\n",
    "            # Find paths between all pairs.\n",
    "            if method == \"unweighted\":\n",
    "                paths = nx.all_pairs_shortest_path_length(G)\n",
    "            elif method == \"dijkstra\":\n",
    "                paths = nx.all_pairs_dijkstra_path_length(G, weight=weight)\n",
    "            else:  # method == 'bellman-ford':\n",
    "                paths = nx.all_pairs_bellman_ford_path_length(G, weight=weight)\n",
    "        else:\n",
    "            # Find paths from all nodes co-accessible to the target.\n",
    "            if G.is_directed():\n",
    "                G = G.reverse(copy=False)\n",
    "            if method == \"unweighted\":\n",
    "                path_length = nx.single_source_shortest_path_length\n",
    "                paths = path_length(G, target)\n",
    "            elif method == \"dijkstra\":\n",
    "                path_length = nx.single_source_dijkstra_path_length\n",
    "                paths = path_length(G, target, weight=weight)\n",
    "            else:  # method == 'bellman-ford':\n",
    "                path_length = nx.single_source_bellman_ford_path_length\n",
    "                paths = path_length(G, target, weight=weight)\n",
    "    else:\n",
    "        if target is None:\n",
    "            # Find paths to all nodes accessible from the source.\n",
    "            if method == \"unweighted\":\n",
    "                paths = nx.single_source_shortest_path_length(G, source)\n",
    "            elif method == \"dijkstra\":\n",
    "                path_length = nx.single_source_dijkstra_path_length\n",
    "                paths = path_length(G, source, weight=weight)\n",
    "            else:  # method == 'bellman-ford':\n",
    "                path_length = nx.single_source_bellman_ford_path_length\n",
    "                paths = path_length(G, source, weight=weight)\n",
    "        else:\n",
    "            # Find shortest source-target path.\n",
    "            if method == \"unweighted\":\n",
    "                p = nx.bidirectional_shortest_path(G, source, target)\n",
    "                paths = len(p) - 1\n",
    "            elif method == \"dijkstra\":\n",
    "                paths = nx.dijkstra_path_length(G, source, target, weight)\n",
    "            else:  # method == 'bellman-ford':\n",
    "                paths = nx.bellman_ford_path_length(G, source, target, weight)\n",
    "    return paths\n",
    "\n",
    "\n",
    "\n",
    "def average_shortest_path_length(G, weight=None, method=None):\n",
    "    r\"\"\"Returns the average shortest path length.\n",
    "\n",
    "    The average shortest path length is\n",
    "\n",
    "    .. math::\n",
    "\n",
    "       a =\\sum_{s,t \\in V} \\frac{d(s, t)}{n(n-1)}\n",
    "\n",
    "    where `V` is the set of nodes in `G`,\n",
    "    `d(s, t)` is the shortest path from `s` to `t`,\n",
    "    and `n` is the number of nodes in `G`.\n",
    "\n",
    "    Parameters\n",
    "    ----------\n",
    "    G : NetworkX graph\n",
    "\n",
    "    weight : None, string or function, optional (default = None)\n",
    "        If None, every edge has weight/distance/cost 1.\n",
    "        If a string, use this edge attribute as the edge weight.\n",
    "        Any edge attribute not present defaults to 1.\n",
    "        If this is a function, the weight of an edge is the value\n",
    "        returned by the function. The function must accept exactly\n",
    "        three positional arguments: the two endpoints of an edge and\n",
    "        the dictionary of edge attributes for that edge.\n",
    "        The function must return a number.\n",
    "\n",
    "    method : string, optional (default = 'unweighted' or 'djikstra')\n",
    "        The algorithm to use to compute the path lengths.\n",
    "        Supported options are 'unweighted', 'dijkstra', 'bellman-ford',\n",
    "        'floyd-warshall' and 'floyd-warshall-numpy'.\n",
    "        Other method values produce a ValueError.\n",
    "        The default method is 'unweighted' if `weight` is None,\n",
    "        otherwise the default method is 'dijkstra'.\n",
    "\n",
    "    Raises\n",
    "    ------\n",
    "    NetworkXPointlessConcept\n",
    "        If `G` is the null graph (that is, the graph on zero nodes).\n",
    "\n",
    "    NetworkXError\n",
    "        If `G` is not connected (or not weakly connected, in the case\n",
    "        of a directed graph).\n",
    "\n",
    "    ValueError\n",
    "        If `method` is not among the supported options.\n",
    "\n",
    "    Examples\n",
    "    --------\n",
    "    >>> G = nx.path_graph(5)\n",
    "    >>> nx.average_shortest_path_length(G)\n",
    "    2.0\n",
    "\n",
    "    For disconnected graphs, you can compute the average shortest path\n",
    "    length for each component\n",
    "\n",
    "    >>> G = nx.Graph([(1, 2), (3, 4)])\n",
    "    >>> for C in (G.subgraph(c).copy() for c in nx.connected_components(G)):\n",
    "    ...     print(nx.average_shortest_path_length(C))\n",
    "    1.0\n",
    "    1.0\n",
    "\n",
    "    \"\"\"\n",
    "    single_source_methods = [\"unweighted\", \"dijkstra\", \"bellman-ford\"]\n",
    "    all_pairs_methods = [\"floyd-warshall\", \"floyd-warshall-numpy\"]\n",
    "    supported_methods = single_source_methods + all_pairs_methods\n",
    "\n",
    "    if method is None:\n",
    "        method = \"unweighted\" if weight is None else \"dijkstra\"\n",
    "    if method not in supported_methods:\n",
    "        raise ValueError(f\"method not supported: {method}\")\n",
    "\n",
    "    n = len(G)\n",
    "    # For the special case of the null graph, raise an exception, since\n",
    "    # there are no paths in the null graph.\n",
    "    if n == 0:\n",
    "        msg = (\n",
    "            \"the null graph has no paths, thus there is no average\"\n",
    "            \"shortest path length\"\n",
    "        )\n",
    "        raise nx.NetworkXPointlessConcept(msg)\n",
    "    # For the special case of the trivial graph, return zero immediately.\n",
    "    if n == 1:\n",
    "        return 0\n",
    "    # Shortest path length is undefined if the graph is disconnected.\n",
    "    if G.is_directed() and not nx.is_weakly_connected(G):\n",
    "        raise nx.NetworkXError(\"Graph is not weakly connected.\")\n",
    "    if not G.is_directed() and not nx.is_connected(G):\n",
    "        raise nx.NetworkXError(\"Graph is not connected.\")\n",
    "\n",
    "    # Compute all-pairs shortest paths.\n",
    "    def path_length(v):\n",
    "        if method == \"unweighted\":\n",
    "            return nx.single_source_shortest_path_length(G, v)\n",
    "        elif method == \"dijkstra\":\n",
    "            return nx.single_source_dijkstra_path_length(G, v, weight=weight)\n",
    "        elif method == \"bellman-ford\":\n",
    "            return nx.single_source_bellman_ford_path_length(G, v, weight=weight)\n",
    "\n",
    "    if method in single_source_methods:\n",
    "        # Sum the distances for each (ordered) pair of source and target node.\n",
    "        s = 0\n",
    "        s_pp = 0\n",
    "        cnt = 0\n",
    "        spp_l = []\n",
    "        for u in G:\n",
    "            s_p = s\n",
    "            for l in path_length(u).values():\n",
    "                s += l\n",
    "            cnt += 1\n",
    "            s_pp += (s - s_p) / (n * (n - 1))\n",
    "            print(s / (n * (n - 1)), s_pp / cnt, cnt)\n",
    "            spp_l.append(s_pp / cnt)\n",
    "            plt.plot([x for x in range(len(spp_l))], spp_l)\n",
    "            plt.ylim(0)\n",
    "            plt.show()\n",
    "            clear_output(wait=True)\n",
    "    else:\n",
    "        if method == \"floyd-warshall\":\n",
    "            all_pairs = nx.floyd_warshall(G, weight=weight)\n",
    "            s = sum(sum(t.values()) for t in all_pairs.values())\n",
    "        elif method == \"floyd-warshall-numpy\":\n",
    "            s = nx.floyd_warshall_numpy(G, weight=weight).sum()\n",
    "    return s / (n * (n - 1))\n",
    "\n",
    "\n",
    "\n",
    "def all_shortest_paths(G, source, target, weight=None, method=\"dijkstra\"):\n",
    "    \"\"\"Compute all shortest simple paths in the graph.\n",
    "\n",
    "    Parameters\n",
    "    ----------\n",
    "    G : NetworkX graph\n",
    "\n",
    "    source : node\n",
    "       Starting node for path.\n",
    "\n",
    "    target : node\n",
    "       Ending node for path.\n",
    "\n",
    "    weight : None, string or function, optional (default = None)\n",
    "        If None, every edge has weight/distance/cost 1.\n",
    "        If a string, use this edge attribute as the edge weight.\n",
    "        Any edge attribute not present defaults to 1.\n",
    "        If this is a function, the weight of an edge is the value\n",
    "        returned by the function. The function must accept exactly\n",
    "        three positional arguments: the two endpoints of an edge and\n",
    "        the dictionary of edge attributes for that edge.\n",
    "        The function must return a number.\n",
    "\n",
    "    method : string, optional (default = 'dijkstra')\n",
    "       The algorithm to use to compute the path lengths.\n",
    "       Supported options: 'dijkstra', 'bellman-ford'.\n",
    "       Other inputs produce a ValueError.\n",
    "       If `weight` is None, unweighted graph methods are used, and this\n",
    "       suggestion is ignored.\n",
    "\n",
    "    Returns\n",
    "    -------\n",
    "    paths : generator of lists\n",
    "        A generator of all paths between source and target.\n",
    "\n",
    "    Raises\n",
    "    ------\n",
    "    ValueError\n",
    "        If `method` is not among the supported options.\n",
    "\n",
    "    NetworkXNoPath\n",
    "        If `target` cannot be reached from `source`.\n",
    "\n",
    "    Examples\n",
    "    --------\n",
    "    >>> G = nx.Graph()\n",
    "    >>> nx.add_path(G, [0, 1, 2])\n",
    "    >>> nx.add_path(G, [0, 10, 2])\n",
    "    >>> print([p for p in nx.all_shortest_paths(G, source=0, target=2)])\n",
    "    [[0, 1, 2], [0, 10, 2]]\n",
    "\n",
    "    Notes\n",
    "    -----\n",
    "    There may be many shortest paths between the source and target.  If G\n",
    "    contains zero-weight cycles, this function will not produce all shortest\n",
    "    paths because doing so would produce infinitely many paths of unbounded\n",
    "    length -- instead, we only produce the shortest simple paths.\n",
    "\n",
    "    See Also\n",
    "    --------\n",
    "    shortest_path\n",
    "    single_source_shortest_path\n",
    "    all_pairs_shortest_path\n",
    "    \"\"\"\n",
    "    method = \"unweighted\" if weight is None else method\n",
    "    if method == \"unweighted\":\n",
    "        pred = nx.predecessor(G, source)\n",
    "    elif method == \"dijkstra\":\n",
    "        pred, dist = nx.dijkstra_predecessor_and_distance(G, source, weight=weight)\n",
    "    elif method == \"bellman-ford\":\n",
    "        pred, dist = nx.bellman_ford_predecessor_and_distance(G, source, weight=weight)\n",
    "    else:\n",
    "        raise ValueError(f\"method not supported: {method}\")\n",
    "\n",
    "    return _build_paths_from_predecessors({source}, target, pred)\n",
    "\n",
    "\n",
    "\n",
    "def _build_paths_from_predecessors(sources, target, pred):\n",
    "    \"\"\"Compute all simple paths to target, given the predecessors found in\n",
    "    pred, terminating when any source in sources is found.\n",
    "\n",
    "    Parameters\n",
    "    ----------\n",
    "    sources : set\n",
    "       Starting nodes for path.\n",
    "\n",
    "    target : node\n",
    "       Ending node for path.\n",
    "\n",
    "    pred : dict\n",
    "       A dictionary of predecessor lists, keyed by node\n",
    "\n",
    "    Returns\n",
    "    -------\n",
    "    paths : generator of lists\n",
    "        A generator of all paths between source and target.\n",
    "\n",
    "    Raises\n",
    "    ------\n",
    "    NetworkXNoPath\n",
    "        If `target` cannot be reached from `source`.\n",
    "\n",
    "    Notes\n",
    "    -----\n",
    "    There may be many paths between the sources and target.  If there are\n",
    "    cycles among the predecessors, this function will not produce all\n",
    "    possible paths because doing so would produce infinitely many paths\n",
    "    of unbounded length -- instead, we only produce simple paths.\n",
    "\n",
    "    See Also\n",
    "    --------\n",
    "    shortest_path\n",
    "    single_source_shortest_path\n",
    "    all_pairs_shortest_path\n",
    "    all_shortest_paths\n",
    "    bellman_ford_path\n",
    "    \"\"\"\n",
    "    if target not in pred:\n",
    "        raise nx.NetworkXNoPath(\n",
    "            f\"Target {target} cannot be reached\" f\"from given sources\"\n",
    "        )\n",
    "\n",
    "    seen = {target}\n",
    "    stack = [[target, 0]]\n",
    "    top = 0\n",
    "    while top >= 0:\n",
    "        node, i = stack[top]\n",
    "        if node in sources:\n",
    "            yield [p for p, n in reversed(stack[: top + 1])]\n",
    "        if len(pred[node]) > i:\n",
    "            stack[top][1] = i + 1\n",
    "            next = pred[node][i]\n",
    "            if next in seen:\n",
    "                continue\n",
    "            else:\n",
    "                seen.add(next)\n",
    "            top += 1\n",
    "            if top == len(stack):\n",
    "                stack.append([next, 0])\n",
    "            else:\n",
    "                stack[top][:] = [next, 0]\n",
    "        else:\n",
    "            seen.discard(node)\n",
    "            top -= 1"
   ]
  },
  {
   "cell_type": "code",
   "execution_count": 90,
   "id": "549536d8",
   "metadata": {
    "scrolled": true
   },
   "outputs": [
    {
     "ename": "KeyboardInterrupt",
     "evalue": "",
     "output_type": "error",
     "traceback": [
      "\u001b[0;31m---------------------------------------------------------------------------\u001b[0m",
      "\u001b[0;31mAttributeError\u001b[0m                            Traceback (most recent call last)",
      "File \u001b[0;32m~/opt/anaconda3/lib/python3.9/site-packages/networkx/classes/coreviews.py:277\u001b[0m, in \u001b[0;36mFilterAtlas.__iter__\u001b[0;34m(self)\u001b[0m\n\u001b[1;32m    276\u001b[0m \u001b[38;5;28;01mtry\u001b[39;00m:  \u001b[38;5;66;03m# check that NODE_OK has attr 'nodes'\u001b[39;00m\n\u001b[0;32m--> 277\u001b[0m     node_ok_shorter \u001b[38;5;241m=\u001b[39m \u001b[38;5;241m2\u001b[39m \u001b[38;5;241m*\u001b[39m \u001b[38;5;28mlen\u001b[39m(\u001b[38;5;28;43mself\u001b[39;49m\u001b[38;5;241;43m.\u001b[39;49m\u001b[43mNODE_OK\u001b[49m\u001b[38;5;241;43m.\u001b[39;49m\u001b[43mnodes\u001b[49m) \u001b[38;5;241m<\u001b[39m \u001b[38;5;28mlen\u001b[39m(\u001b[38;5;28mself\u001b[39m\u001b[38;5;241m.\u001b[39m_atlas)\n\u001b[1;32m    278\u001b[0m \u001b[38;5;28;01mexcept\u001b[39;00m \u001b[38;5;167;01mAttributeError\u001b[39;00m:\n",
      "\u001b[0;31mAttributeError\u001b[0m: 'function' object has no attribute 'nodes'",
      "\nDuring handling of the above exception, another exception occurred:\n",
      "\u001b[0;31mKeyboardInterrupt\u001b[0m                         Traceback (most recent call last)",
      "Input \u001b[0;32mIn [90]\u001b[0m, in \u001b[0;36m<cell line: 1>\u001b[0;34m()\u001b[0m\n\u001b[0;32m----> 1\u001b[0m \u001b[43maverage_shortest_path_length\u001b[49m\u001b[43m(\u001b[49m\u001b[43mrng_c\u001b[49m\u001b[43m,\u001b[49m\u001b[43m \u001b[49m\u001b[43mweight\u001b[49m\u001b[38;5;241;43m=\u001b[39;49m\u001b[38;5;124;43m'\u001b[39;49m\u001b[38;5;124;43mweight\u001b[39;49m\u001b[38;5;124;43m'\u001b[39;49m\u001b[43m)\u001b[49m\n",
      "Input \u001b[0;32mIn [88]\u001b[0m, in \u001b[0;36maverage_shortest_path_length\u001b[0;34m(G, weight, method)\u001b[0m\n\u001b[1;32m    415\u001b[0m \u001b[38;5;28;01mfor\u001b[39;00m u \u001b[38;5;129;01min\u001b[39;00m G:\n\u001b[1;32m    416\u001b[0m     s_p \u001b[38;5;241m=\u001b[39m s\n\u001b[0;32m--> 417\u001b[0m     \u001b[38;5;28;01mfor\u001b[39;00m l \u001b[38;5;129;01min\u001b[39;00m \u001b[43mpath_length\u001b[49m\u001b[43m(\u001b[49m\u001b[43mu\u001b[49m\u001b[43m)\u001b[49m\u001b[38;5;241m.\u001b[39mvalues():\n\u001b[1;32m    418\u001b[0m         s \u001b[38;5;241m+\u001b[39m\u001b[38;5;241m=\u001b[39m l\n\u001b[1;32m    419\u001b[0m     cnt \u001b[38;5;241m+\u001b[39m\u001b[38;5;241m=\u001b[39m \u001b[38;5;241m1\u001b[39m\n",
      "Input \u001b[0;32mIn [88]\u001b[0m, in \u001b[0;36maverage_shortest_path_length.<locals>.path_length\u001b[0;34m(v)\u001b[0m\n\u001b[1;32m    403\u001b[0m     \u001b[38;5;28;01mreturn\u001b[39;00m nx\u001b[38;5;241m.\u001b[39msingle_source_shortest_path_length(G, v)\n\u001b[1;32m    404\u001b[0m \u001b[38;5;28;01melif\u001b[39;00m method \u001b[38;5;241m==\u001b[39m \u001b[38;5;124m\"\u001b[39m\u001b[38;5;124mdijkstra\u001b[39m\u001b[38;5;124m\"\u001b[39m:\n\u001b[0;32m--> 405\u001b[0m     \u001b[38;5;28;01mreturn\u001b[39;00m \u001b[43mnx\u001b[49m\u001b[38;5;241;43m.\u001b[39;49m\u001b[43msingle_source_dijkstra_path_length\u001b[49m\u001b[43m(\u001b[49m\u001b[43mG\u001b[49m\u001b[43m,\u001b[49m\u001b[43m \u001b[49m\u001b[43mv\u001b[49m\u001b[43m,\u001b[49m\u001b[43m \u001b[49m\u001b[43mweight\u001b[49m\u001b[38;5;241;43m=\u001b[39;49m\u001b[43mweight\u001b[49m\u001b[43m)\u001b[49m\n\u001b[1;32m    406\u001b[0m \u001b[38;5;28;01melif\u001b[39;00m method \u001b[38;5;241m==\u001b[39m \u001b[38;5;124m\"\u001b[39m\u001b[38;5;124mbellman-ford\u001b[39m\u001b[38;5;124m\"\u001b[39m:\n\u001b[1;32m    407\u001b[0m     \u001b[38;5;28;01mreturn\u001b[39;00m nx\u001b[38;5;241m.\u001b[39msingle_source_bellman_ford_path_length(G, v, weight\u001b[38;5;241m=\u001b[39mweight)\n",
      "File \u001b[0;32m~/opt/anaconda3/lib/python3.9/site-packages/networkx/algorithms/shortest_paths/weighted.py:373\u001b[0m, in \u001b[0;36msingle_source_dijkstra_path_length\u001b[0;34m(G, source, cutoff, weight)\u001b[0m\n\u001b[1;32m    305\u001b[0m \u001b[38;5;28;01mdef\u001b[39;00m \u001b[38;5;21msingle_source_dijkstra_path_length\u001b[39m(G, source, cutoff\u001b[38;5;241m=\u001b[39m\u001b[38;5;28;01mNone\u001b[39;00m, weight\u001b[38;5;241m=\u001b[39m\u001b[38;5;124m\"\u001b[39m\u001b[38;5;124mweight\u001b[39m\u001b[38;5;124m\"\u001b[39m):\n\u001b[1;32m    306\u001b[0m     \u001b[38;5;124;03m\"\"\"Find shortest weighted path lengths in G from a source node.\u001b[39;00m\n\u001b[1;32m    307\u001b[0m \n\u001b[1;32m    308\u001b[0m \u001b[38;5;124;03m    Compute the shortest path length between source and all other\u001b[39;00m\n\u001b[0;32m   (...)\u001b[0m\n\u001b[1;32m    371\u001b[0m \n\u001b[1;32m    372\u001b[0m \u001b[38;5;124;03m    \"\"\"\u001b[39;00m\n\u001b[0;32m--> 373\u001b[0m     \u001b[38;5;28;01mreturn\u001b[39;00m \u001b[43mmulti_source_dijkstra_path_length\u001b[49m\u001b[43m(\u001b[49m\u001b[43mG\u001b[49m\u001b[43m,\u001b[49m\u001b[43m \u001b[49m\u001b[43m{\u001b[49m\u001b[43msource\u001b[49m\u001b[43m}\u001b[49m\u001b[43m,\u001b[49m\u001b[43m \u001b[49m\u001b[43mcutoff\u001b[49m\u001b[38;5;241;43m=\u001b[39;49m\u001b[43mcutoff\u001b[49m\u001b[43m,\u001b[49m\u001b[43m \u001b[49m\u001b[43mweight\u001b[49m\u001b[38;5;241;43m=\u001b[39;49m\u001b[43mweight\u001b[49m\u001b[43m)\u001b[49m\n",
      "File \u001b[0;32m~/opt/anaconda3/lib/python3.9/site-packages/networkx/algorithms/shortest_paths/weighted.py:628\u001b[0m, in \u001b[0;36mmulti_source_dijkstra_path_length\u001b[0;34m(G, sources, cutoff, weight)\u001b[0m\n\u001b[1;32m    626\u001b[0m         \u001b[38;5;28;01mraise\u001b[39;00m nx\u001b[38;5;241m.\u001b[39mNodeNotFound(\u001b[38;5;124mf\u001b[39m\u001b[38;5;124m\"\u001b[39m\u001b[38;5;124mNode \u001b[39m\u001b[38;5;132;01m{\u001b[39;00ms\u001b[38;5;132;01m}\u001b[39;00m\u001b[38;5;124m not found in graph\u001b[39m\u001b[38;5;124m\"\u001b[39m)\n\u001b[1;32m    627\u001b[0m weight \u001b[38;5;241m=\u001b[39m _weight_function(G, weight)\n\u001b[0;32m--> 628\u001b[0m \u001b[38;5;28;01mreturn\u001b[39;00m \u001b[43m_dijkstra_multisource\u001b[49m\u001b[43m(\u001b[49m\u001b[43mG\u001b[49m\u001b[43m,\u001b[49m\u001b[43m \u001b[49m\u001b[43msources\u001b[49m\u001b[43m,\u001b[49m\u001b[43m \u001b[49m\u001b[43mweight\u001b[49m\u001b[43m,\u001b[49m\u001b[43m \u001b[49m\u001b[43mcutoff\u001b[49m\u001b[38;5;241;43m=\u001b[39;49m\u001b[43mcutoff\u001b[49m\u001b[43m)\u001b[49m\n",
      "File \u001b[0;32m~/opt/anaconda3/lib/python3.9/site-packages/networkx/algorithms/shortest_paths/weighted.py:836\u001b[0m, in \u001b[0;36m_dijkstra_multisource\u001b[0;34m(G, sources, weight, pred, paths, cutoff, target)\u001b[0m\n\u001b[1;32m    834\u001b[0m \u001b[38;5;28;01mif\u001b[39;00m v \u001b[38;5;241m==\u001b[39m target:\n\u001b[1;32m    835\u001b[0m     \u001b[38;5;28;01mbreak\u001b[39;00m\n\u001b[0;32m--> 836\u001b[0m \u001b[38;5;28;01mfor\u001b[39;00m u, e \u001b[38;5;129;01min\u001b[39;00m G_succ[v]\u001b[38;5;241m.\u001b[39mitems():\n\u001b[1;32m    837\u001b[0m     cost \u001b[38;5;241m=\u001b[39m weight(v, u, e)\n\u001b[1;32m    838\u001b[0m     \u001b[38;5;28;01mif\u001b[39;00m cost \u001b[38;5;129;01mis\u001b[39;00m \u001b[38;5;28;01mNone\u001b[39;00m:\n",
      "File \u001b[0;32m~/opt/anaconda3/lib/python3.9/_collections_abc.py:850\u001b[0m, in \u001b[0;36mItemsView.__iter__\u001b[0;34m(self)\u001b[0m\n\u001b[1;32m    849\u001b[0m \u001b[38;5;28;01mdef\u001b[39;00m \u001b[38;5;21m__iter__\u001b[39m(\u001b[38;5;28mself\u001b[39m):\n\u001b[0;32m--> 850\u001b[0m     \u001b[38;5;28;01mfor\u001b[39;00m key \u001b[38;5;129;01min\u001b[39;00m \u001b[38;5;28mself\u001b[39m\u001b[38;5;241m.\u001b[39m_mapping:\n\u001b[1;32m    851\u001b[0m         \u001b[38;5;28;01myield\u001b[39;00m (key, \u001b[38;5;28mself\u001b[39m\u001b[38;5;241m.\u001b[39m_mapping[key])\n",
      "File \u001b[0;32m~/opt/anaconda3/lib/python3.9/site-packages/networkx/classes/coreviews.py:277\u001b[0m, in \u001b[0;36mFilterAtlas.__iter__\u001b[0;34m(self)\u001b[0m\n\u001b[1;32m    275\u001b[0m \u001b[38;5;28;01mdef\u001b[39;00m \u001b[38;5;21m__iter__\u001b[39m(\u001b[38;5;28mself\u001b[39m):\n\u001b[1;32m    276\u001b[0m     \u001b[38;5;28;01mtry\u001b[39;00m:  \u001b[38;5;66;03m# check that NODE_OK has attr 'nodes'\u001b[39;00m\n\u001b[0;32m--> 277\u001b[0m         node_ok_shorter \u001b[38;5;241m=\u001b[39m \u001b[38;5;241m2\u001b[39m \u001b[38;5;241m*\u001b[39m \u001b[38;5;28mlen\u001b[39m(\u001b[38;5;28;43mself\u001b[39;49m\u001b[38;5;241;43m.\u001b[39;49m\u001b[43mNODE_OK\u001b[49m\u001b[38;5;241;43m.\u001b[39;49m\u001b[43mnodes\u001b[49m) \u001b[38;5;241m<\u001b[39m \u001b[38;5;28mlen\u001b[39m(\u001b[38;5;28mself\u001b[39m\u001b[38;5;241m.\u001b[39m_atlas)\n\u001b[1;32m    278\u001b[0m     \u001b[38;5;28;01mexcept\u001b[39;00m \u001b[38;5;167;01mAttributeError\u001b[39;00m:\n\u001b[1;32m    279\u001b[0m         node_ok_shorter \u001b[38;5;241m=\u001b[39m \u001b[38;5;28;01mFalse\u001b[39;00m\n",
      "\u001b[0;31mKeyboardInterrupt\u001b[0m: "
     ]
    }
   ],
   "source": [
    "average_shortest_path_length(rng_c, weight='weight')"
   ]
  },
  {
   "cell_type": "code",
   "execution_count": 86,
   "id": "277880ff",
   "metadata": {},
   "outputs": [
    {
     "ename": "NameError",
     "evalue": "name 'spp_l' is not defined",
     "output_type": "error",
     "traceback": [
      "\u001b[0;31m---------------------------------------------------------------------------\u001b[0m",
      "\u001b[0;31mNameError\u001b[0m                                 Traceback (most recent call last)",
      "Input \u001b[0;32mIn [86]\u001b[0m, in \u001b[0;36m<cell line: 1>\u001b[0;34m()\u001b[0m\n\u001b[0;32m----> 1\u001b[0m \u001b[43mspp_l\u001b[49m\n",
      "\u001b[0;31mNameError\u001b[0m: name 'spp_l' is not defined"
     ]
    }
   ],
   "source": [
    "spp_l"
   ]
  },
  {
   "cell_type": "code",
   "execution_count": 87,
   "id": "63ba35bd",
   "metadata": {},
   "outputs": [
    {
     "data": {
      "text/plain": [
       "34.6050902863883"
      ]
     },
     "execution_count": 87,
     "metadata": {},
     "output_type": "execute_result"
    }
   ],
   "source": [
    "d['маг']"
   ]
  },
  {
   "cell_type": "markdown",
   "id": "790d979f",
   "metadata": {},
   "source": [
    "## Диаметр графа"
   ]
  },
  {
   "cell_type": "code",
   "execution_count": 33,
   "id": "54429c1c",
   "metadata": {},
   "outputs": [
    {
     "data": {
      "image/png": "[encoded data removed]",
      "text/plain": [
       "<Figure size 432x288 with 1 Axes>"
      ]
     },
     "metadata": {
      "needs_background": "light"
     },
     "output_type": "display_data"
    }
   ],
   "source": [
    "components_len_counts = plt.hist(components_len[1:], bins=15)"
   ]
  },
  {
   "cell_type": "markdown",
   "id": "02278b2c",
   "metadata": {},
   "source": [
    "Невозможно посчитать, так как граф несвязный"
   ]
  },
  {
   "cell_type": "markdown",
   "id": "bdb8accc",
   "metadata": {},
   "source": [
    "## Радиус графа"
   ]
  },
  {
   "cell_type": "markdown",
   "id": "f2ad9373",
   "metadata": {},
   "source": [
    "Невозможно посчитать, так как граф несвязный"
   ]
  },
  {
   "cell_type": "markdown",
   "id": "7f637160",
   "metadata": {},
   "source": [
    "## Средняя длина кратчайшего пути (average shortest path length)"
   ]
  },
  {
   "cell_type": "markdown",
   "id": "0d12528e",
   "metadata": {},
   "source": [
    "Невозможно посчитать, так как граф несвязный"
   ]
  },
  {
   "cell_type": "markdown",
   "id": "9b14353d",
   "metadata": {},
   "source": [
    "## Распределение центральности по близости (closeness centrality)"
   ]
  },
  {
   "cell_type": "code",
   "execution_count": 91,
   "id": "bb7b78de",
   "metadata": {},
   "outputs": [],
   "source": [
    "with open(\"/Users/yuvlo/Spot-the-bot/Graph/characteristics/rng_closeness_centrality.pickle\", 'rb') as f:\n",
    "    rng_cc = pickle.load(f)"
   ]
  },
  {
   "cell_type": "code",
   "execution_count": 92,
   "id": "7c5f4e30",
   "metadata": {},
   "outputs": [
    {
     "data": {
      "image/png": "[encoded data removed]",
      "text/plain": [
       "<Figure size 720x432 with 1 Axes>"
      ]
     },
     "metadata": {
      "needs_background": "light"
     },
     "output_type": "display_data"
    }
   ],
   "source": [
    "plt.figure(figsize=(10, 6))\n",
    "plt.hist(rng_cc.values(), bins=1000)\n",
    "plt.ylim(0, 7000)\n",
    "plt.grid()\n",
    "plt.title(\"Распределение closeness centrality\")\n",
    "plt.xlabel(\"Значение closeness centrality\")\n",
    "plt.ylabel(\"Кол-во вершин\")\n",
    "plt.show()"
   ]
  },
  {
   "cell_type": "markdown",
   "id": "58c5306f",
   "metadata": {},
   "source": [
    "## Средняя степень соседей (Average Neighbor Degree)"
   ]
  },
  {
   "cell_type": "code",
   "execution_count": 102,
   "id": "6f9e80c8",
   "metadata": {},
   "outputs": [],
   "source": [
    "av_nd = nx.average_neighbor_degree(rng_ru_6)\n",
    "av_nd_w = nx.average_neighbor_degree(rng_ru_6, weight='weight')"
   ]
  },
  {
   "cell_type": "code",
   "execution_count": 105,
   "id": "0b6734c2",
   "metadata": {},
   "outputs": [
    {
     "data": {
      "image/png": "[encoded data removed]",
      "text/plain": [
       "<Figure size 720x432 with 1 Axes>"
      ]
     },
     "metadata": {
      "needs_background": "light"
     },
     "output_type": "display_data"
    }
   ],
   "source": [
    "plt.figure(figsize=(10, 6))\n",
    "plt.hist(av_nd.values(), bins=100)\n",
    "# plt.ylim(0, 400)\n",
    "plt.grid()\n",
    "plt.title(\"Распределение average neighbor degree\")\n",
    "plt.xlabel(\"Значение average neighbor degree\")\n",
    "plt.ylabel(\"Кол-во вершин\")\n",
    "plt.show()"
   ]
  },
  {
   "cell_type": "code",
   "execution_count": 108,
   "id": "2f6a520f",
   "metadata": {},
   "outputs": [
    {
     "data": {
      "image/png": "[encoded data removed]",
      "text/plain": [
       "<Figure size 720x432 with 1 Axes>"
      ]
     },
     "metadata": {
      "needs_background": "light"
     },
     "output_type": "display_data"
    }
   ],
   "source": [
    "plt.figure(figsize=(10, 6))\n",
    "plt.hist(av_nd_w.values(), bins=1000)\n",
    "# plt.ylim(0, 400)\n",
    "plt.grid()\n",
    "plt.title(\"Распределение weighted average neighbor degree\")\n",
    "plt.xlabel(\"Значение weighted average neighbor degree\")\n",
    "plt.ylabel(\"Кол-во вершин\")\n",
    "plt.show()"
   ]
  },
  {
   "cell_type": "markdown",
   "id": "87029d6c",
   "metadata": {},
   "source": [
    "Из этого определения следует, что $k_{nn,i}^w> k_{nn,i}$, если ребра с большими весами указывают на соседей с большей степенью. И $k_{nn,i}^w < k_{nn,i}$ для противоположного"
   ]
  },
  {
   "cell_type": "code",
   "execution_count": 109,
   "id": "2a25cc3e",
   "metadata": {},
   "outputs": [],
   "source": [
    "more_list, less_list = [], []\n",
    "for word in av_nd:\n",
    "    if av_nd_w[word] > av_nd[word]:\n",
    "        more_list.append(word)\n",
    "    else:\n",
    "        less_list.append(word)"
   ]
  },
  {
   "cell_type": "code",
   "execution_count": 110,
   "id": "fac7bba9",
   "metadata": {},
   "outputs": [
    {
     "data": {
      "text/plain": [
       "50493"
      ]
     },
     "execution_count": 110,
     "metadata": {},
     "output_type": "execute_result"
    }
   ],
   "source": [
    "len(more_list)"
   ]
  },
  {
   "cell_type": "code",
   "execution_count": 111,
   "id": "731ddbeb",
   "metadata": {},
   "outputs": [
    {
     "data": {
      "text/plain": [
       "44111"
      ]
     },
     "execution_count": 111,
     "metadata": {},
     "output_type": "execute_result"
    }
   ],
   "source": [
    "len(less_list)"
   ]
  },
  {
   "cell_type": "markdown",
   "id": "521181c1",
   "metadata": {},
   "source": [
    "## Центральность по близости между вершинами (vertices betweenness centrality)"
   ]
  },
  {
   "cell_type": "code",
   "execution_count": 94,
   "id": "41518530",
   "metadata": {},
   "outputs": [],
   "source": [
    "with open(\"/Users/yuvlo/Spot-the-bot/Graph/characteristics/rng_betweenness_centrality.pickle\", \"rb\") as f:\n",
    "    rng_bc = pickle.load(f)"
   ]
  },
  {
   "cell_type": "code",
   "execution_count": 95,
   "id": "7ce09fd2",
   "metadata": {},
   "outputs": [
    {
     "data": {
      "image/png": "[encoded data removed]",
      "text/plain": [
       "<Figure size 720x432 with 1 Axes>"
      ]
     },
     "metadata": {
      "needs_background": "light"
     },
     "output_type": "display_data"
    }
   ],
   "source": [
    "plt.figure(figsize=(10, 6))\n",
    "plt.hist(rng_bc.values(), bins=1000)\n",
    "plt.ylim(0, 8000)\n",
    "plt.grid()\n",
    "plt.title(\"Распределение betweenness centrality\")\n",
    "plt.xlabel(\"Значение betweenness centrality\")\n",
    "plt.ylabel(\"Кол-во вершин\")\n",
    "plt.show()"
   ]
  },
  {
   "cell_type": "markdown",
   "id": "07566661",
   "metadata": {},
   "source": [
    "## Центральность по близости между ребрами (edges betweenness centrality)"
   ]
  },
  {
   "cell_type": "code",
   "execution_count": 97,
   "id": "eaf2951a",
   "metadata": {},
   "outputs": [],
   "source": [
    "with open(\"/Users/yuvlo/Spot-the-bot/Graph/characteristics/rng_edge_betweenness_centrality.pickle\", \"rb\") as f:\n",
    "    rng_ebc = pickle.load(f)"
   ]
  },
  {
   "cell_type": "code",
   "execution_count": 99,
   "id": "a416df6e",
   "metadata": {},
   "outputs": [
    {
     "data": {
      "image/png": "[encoded data removed]",
      "text/plain": [
       "<Figure size 720x432 with 1 Axes>"
      ]
     },
     "metadata": {
      "needs_background": "light"
     },
     "output_type": "display_data"
    }
   ],
   "source": [
    "plt.figure(figsize=(10, 6))\n",
    "plt.hist(rng_ebc.values(), bins=3000)\n",
    "# plt.ylim(0, 1000)\n",
    "plt.xlim(0, 0.001)\n",
    "plt.grid()\n",
    "plt.title(\"Распределение edges betweenness centrality\")\n",
    "plt.xlabel(\"Значение edges betweenness centrality\")\n",
    "plt.ylabel(\"Кол-во вершин\")\n",
    "plt.show()"
   ]
  },
  {
   "cell_type": "code",
   "execution_count": null,
   "id": "47d10de9",
   "metadata": {},
   "outputs": [],
   "source": []
  },
  {
   "cell_type": "code",
   "execution_count": 100,
   "id": "5ddd71d7",
   "metadata": {},
   "outputs": [],
   "source": [
    "with open(\"/Users/yuvlo/Spot-the-bot/Graph/characteristics/rng_load_centrality.pickle\", \"rb\") as f:\n",
    "    rng_load = pickle.load(f)"
   ]
  },
  {
   "cell_type": "code",
   "execution_count": 101,
   "id": "2c1e5099",
   "metadata": {},
   "outputs": [
    {
     "data": {
      "image/png": "[encoded data removed]",
      "text/plain": [
       "<Figure size 720x432 with 1 Axes>"
      ]
     },
     "metadata": {
      "needs_background": "light"
     },
     "output_type": "display_data"
    }
   ],
   "source": [
    "plt.figure(figsize=(10, 6))\n",
    "plt.hist(rng_load.values(), bins=1000)\n",
    "# plt.ylim(0, 1000)\n",
    "plt.xlim(0, 0.001)\n",
    "plt.grid()\n",
    "plt.title(\"Распределение load centrality\")\n",
    "plt.xlabel(\"Значение load centrality\")\n",
    "plt.ylabel(\"Кол-во вершин\")\n",
    "plt.show()"
   ]
  },
  {
   "cell_type": "code",
   "execution_count": null,
   "id": "80855539",
   "metadata": {},
   "outputs": [],
   "source": []
  },
  {
   "cell_type": "code",
   "execution_count": null,
   "id": "fe4cf57f",
   "metadata": {},
   "outputs": [],
   "source": []
  },
  {
   "cell_type": "code",
   "execution_count": null,
   "id": "51f882f6",
   "metadata": {},
   "outputs": [],
   "source": []
  },
  {
   "cell_type": "markdown",
   "id": "056c6844",
   "metadata": {},
   "source": [
    "## Коэффициент кластеризации (взвешенный и невзвешенный)"
   ]
  },
  {
   "cell_type": "code",
   "execution_count": 21,
   "id": "154b7ced",
   "metadata": {},
   "outputs": [],
   "source": [
    "cc = nx.clustering(rng_ru_6)\n",
    "cc_w = nx.clustering(rng_ru_6, weight='weight')"
   ]
  },
  {
   "cell_type": "code",
   "execution_count": 15,
   "id": "ee2a0ff4",
   "metadata": {},
   "outputs": [],
   "source": [
    "more_list, less_list = [], []\n",
    "for word in cc:\n",
    "    if cc_w[word] > cc[word]:\n",
    "        more_list.append(word)\n",
    "    else:\n",
    "        less_list.append(word)"
   ]
  },
  {
   "cell_type": "code",
   "execution_count": 16,
   "id": "f6c5796a",
   "metadata": {},
   "outputs": [
    {
     "data": {
      "text/plain": [
       "0"
      ]
     },
     "execution_count": 16,
     "metadata": {},
     "output_type": "execute_result"
    }
   ],
   "source": [
    "len(more_list)"
   ]
  },
  {
   "cell_type": "code",
   "execution_count": 17,
   "id": "43822fb9",
   "metadata": {},
   "outputs": [
    {
     "data": {
      "text/plain": [
       "94604"
      ]
     },
     "execution_count": 17,
     "metadata": {},
     "output_type": "execute_result"
    }
   ],
   "source": [
    "len(less_list)"
   ]
  },
  {
   "cell_type": "code",
   "execution_count": 31,
   "id": "0af10157",
   "metadata": {},
   "outputs": [
    {
     "data": {
      "text/plain": [
       "{'гора', 'красный', 'снег', 'трава', 'тяжелый', 'угол'}"
      ]
     },
     "execution_count": 31,
     "metadata": {},
     "output_type": "execute_result"
    }
   ],
   "source": [
    "my_rng_ru_6.vertices['бежать'].neighbors"
   ]
  },
  {
   "cell_type": "code",
   "execution_count": 35,
   "id": "9d268977",
   "metadata": {},
   "outputs": [
    {
     "data": {
      "text/plain": [
       "{'бежать', 'край', 'крик'}"
      ]
     },
     "execution_count": 35,
     "metadata": {},
     "output_type": "execute_result"
    }
   ],
   "source": [
    "my_rng_ru_6.vertices['трава'].neighbors"
   ]
  },
  {
   "cell_type": "markdown",
   "id": "8edea030",
   "metadata": {},
   "source": [
    "## Средний коэффициент кластеризации (взвешенный и невзвешенный)"
   ]
  },
  {
   "cell_type": "code",
   "execution_count": 112,
   "id": "1d80af0a",
   "metadata": {},
   "outputs": [],
   "source": [
    "cc = nx.clustering(rng_ru_6)"
   ]
  },
  {
   "cell_type": "code",
   "execution_count": 117,
   "id": "85b9b2a8",
   "metadata": {},
   "outputs": [
    {
     "data": {
      "text/plain": [
       "{'козий': 0,\n",
       " 'вороний': 0,\n",
       " 'патлы': 0,\n",
       " 'подтаивать': 0,\n",
       " 'фотосинтез': 0,\n",
       " 'варочный': 0,\n",
       " 'канонада': 0,\n",
       " 'амбразура': 0,\n",
       " 'грыжа': 0,\n",
       " 'керосинка': 0,\n",
       " 'пушить': 0,\n",
       " 'стариков': 0,\n",
       " 'полудева': 0,\n",
       " 'борин': 0,\n",
       " 'покатистый': 0,\n",
       " 'цимбалы': 0,\n",
       " 'горски': 0,\n",
       " 'обескрыливать': 0,\n",
       " 'алет': 0,\n",
       " 'топазный': 0,\n",
       " 'раздышаться': 0,\n",
       " 'подсучивать': 0,\n",
       " 'вводиться': 0,\n",
       " 'вымирание': 0,\n",
       " 'патетичный': 0,\n",
       " 'мухлеж': 0,\n",
       " 'самозаряжающийся': 0,\n",
       " 'аконитин': 0,\n",
       " 'чара': 0,\n",
       " 'господарь': 0,\n",
       " 'простата': 0,\n",
       " 'мочеиспускание': 0,\n",
       " 'выстаиваться': 0,\n",
       " 'лапотный': 0,\n",
       " 'гуммель': 0,\n",
       " 'соиздатель': 0,\n",
       " 'поводиться': 0,\n",
       " 'гликерия': 0,\n",
       " 'необъемный': 0,\n",
       " 'трк': 0,\n",
       " 'напрыскивать': 0,\n",
       " 'вдохновенность': 0,\n",
       " 'ароматерапия': 0,\n",
       " 'эксцентрика': 0,\n",
       " 'порядковый': 0,\n",
       " 'дееспособный': 0,\n",
       " 'распродажный': 0,\n",
       " 'авет': 0,\n",
       " 'респект': 0,\n",
       " 'отпускник': 0,\n",
       " 'громозвучный': 0,\n",
       " 'бахчисарайский': 0,\n",
       " 'ресничный': 0,\n",
       " 'обстрекать': 0,\n",
       " 'скипидарный': 0,\n",
       " 'звуковик': 0,\n",
       " 'гармония': 0,\n",
       " 'необычайный': 0,\n",
       " 'петунья': 0,\n",
       " 'прабабушкин': 0,\n",
       " 'оттяжка': 0,\n",
       " 'поклевать': 0,\n",
       " 'малярийный': 0,\n",
       " 'пися': 0,\n",
       " 'поджигать': 0,\n",
       " 'сторонка': 0,\n",
       " 'воздаваться': 0,\n",
       " 'нелюбопытный': 0,\n",
       " 'красоточка': 0,\n",
       " 'насмешница': 0,\n",
       " 'катаракта': 0,\n",
       " 'джим': 0,\n",
       " 'недужить': 0,\n",
       " 'концев': 0,\n",
       " 'коагуляционный': 0,\n",
       " 'одиннадцатиклассница': 0,\n",
       " 'черпнуть': 0,\n",
       " 'тетеревиный': 0,\n",
       " 'пятидневка': 0,\n",
       " 'провинциальность': 0,\n",
       " 'коленочка': 0,\n",
       " 'здоровьице': 0,\n",
       " 'сотняжка': 0,\n",
       " 'воробьевский': 0,\n",
       " 'стасик': 0,\n",
       " 'несертифицированный': 0,\n",
       " 'буран': 0,\n",
       " 'жучок': 0,\n",
       " 'слушающий': 0,\n",
       " 'выхолащивать': 0,\n",
       " 'мокрецов': 0,\n",
       " 'пальтовый': 0,\n",
       " 'проворочать': 0,\n",
       " 'калачинский': 0,\n",
       " 'верхом': 0,\n",
       " 'конюшня': 0,\n",
       " 'проводной': 0,\n",
       " 'хантер': 0,\n",
       " 'василин': 0,\n",
       " 'сверлиться': 0,\n",
       " 'наслаждаться': 0,\n",
       " 'изящный': 0,\n",
       " 'феод': 0,\n",
       " 'пятиугольник': 0,\n",
       " 'борецкий': 0,\n",
       " 'подрезывание': 0,\n",
       " 'восполняться': 0,\n",
       " 'одаренность': 0,\n",
       " 'подопечный': 0,\n",
       " 'скептически': 0,\n",
       " 'курточка': 0,\n",
       " 'ночник': 0,\n",
       " 'отступя': 0,\n",
       " 'встрепка': 0,\n",
       " 'экстракционный': 0,\n",
       " 'уотсон': 0,\n",
       " 'осерчалый': 0,\n",
       " 'усиживаться': 0,\n",
       " 'жизнестойкость': 0,\n",
       " 'докачивать': 0,\n",
       " 'самойловский': 0,\n",
       " 'допекаться': 0,\n",
       " 'чумаковать': 0,\n",
       " 'широконький': 0,\n",
       " 'канна': 0,\n",
       " 'неосновной': 0,\n",
       " 'антологический': 0,\n",
       " 'вырезывание': 0,\n",
       " 'лошак': 0,\n",
       " 'непраздный': 0,\n",
       " 'красавчик': 0,\n",
       " 'требовательный': 0,\n",
       " 'штормовка': 0,\n",
       " 'перезагружаться': 0,\n",
       " 'обезличивание': 0,\n",
       " 'накидной': 0,\n",
       " 'использовать': 0,\n",
       " 'клан': 0,\n",
       " 'разбойник': 0,\n",
       " 'воевода': 0,\n",
       " 'крохотный': 0,\n",
       " 'отбрасывать': 0,\n",
       " 'заискивающе': 0,\n",
       " 'заспешить': 0,\n",
       " 'пятница': 0,\n",
       " 'мороженое': 0,\n",
       " 'шорный': 0,\n",
       " 'газырь': 0,\n",
       " 'дубельт': 0,\n",
       " 'копировщик': 0,\n",
       " 'усач': 0,\n",
       " 'горностай': 0,\n",
       " 'грезить': 0,\n",
       " 'поблекнуть': 0,\n",
       " 'обрешечивать': 0,\n",
       " 'сау': 0,\n",
       " 'перстневидный': 0,\n",
       " 'гнездниковский': 0,\n",
       " 'тангаж': 0,\n",
       " 'траекторный': 0,\n",
       " 'отсыпной': 0,\n",
       " 'макарыч': 0,\n",
       " 'охотно': 0,\n",
       " 'почитать': 0,\n",
       " 'ординарно': 0,\n",
       " 'дьяковский': 0,\n",
       " 'компоновочный': 0,\n",
       " 'радиовещание': 0,\n",
       " 'электрокардиостимулятор': 0,\n",
       " 'меркьюри': 0,\n",
       " 'реализовываться': 0,\n",
       " 'архетип': 0,\n",
       " 'старичок': 0,\n",
       " 'шуба': 0,\n",
       " 'плацдарм': 0,\n",
       " 'флагманский': 0,\n",
       " 'почтовик': 0,\n",
       " 'приручаться': 0,\n",
       " 'демонстрационный': 0,\n",
       " 'клонирование': 0,\n",
       " 'цитата': 0,\n",
       " 'брошюра': 0,\n",
       " 'говард': 0,\n",
       " 'спид': 0,\n",
       " 'колян': 0,\n",
       " 'хладагент': 0,\n",
       " 'растрата': 0,\n",
       " 'отпускной': 0,\n",
       " 'стыкать': 0,\n",
       " 'егерсдорфский': 0,\n",
       " 'валахский': 0,\n",
       " 'ятвяг': 0,\n",
       " 'страшить': 0,\n",
       " 'воспламенять': 0,\n",
       " 'лессовый': 0,\n",
       " 'измир': 0,\n",
       " 'гармонически': 0,\n",
       " 'книгоиздательство': 0,\n",
       " 'богохульник': 0,\n",
       " 'тонзура': 0,\n",
       " 'комплектующий': 0,\n",
       " 'копир': 0,\n",
       " 'мокро': 0,\n",
       " 'закапать': 0,\n",
       " 'щелканье': 0,\n",
       " 'утиный': 0,\n",
       " 'постоять': 0,\n",
       " 'погодить': 0,\n",
       " 'заначка': 0,\n",
       " 'подорваться': 0,\n",
       " 'четкий': 0,\n",
       " 'ощущаться': 0,\n",
       " 'семицветный': 0,\n",
       " 'волховский': 0,\n",
       " 'трехрядный': 0,\n",
       " 'ногтистый': 0,\n",
       " 'хайрем': 0,\n",
       " 'рутил': 0,\n",
       " 'осипович': 0,\n",
       " 'единогласие': 0,\n",
       " 'гермес': 0,\n",
       " 'сбрасывание': 0,\n",
       " 'облазать': 0,\n",
       " 'метаморфизм': 0,\n",
       " 'сквитываться': 0,\n",
       " 'покапризничать': 0,\n",
       " 'послух': 0,\n",
       " 'посбить': 0,\n",
       " 'ликующий': 0,\n",
       " 'свивать': 0,\n",
       " 'неустроенный': 0,\n",
       " 'местожительство': 0,\n",
       " 'добро': 0,\n",
       " 'охота': 0,\n",
       " 'искушенность': 0,\n",
       " 'роуз': 0,\n",
       " 'периодичный': 0,\n",
       " 'месмерический': 0,\n",
       " 'барахлишко': 0,\n",
       " 'сберкасса': 0,\n",
       " 'полунезависимый': 0,\n",
       " 'тамерлан': 0,\n",
       " 'пеликаний': 0,\n",
       " 'акроним': 0,\n",
       " 'двуногий': 0,\n",
       " 'забрало': 0,\n",
       " 'отшлифовываться': 0,\n",
       " 'злокачественность': 0,\n",
       " 'вертепный': 0,\n",
       " 'ременчатый': 0,\n",
       " 'аккумулирование': 0,\n",
       " 'лесопарковый': 0,\n",
       " 'диморфизм': 0,\n",
       " 'резьбовой': 0,\n",
       " 'селектор': 0,\n",
       " 'размораживать': 0,\n",
       " 'писчебумажный': 0,\n",
       " 'разграфлять': 0,\n",
       " 'образовываться': 0,\n",
       " 'извлекать': 0,\n",
       " 'натолий': 0,\n",
       " 'пахаться': 0,\n",
       " 'наручи': 0,\n",
       " 'метатель': 0,\n",
       " 'матушка': 0,\n",
       " 'изволить': 0,\n",
       " 'магнезий': 0,\n",
       " 'кармазиновый': 0,\n",
       " 'одигитрия': 0,\n",
       " 'обмалывать': 0,\n",
       " 'пшат': 0,\n",
       " 'мундштучить': 0,\n",
       " 'трусость': 0,\n",
       " 'преподобный': 0,\n",
       " 'низменность': 0,\n",
       " 'рижский': 0,\n",
       " 'тростник': 0,\n",
       " 'зола': 0,\n",
       " 'врачевать': 0,\n",
       " 'коленопреклоненный': 0,\n",
       " 'вплывать': 0,\n",
       " 'рагу': 0,\n",
       " 'секретно': 0,\n",
       " 'передел': 0,\n",
       " 'черепитчатый': 0,\n",
       " 'поддельность': 0,\n",
       " 'ранчеро': 0,\n",
       " 'гериатрический': 0,\n",
       " 'тиба': 0,\n",
       " 'дремотно': 0,\n",
       " 'выкармливание': 0,\n",
       " 'испускание': 0,\n",
       " 'наставление': 0,\n",
       " 'надзор': 0,\n",
       " 'дамасский': 0,\n",
       " 'легконогий': 0,\n",
       " 'песков': 0,\n",
       " 'подстилочка': 0,\n",
       " 'югра': 0,\n",
       " 'батыева': 0,\n",
       " 'егозить': 0,\n",
       " 'масленичный': 0,\n",
       " 'выкашливаться': 0,\n",
       " 'сливка': 0,\n",
       " 'курячий': 0,\n",
       " 'лешачиха': 0,\n",
       " 'несклонность': 0,\n",
       " 'пахомыч': 0,\n",
       " 'оккупация': 0,\n",
       " 'фронтовой': 0,\n",
       " 'денис': 0,\n",
       " 'увод': 0,\n",
       " 'перенимать': 0,\n",
       " 'рассылать': 0,\n",
       " 'топологический': 0,\n",
       " 'незашифрованный': 0,\n",
       " 'полиметаллический': 0,\n",
       " 'нитробензол': 0,\n",
       " 'отковывать': 0,\n",
       " 'лодчонка': 0,\n",
       " 'уборная': 0,\n",
       " 'капризный': 0,\n",
       " 'малоимущий': 0,\n",
       " 'сослагательный': 0,\n",
       " 'укорочение': 0,\n",
       " 'слоистость': 0,\n",
       " 'безударный': 0,\n",
       " 'таламус': 0,\n",
       " 'нижеизложенный': 0,\n",
       " 'стеклодел': 0,\n",
       " 'воробьенок': 0,\n",
       " 'мотушка': 0,\n",
       " 'прометать': 0,\n",
       " 'славянски': 0,\n",
       " 'уклонный': 0,\n",
       " 'провидеться': 0,\n",
       " 'вращаться': 0,\n",
       " 'эфир': 0,\n",
       " 'клепка': 0,\n",
       " 'солдатня': 0,\n",
       " 'экстраординарность': 0,\n",
       " 'джефри': 0,\n",
       " 'удлинитель': 0,\n",
       " 'текстовой': 0,\n",
       " 'сексуально': 0,\n",
       " 'пончик': 0,\n",
       " 'свекловица': 0,\n",
       " 'картеж': 0,\n",
       " 'стараться': 0,\n",
       " 'странный': 0,\n",
       " 'плотненький': 0,\n",
       " 'подорожать': 0,\n",
       " 'хозяйственный': 0,\n",
       " 'заработок': 0,\n",
       " 'органза': 0,\n",
       " 'анир': 0,\n",
       " 'ларчик': 0,\n",
       " 'ясновельможный': 0,\n",
       " 'завивание': 0,\n",
       " 'кантемир': 0,\n",
       " 'сглупа': 0,\n",
       " 'карпович': 0,\n",
       " 'меркуловна': 0,\n",
       " 'циркон': 0,\n",
       " 'константный': 0,\n",
       " 'гиоидный': 0,\n",
       " 'пейзажист': 0,\n",
       " 'глубокомыслие': 0,\n",
       " 'первопечатник': 0,\n",
       " 'романик': 0,\n",
       " 'недостача': 0,\n",
       " 'гута': 0,\n",
       " 'завоевываться': 0,\n",
       " 'общераспространенный': 0,\n",
       " 'приставляться': 0,\n",
       " 'мазик': 0,\n",
       " 'распиваться': 0,\n",
       " 'электропроводящий': 0,\n",
       " 'переоценка': 0,\n",
       " 'мягкотелость': 0,\n",
       " 'выплачивать': 0,\n",
       " 'формальность': 0,\n",
       " 'заполонять': 0,\n",
       " 'докатиться': 0,\n",
       " 'оскудение': 0,\n",
       " 'жизненность': 0,\n",
       " 'абонент': 0,\n",
       " 'распечатка': 0,\n",
       " 'дословный': 0,\n",
       " 'штришок': 0,\n",
       " 'жниво': 0,\n",
       " 'кобыленка': 0,\n",
       " 'быстровозводимый': 0,\n",
       " 'согласуемый': 0,\n",
       " 'рубать': 0,\n",
       " 'недолет': 0,\n",
       " 'миниатюрка': 0,\n",
       " 'эрика': 0,\n",
       " 'ленивый': 0,\n",
       " 'морщина': 0,\n",
       " 'погребной': 0,\n",
       " 'прихотничать': 0,\n",
       " 'зарисовывать': 0,\n",
       " 'увеличительный': 0,\n",
       " 'загазованность': 0,\n",
       " 'магда': 0,\n",
       " 'клаксон': 0,\n",
       " 'граффити': 0,\n",
       " 'подвигнуться': 0,\n",
       " 'буслаев': 0,\n",
       " 'мясницкий': 0,\n",
       " 'наждак': 0,\n",
       " 'развинчиваться': 0,\n",
       " 'мальчишечка': 0,\n",
       " 'дамаск': 0,\n",
       " 'ежеквартально': 0,\n",
       " 'кли': 0,\n",
       " 'петербуржский': 0,\n",
       " 'ясак': 0,\n",
       " 'беспошлинно': 0,\n",
       " 'меандр': 0,\n",
       " 'пресуществлять': 0,\n",
       " 'надломленный': 0,\n",
       " 'глянец': 0,\n",
       " 'незабавный': 0,\n",
       " 'угодничать': 0,\n",
       " 'дополняться': 0,\n",
       " 'мейл': 0,\n",
       " 'межэтнический': 0,\n",
       " 'подвялившийся': 0,\n",
       " 'топтать': 0,\n",
       " 'скат': 0,\n",
       " 'перевязывать': 0,\n",
       " 'отливать': 0,\n",
       " 'спрингер': 0,\n",
       " 'чашевидный': 0,\n",
       " 'арктика': 0,\n",
       " 'силикат': 0,\n",
       " 'заменитель': 0,\n",
       " 'коллапс': 0,\n",
       " 'натрескаться': 0,\n",
       " 'ершом': 0,\n",
       " 'забулдыжный': 0,\n",
       " 'леживать': 0,\n",
       " 'сморода': 0,\n",
       " 'гурд': 0,\n",
       " 'москвин': 0,\n",
       " 'пересеивать': 0,\n",
       " 'вербовщица': 0,\n",
       " 'обтягивание': 0,\n",
       " 'вервие': 0,\n",
       " 'цареубийца': 0,\n",
       " 'подновляться': 0,\n",
       " 'тантал': 0,\n",
       " 'дурында': 0,\n",
       " 'слоник': 0,\n",
       " 'докторальный': 0,\n",
       " 'раздирание': 0,\n",
       " 'подливочка': 0,\n",
       " 'фармазонство': 0,\n",
       " 'икария': 0,\n",
       " 'эмалировочный': 0,\n",
       " 'полоса': 0,\n",
       " 'тянуться': 0,\n",
       " 'подлеплять': 0,\n",
       " 'соглядатайствовать': 0,\n",
       " 'кровный': 0,\n",
       " 'гостеприимство': 0,\n",
       " 'шельмование': 0,\n",
       " 'выпячивание': 0,\n",
       " 'спонсорство': 0,\n",
       " 'пейнтбольный': 0,\n",
       " 'подрывной': 0,\n",
       " 'макар': 0,\n",
       " 'прожора': 0,\n",
       " 'грамматист': 0,\n",
       " 'куражливый': 0,\n",
       " 'модестовна': 0,\n",
       " 'подделка': 0,\n",
       " 'комментировать': 0,\n",
       " 'исподтишка': 0,\n",
       " 'мудро': 0,\n",
       " 'попугать': 0,\n",
       " 'схитрить': 0,\n",
       " 'каление': 0,\n",
       " 'напридумывать': 0,\n",
       " 'подвигать': 0,\n",
       " 'втроем': 0,\n",
       " 'охристый': 0,\n",
       " 'чернокрылый': 0,\n",
       " 'велком': 0,\n",
       " 'рекреативный': 0,\n",
       " 'минимум': 0,\n",
       " 'плюс': 0,\n",
       " 'волюшка': 0,\n",
       " 'сродник': 0,\n",
       " 'побелка': 0,\n",
       " 'возглавлять': 0,\n",
       " 'континент': 0,\n",
       " 'распеваться': 0,\n",
       " 'зубоскал': 0,\n",
       " 'восхищение': 0,\n",
       " 'дарить': 0,\n",
       " 'уродский': 0,\n",
       " 'мусолить': 0,\n",
       " 'сечься': 0,\n",
       " 'проходимка': 0,\n",
       " 'наружное': 0,\n",
       " 'петровская': 0,\n",
       " 'сеноворошилка': 0,\n",
       " 'мефодий': 0,\n",
       " 'одноцветный': 0,\n",
       " 'косноязычный': 0,\n",
       " 'загрузка': 0,\n",
       " 'продвинутый': 0,\n",
       " 'петровки': 0,\n",
       " 'анания': 0,\n",
       " 'поташный': 0,\n",
       " 'гетеризм': 0,\n",
       " 'анималист': 0,\n",
       " 'захлебывать': 0,\n",
       " 'аннулироваться': 0,\n",
       " 'скачкообразно': 0,\n",
       " 'похристосоваться': 0,\n",
       " 'поденщица': 0,\n",
       " 'приговор': 0,\n",
       " 'материя': 0,\n",
       " 'оперуполномоченный': 0,\n",
       " 'ножовка': 0,\n",
       " 'гололедь': 0,\n",
       " 'кромчанин': 0,\n",
       " 'величать': 0,\n",
       " 'вить': 0,\n",
       " 'иногородний': 0,\n",
       " 'розница': 0,\n",
       " 'кочевряжиться': 0,\n",
       " 'мараться': 0,\n",
       " 'таджикский': 0,\n",
       " 'магнитофонный': 0,\n",
       " 'засранец': 0,\n",
       " 'тапок': 0,\n",
       " 'сравнительно': 0,\n",
       " 'нация': 0,\n",
       " 'инициатор': 0,\n",
       " 'компетенция': 0,\n",
       " 'экранировать': 0,\n",
       " 'деактивировать': 0,\n",
       " 'вязкость': 0,\n",
       " 'трехминутный': 0,\n",
       " 'рыхлеть': 0,\n",
       " 'вышелушивать': 0,\n",
       " 'симс': 0,\n",
       " 'деби': 0,\n",
       " 'этнолог': 0,\n",
       " 'идеограмма': 0,\n",
       " 'двоиться': 0,\n",
       " 'истертый': 0,\n",
       " 'странничать': 0,\n",
       " 'долеживаться': 0,\n",
       " 'ректификатор': 0,\n",
       " 'католически': 0,\n",
       " 'толстошеий': 0,\n",
       " 'коммутатор': 0,\n",
       " 'ноу': 0,\n",
       " 'дрога': 0,\n",
       " 'ролька': 0,\n",
       " 'боро': 0,\n",
       " 'зайцева': 0,\n",
       " 'гекатомба': 0,\n",
       " 'ватиканский': 0,\n",
       " 'скиния': 0,\n",
       " 'витийство': 0,\n",
       " 'пояс': 0,\n",
       " 'лапа': 0,\n",
       " 'незажженный': 0,\n",
       " 'затрезвонить': 0,\n",
       " 'вышивание': 0,\n",
       " 'бесприданница': 0,\n",
       " 'чушка': 0,\n",
       " 'блесна': 0,\n",
       " 'тал': 0,\n",
       " 'почто': 0,\n",
       " 'хронометрический': 0,\n",
       " 'ультрамикроскоп': 0,\n",
       " 'прохватываться': 0,\n",
       " 'менин': 0,\n",
       " 'эротоман': 0,\n",
       " 'роберта': 0,\n",
       " 'конец': 0,\n",
       " 'работа': 0,\n",
       " 'выкричаться': 0,\n",
       " 'приохочиваться': 0,\n",
       " 'шихта': 0,\n",
       " 'повольник': 0,\n",
       " 'расчистка': 0,\n",
       " 'клоака': 0,\n",
       " 'опыляться': 0,\n",
       " 'кратово': 0,\n",
       " 'стук': 0,\n",
       " 'утренний': 0,\n",
       " 'запахнуть': 0,\n",
       " 'охапка': 0,\n",
       " 'перекрой': 0,\n",
       " 'полбанки': 0,\n",
       " 'пехтерь': 0,\n",
       " 'голяков': 0,\n",
       " 'закол': 0,\n",
       " 'цикламен': 0,\n",
       " 'иллюзионист': 0,\n",
       " 'противница': 0,\n",
       " 'хохленок': 0,\n",
       " 'грачевка': 0,\n",
       " 'разархивировать': 0,\n",
       " 'спонсироваться': 0,\n",
       " 'монизм': 0,\n",
       " 'радиолюбительство': 0,\n",
       " 'вылепляться': 0,\n",
       " 'поистратиться': 0,\n",
       " 'обет': 0,\n",
       " 'страшиться': 0,\n",
       " 'поземельный': 0,\n",
       " 'разномыслие': 0,\n",
       " 'тиун': 0,\n",
       " 'кмет': 0,\n",
       " 'пахтать': 0,\n",
       " 'жарынь': 0,\n",
       " 'супонь': 0,\n",
       " 'описывание': 0,\n",
       " 'неморальный': 0,\n",
       " 'предавать': 0,\n",
       " 'алтарь': 0,\n",
       " 'транспортирование': 0,\n",
       " 'сбредить': 0,\n",
       " 'слушание': 0,\n",
       " 'самообман': 0,\n",
       " 'озабоченно': 0,\n",
       " 'фартук': 0,\n",
       " 'проповедь': 0,\n",
       " 'исправление': 0,\n",
       " 'предупреждение': 0,\n",
       " 'заново': 0,\n",
       " 'рэп': 0,\n",
       " 'онкология': 0,\n",
       " 'злеть': 0,\n",
       " 'терен': 0,\n",
       " 'девятитысячный': 0,\n",
       " 'вредитель': 0,\n",
       " 'стратег': 0,\n",
       " 'высокоталантливый': 0,\n",
       " 'опошляться': 0,\n",
       " 'хакнуть': 0,\n",
       " 'иждивенец': 0,\n",
       " 'разностильный': 0,\n",
       " 'эльбрус': 0,\n",
       " 'постранично': 0,\n",
       " 'левин': 0,\n",
       " 'протезист': 0,\n",
       " 'киноафиша': 0,\n",
       " 'обустраивать': 0,\n",
       " 'скопировать': 0,\n",
       " 'пыхать': 0,\n",
       " 'стыть': 0,\n",
       " 'ури': 0,\n",
       " 'подносный': 0,\n",
       " 'феофилактович': 0,\n",
       " 'прохор': 0,\n",
       " 'пыть': 0,\n",
       " 'провоцирование': 0,\n",
       " 'спектрограф': 0,\n",
       " 'панспермия': 0,\n",
       " 'тальник': 0,\n",
       " 'скорняк': 0,\n",
       " 'противоаллергический': 0,\n",
       " 'грязева': 0,\n",
       " 'докачаться': 0,\n",
       " 'левша': 0,\n",
       " 'обворовывать': 0,\n",
       " 'фавн': 0,\n",
       " 'молочница': 0,\n",
       " 'савицкий': 0,\n",
       " 'смекалистость': 0,\n",
       " 'мягенький': 0,\n",
       " 'незаконнорожденность': 0,\n",
       " 'ненаходчивый': 0,\n",
       " 'воздвиженский': 0,\n",
       " 'моня': 0,\n",
       " 'окрыление': 0,\n",
       " 'носатый': 0,\n",
       " 'притулиться': 0,\n",
       " 'курин': 0,\n",
       " 'хрюкало': 0,\n",
       " 'желаньице': 0,\n",
       " 'власовна': 0,\n",
       " 'экспонировать': 0,\n",
       " 'буффонада': 0,\n",
       " 'искупаться': 0,\n",
       " 'беззлобный': 0,\n",
       " 'схоронить': 0,\n",
       " 'хмель': 0,\n",
       " 'побрызгать': 0,\n",
       " 'пошатывать': 0,\n",
       " 'чудиха': 0,\n",
       " 'водогрейня': 0,\n",
       " 'лукава': 0,\n",
       " 'освежительный': 0,\n",
       " 'помидор': 0,\n",
       " 'чертовый': 0,\n",
       " 'дискретность': 0,\n",
       " 'металлоид': 0,\n",
       " 'хитроумно': 0,\n",
       " 'перетрусить': 0,\n",
       " 'полиграф': 0,\n",
       " 'сужение': 0,\n",
       " 'смирнеть': 0,\n",
       " 'тополек': 0,\n",
       " 'коптильня': 0,\n",
       " 'косатка': 0,\n",
       " 'отступница': 0,\n",
       " 'крайн': 0,\n",
       " 'мозольный': 0,\n",
       " 'прокутиться': 0,\n",
       " 'длительно': 0,\n",
       " 'цикута': 0,\n",
       " 'завялый': 0,\n",
       " 'лужанка': 0,\n",
       " 'ромашковый': 0,\n",
       " 'затеребить': 0,\n",
       " 'ротшильд': 0,\n",
       " 'добровольчество': 0,\n",
       " 'наворачиваться': 0,\n",
       " 'секретер': 0,\n",
       " 'оглашенный': 0,\n",
       " 'побывка': 0,\n",
       " 'татаринова': 0,\n",
       " 'апологетически': 0,\n",
       " 'аудитория': 0,\n",
       " 'общежитие': 0,\n",
       " 'скручиваться': 0,\n",
       " 'пританцовывать': 0,\n",
       " 'небронированный': 0,\n",
       " 'мерона': 0,\n",
       " 'надутый': 0,\n",
       " 'перебалтываться': 0,\n",
       " 'спекульнуть': 0,\n",
       " 'обмеблировывать': 0,\n",
       " 'арлекинский': 0,\n",
       " 'индиец': 0,\n",
       " 'узость': 0,\n",
       " 'безыменный': 0,\n",
       " 'онегин': 0,\n",
       " 'зюзя': 0,\n",
       " 'короткопалый': 0,\n",
       " 'самозатачивающийся': 0,\n",
       " 'заковырка': 0,\n",
       " 'папка': 0,\n",
       " 'босс': 0,\n",
       " 'камбиз': 0,\n",
       " 'подкарауливание': 0,\n",
       " 'канцероген': 0,\n",
       " 'недобирать': 0,\n",
       " 'сигнатурка': 0,\n",
       " 'расимович': 0,\n",
       " 'скептик': 0,\n",
       " 'армянский': 0,\n",
       " 'предвозвестник': 0,\n",
       " 'повсечасный': 0,\n",
       " 'всхожесть': 0,\n",
       " 'назначенец': 0,\n",
       " 'полоскать': 0,\n",
       " 'помои': 0,\n",
       " 'орденоносец': 0,\n",
       " 'коррумпировать': 0,\n",
       " 'харпер': 0,\n",
       " 'эротичность': 0,\n",
       " 'гласиться': 0,\n",
       " 'сдвижение': 0,\n",
       " 'отложение': 0,\n",
       " 'вещание': 0,\n",
       " 'бутафор': 0,\n",
       " 'оттрясать': 0,\n",
       " 'наколка': 0,\n",
       " 'градусник': 0,\n",
       " 'обыгрывать': 0,\n",
       " 'делишки': 0,\n",
       " 'неохлажденный': 0,\n",
       " 'рингвуд': 0,\n",
       " 'жозеф': 0,\n",
       " 'непрерывающийся': 0,\n",
       " 'детва': 0,\n",
       " 'рязань': 0,\n",
       " 'кыштымский': 0,\n",
       " 'светотехника': 0,\n",
       " 'антисептический': 0,\n",
       " 'клетчатка': 0,\n",
       " 'перетаптываться': 0,\n",
       " 'помидорный': 0,\n",
       " 'подпольщица': 0,\n",
       " 'дакар': 0,\n",
       " 'дневный': 0,\n",
       " 'множить': 0,\n",
       " 'ярошинская': 0,\n",
       " 'чебуречная': 0,\n",
       " 'середка': 0,\n",
       " 'лещ': 0,\n",
       " 'альмавива': 0,\n",
       " 'антреприза': 0,\n",
       " 'пунктуально': 0,\n",
       " 'пристойность': 0,\n",
       " 'транспортабельный': 0,\n",
       " 'поллитровый': 0,\n",
       " 'телушка': 0,\n",
       " 'калякать': 0,\n",
       " 'болотова': 0,\n",
       " 'ренегатка': 0,\n",
       " 'позиционирование': 0,\n",
       " 'ионосфера': 0,\n",
       " 'гамба': 0,\n",
       " 'насущность': 0,\n",
       " 'стрельбище': 0,\n",
       " 'диверсионный': 0,\n",
       " 'андрэ': 0,\n",
       " 'ублюдочно': 0,\n",
       " 'ларечница': 0,\n",
       " 'наколобродить': 0,\n",
       " 'фурьерист': 0,\n",
       " 'федотовна': 0,\n",
       " 'сжалиться': 0,\n",
       " 'смиренно': 0,\n",
       " 'пророческий': 0,\n",
       " 'отверженный': 0,\n",
       " 'пахотный': 0,\n",
       " 'батальный': 0,\n",
       " 'триолет': 0,\n",
       " 'болонец': 0,\n",
       " 'беззаботный': 0,\n",
       " 'переплет': 0,\n",
       " 'опорочивать': 0,\n",
       " 'плебейский': 0,\n",
       " 'оскребки': 0,\n",
       " 'мужествовать': 0,\n",
       " 'сведенборг': 0,\n",
       " 'доктринальный': 0,\n",
       " 'ретинол': 0,\n",
       " 'мотто': 0,\n",
       " 'богач': 0,\n",
       " 'высылать': 0,\n",
       " 'нынче': 0,\n",
       " 'бывало': 0,\n",
       " 'аккумулятор': 0,\n",
       " 'предохранитель': 0,\n",
       " 'энтомологический': 0,\n",
       " 'вега': 0,\n",
       " 'прочитывание': 0,\n",
       " 'нелиберальный': 0,\n",
       " 'фиат': 0,\n",
       " 'витринный': 0,\n",
       " 'туннелепроходческий': 0,\n",
       " 'догружаться': 0,\n",
       " 'клептоман': 0,\n",
       " 'озвучка': 0,\n",
       " 'полдень': 0,\n",
       " 'пробираться': 0,\n",
       " 'расизм': 0,\n",
       " 'конферансье': 0,\n",
       " 'запрещение': 0,\n",
       " 'сообразно': 0,\n",
       " 'нешлифованный': 0,\n",
       " 'авад': 0,\n",
       " 'стапель': 0,\n",
       " 'контрактник': 0,\n",
       " 'неделя': 0,\n",
       " 'дома': 0,\n",
       " 'перекоры': 0,\n",
       " 'облыжный': 0,\n",
       " 'приуставать': 0,\n",
       " 'братов': 0,\n",
       " 'мамай': 0,\n",
       " 'фенакит': 0,\n",
       " 'ходульный': 0,\n",
       " 'говорение': 0,\n",
       " 'экстрасистола': 0,\n",
       " 'перенаселять': 0,\n",
       " 'перегонка': 0,\n",
       " 'подряжать': 0,\n",
       " 'безобразие': 0,\n",
       " 'похвалить': 0,\n",
       " 'электрокардиограмма': 0,\n",
       " 'стивенсон': 0,\n",
       " 'неустойка': 0,\n",
       " 'втираться': 0,\n",
       " 'ассоциация': 0,\n",
       " 'ген': 0,\n",
       " 'плавать': 0,\n",
       " 'узел': 0,\n",
       " 'полати': 0,\n",
       " 'глядь': 0,\n",
       " 'лаконично': 0,\n",
       " 'колоритный': 0,\n",
       " 'светскость': 0,\n",
       " 'театрал': 0,\n",
       " 'атанас': 0,\n",
       " 'хорин': 0,\n",
       " 'сорт': 0,\n",
       " 'арест': 0,\n",
       " 'убористо': 0,\n",
       " 'велосипедистка': 0,\n",
       " 'плюхаться': 0,\n",
       " 'валерьянка': 0,\n",
       " 'коробкообразный': 0,\n",
       " 'средневик': 0,\n",
       " 'носовой': 0,\n",
       " 'марка': 0,\n",
       " 'посхимить': 0,\n",
       " 'нубия': 0,\n",
       " 'атональный': 0,\n",
       " 'ланкаширский': 0,\n",
       " 'артерия': 0,\n",
       " 'скопиться': 0,\n",
       " 'репетировать': 0,\n",
       " 'орхидея': 0,\n",
       " 'транжир': 0,\n",
       " 'паспортистка': 0,\n",
       " 'отъезжающий': 0,\n",
       " 'весной': 0,\n",
       " 'эгоист': 0,\n",
       " 'фортепиано': 0,\n",
       " 'расклевывать': 0,\n",
       " 'тулово': 0,\n",
       " 'аляповато': 0,\n",
       " 'закаливаться': 0,\n",
       " 'апатически': 0,\n",
       " 'перелистовать': 0,\n",
       " 'пиршествовать': 0,\n",
       " 'объездка': 0,\n",
       " 'сульфаниламид': 0,\n",
       " 'интифад': 0,\n",
       " 'хаз': 0,\n",
       " 'чудило': 0,\n",
       " 'малоречивый': 0,\n",
       " 'воря': 0,\n",
       " 'онер': 0,\n",
       " 'аллегри': 0,\n",
       " 'консультантский': 0,\n",
       " 'хрущев': 0,\n",
       " 'увещевать': 0,\n",
       " 'продержать': 0,\n",
       " 'сценарий': 0,\n",
       " 'эксперт': 0,\n",
       " 'ржаветь': 0,\n",
       " 'однорукий': 0,\n",
       " 'охальница': 0,\n",
       " 'шерочка': 0,\n",
       " 'питься': 0,\n",
       " 'угодливость': 0,\n",
       " 'устрашительный': 0,\n",
       " 'работенка': 0,\n",
       " 'подкачивать': 0,\n",
       " 'горизонтально': 0,\n",
       " 'недостроенный': 0,\n",
       " 'беспробудный': 0,\n",
       " 'обманный': 0,\n",
       " 'чернявый': 0,\n",
       " 'проулок': 0,\n",
       " 'омон': 0,\n",
       " 'оттепельный': 0,\n",
       " 'ближневосточный': 0,\n",
       " 'согласованность': 0,\n",
       " 'грубоватость': 0,\n",
       " 'эрнест': 0,\n",
       " 'звериный': 0,\n",
       " 'хищный': 0,\n",
       " 'вытравлять': 0,\n",
       " 'овсяный': 0,\n",
       " 'рязанцев': 0,\n",
       " 'брехт': 0,\n",
       " 'изворотливость': 0,\n",
       " 'приумножать': 0,\n",
       " 'мертвец': 0,\n",
       " 'рог': 0,\n",
       " 'неисчислимый': 0,\n",
       " 'умерщвлять': 0,\n",
       " 'ящичек': 0,\n",
       " 'кактус': 0,\n",
       " 'еланский': 0,\n",
       " 'понтус': 0,\n",
       " 'левада': 0,\n",
       " 'галерейка': 0,\n",
       " 'прогневить': 0,\n",
       " 'перстенек': 0,\n",
       " 'девчонка': 0,\n",
       " 'спасибо': 0,\n",
       " 'важничанье': 0,\n",
       " 'бирюлевский': 0,\n",
       " 'неробкий': 0,\n",
       " 'осиплый': 0,\n",
       " 'джонсон': 0,\n",
       " 'многомиллиардный': 0,\n",
       " 'должать': 0,\n",
       " 'выгоняться': 0,\n",
       " 'блудливый': 0,\n",
       " ...}"
      ]
     },
     "execution_count": 117,
     "metadata": {},
     "output_type": "execute_result"
    }
   ],
   "source": [
    "cc"
   ]
  },
  {
   "cell_type": "code",
   "execution_count": 114,
   "id": "fcbb4e6f",
   "metadata": {},
   "outputs": [],
   "source": [
    "w_cc = nx.clustering(rng_ru_6, weight='weight')"
   ]
  },
  {
   "cell_type": "code",
   "execution_count": 116,
   "id": "a4925610",
   "metadata": {},
   "outputs": [
    {
     "data": {
      "image/png": "[encoded data removed]",
      "text/plain": [
       "<Figure size 720x432 with 1 Axes>"
      ]
     },
     "metadata": {
      "needs_background": "light"
     },
     "output_type": "display_data"
    }
   ],
   "source": [
    "plt.figure(figsize=(10, 6))\n",
    "plt.hist(cc.values(), bins=1000)\n",
    "# plt.ylim(0, 1200)\n",
    "plt.grid()\n",
    "plt.title(\"Распределение clustering coefficient\")\n",
    "plt.xlabel(\"Значение clustering coefficient\")\n",
    "plt.ylabel(\"Кол-во вершин\")\n",
    "plt.show()"
   ]
  },
  {
   "cell_type": "code",
   "execution_count": 118,
   "id": "dfcbf8bc",
   "metadata": {},
   "outputs": [
    {
     "data": {
      "text/plain": [
       "0.0"
      ]
     },
     "execution_count": 118,
     "metadata": {},
     "output_type": "execute_result"
    }
   ],
   "source": [
    "nx.average_clustering(rng_ru_6)"
   ]
  },
  {
   "cell_type": "code",
   "execution_count": 119,
   "id": "2bf205eb",
   "metadata": {},
   "outputs": [
    {
     "data": {
      "text/plain": [
       "0.0"
      ]
     },
     "execution_count": 119,
     "metadata": {},
     "output_type": "execute_result"
    }
   ],
   "source": [
    "nx.average_clustering(rng_ru_6, weight='weight')"
   ]
  },
  {
   "cell_type": "code",
   "execution_count": 4,
   "id": "677b6ad1",
   "metadata": {},
   "outputs": [],
   "source": [
    "nds = list(rng_ru_6.nodes)[:10000]"
   ]
  },
  {
   "cell_type": "code",
   "execution_count": 5,
   "id": "578011e1",
   "metadata": {},
   "outputs": [
    {
     "data": {
      "text/plain": [
       "0.8787716101534929"
      ]
     },
     "execution_count": 5,
     "metadata": {},
     "output_type": "execute_result"
    }
   ],
   "source": [
    "nx.degree_assortativity_coefficient(rng_ru_6, weight='weight', nodes=nds)"
   ]
  },
  {
   "cell_type": "code",
   "execution_count": 6,
   "id": "386e372a",
   "metadata": {},
   "outputs": [],
   "source": [
    "rc = nx.rich_club_coefficient(rng_ru_6, normalized=False)"
   ]
  },
  {
   "cell_type": "code",
   "execution_count": null,
   "id": "baadbecd",
   "metadata": {},
   "outputs": [],
   "source": []
  },
  {
   "cell_type": "code",
   "execution_count": 7,
   "id": "0d0cb511",
   "metadata": {},
   "outputs": [
    {
     "data": {
      "image/png": "[encoded data removed]",
      "text/plain": [
       "<Figure size 720x432 with 1 Axes>"
      ]
     },
     "metadata": {
      "needs_background": "light"
     },
     "output_type": "display_data"
    }
   ],
   "source": [
    "plt.figure(figsize=(10, 6))\n",
    "plt.bar(x=rc.keys(), height=rc.values())\n",
    "plt.grid()\n",
    "plt.title(\"Rich club coefficient\")\n",
    "plt.xlabel(\"k\")\n",
    "plt.ylabel(\"Значение rich club coefficient\")\n",
    "plt.show()"
   ]
  },
  {
   "cell_type": "code",
   "execution_count": null,
   "id": "bb16d081",
   "metadata": {},
   "outputs": [],
   "source": []
  },
  {
   "cell_type": "code",
   "execution_count": null,
   "id": "29631be1",
   "metadata": {},
   "outputs": [],
   "source": []
  },
  {
   "cell_type": "code",
   "execution_count": null,
   "id": "5c8dabfc",
   "metadata": {},
   "outputs": [],
   "source": []
  }
 ],
 "metadata": {
  "kernelspec": {
   "display_name": "Python 3 (ipykernel)",
   "language": "python",
   "name": "python3"
  },
  "language_info": {
   "codemirror_mode": {
    "name": "ipython",
    "version": 3
   },
   "file_extension": ".py",
   "mimetype": "text/x-python",
   "name": "python",
   "nbconvert_exporter": "python",
   "pygments_lexer": "ipython3",
   "version": "3.9.7"
  }
 },
 "nbformat": 4,
 "nbformat_minor": 5
}
