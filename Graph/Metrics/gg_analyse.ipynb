{
 "cells": [
  {
   "cell_type": "code",
   "execution_count": 2,
   "id": "a2dbe08b",
   "metadata": {},
   "outputs": [],
   "source": [
    "from graph_utils import *\n",
    "import networkx as nx\n",
    "import numpy as np\n",
    "import matplotlib.pyplot as plt\n",
    "from scipy.stats import shapiro, normaltest, anderson"
   ]
  },
  {
   "cell_type": "markdown",
   "id": "099b45ec",
   "metadata": {},
   "source": [
    "# Характеристики графа Габриэля (vector length 6)"
   ]
  },
  {
   "cell_type": "code",
   "execution_count": 3,
   "id": "6693eee4",
   "metadata": {},
   "outputs": [
    {
     "name": "stderr",
     "output_type": "stream",
     "text": [
      "100%|██████████████████████████████| 1867261/1867261 [00:20<00:00, 93063.35it/s]\n"
     ]
    }
   ],
   "source": [
    "gg_ru = np.load(\"/Users/yuvlo/Spot-the-bot/Graph/GraphCheck/6_gg_ru.npy\", allow_pickle=True).take(0)\n",
    "\n",
    "gg_ru_6 = nx.Graph()\n",
    "my_gg_ru_6 = GG(gg_ru)\n",
    "\n",
    "edges = my_gg_ru_6.get_weighted_edges()\n",
    "gg_ru_6.add_weighted_edges_from(edges)"
   ]
  },
  {
   "cell_type": "code",
   "execution_count": 16,
   "id": "9c2583b1",
   "metadata": {},
   "outputs": [],
   "source": [
    "df = pd.read_csv(\"/Users/yuvlo/Spot-the-bot/Russian/RuPreprocessedNoSep.csv\")\n",
    "df_bot = pd.read_csv(\"/Users/yuvlo/Spot-the-bot/Russian/BotRuPreprocessedNoSep.csv\")"
   ]
  },
  {
   "cell_type": "code",
   "execution_count": 19,
   "id": "b63566b7",
   "metadata": {},
   "outputs": [],
   "source": [
    "df['text_len'] = df['preprocessed_text_no_sep'].apply(lambda text: len(text.split()))\n",
    "df_bot['text_len'] = df_bot['bot_preprocessed_text_no_sep'].apply(lambda text: len(text.split()))"
   ]
  },
  {
   "cell_type": "code",
   "execution_count": 36,
   "id": "d8e94742",
   "metadata": {},
   "outputs": [],
   "source": [
    "df.sort_values(by=\"text_len\", inplace=True)\n",
    "df_bot.sort_values(by=\"text_len\", inplace=True)"
   ]
  },
  {
   "cell_type": "code",
   "execution_count": 44,
   "id": "5297a04b",
   "metadata": {},
   "outputs": [],
   "source": [
    "indexes = list(df[np.logical_and(5000 <= df['text_len'], df['text_len'] <= 5350)].index)"
   ]
  },
  {
   "cell_type": "code",
   "execution_count": 51,
   "id": "283f1510",
   "metadata": {},
   "outputs": [],
   "source": [
    "def create_length_indexes(df, df_bot, interval: tuple) -> indexes:\n",
    "    df['text_len'] = df['preprocessed_text_no_sep'].apply(lambda text: len(text.split()))\n",
    "    df_bot['text_len'] = df_bot['bot_preprocessed_text_no_sep'].apply(lambda text: len(text.split()))\n",
    "    df.sort_values(by=\"text_len\", inplace=True)\n",
    "    df_bot.sort_values(by=\"text_len\", inplace=True)\n",
    "    indexes = list(df[np.logical_and(interval[0] <= df['text_len'], df['text_len'] <= interval[1])].index)\n",
    "    return indexes"
   ]
  },
  {
   "cell_type": "code",
   "execution_count": 52,
   "id": "fc6ff83c",
   "metadata": {},
   "outputs": [],
   "source": [
    "indexes = create_length_indexes(df, df_bot, (5000, 5350))"
   ]
  },
  {
   "cell_type": "code",
   "execution_count": 66,
   "id": "1252cc75",
   "metadata": {},
   "outputs": [],
   "source": [
    "curr_indexes = []\n",
    "count = 1\n",
    "for index in indexes:\n",
    "    curr_indexes.append(index)\n",
    "    if len(curr_indexes) == 11:\n",
    "        np.save(f\"{count}_texts_indexes_5000\", np.array(curr_indexes))\n",
    "        count += 1\n",
    "        curr_indexes = []"
   ]
  },
  {
   "cell_type": "code",
   "execution_count": 65,
   "id": "903e146c",
   "metadata": {},
   "outputs": [],
   "source": [
    "ind = np.load(\"/Users/yuvlo/Spot-the-bot/Graph/11_texts_indexes_5000.npy\")"
   ]
  },
  {
   "cell_type": "code",
   "execution_count": 63,
   "id": "aa1d5963",
   "metadata": {},
   "outputs": [
    {
     "data": {
      "text/plain": [
       "array([5786, 7932, 2723, 4266, 2500, 4666, 5715, 7540, 3914, 9605, 6394,\n",
       "        280, 4316, 8344,  370, 5744, 7010, 1894, 6210])"
      ]
     },
     "execution_count": 63,
     "metadata": {},
     "output_type": "execute_result"
    }
   ],
   "source": [
    "ind"
   ]
  },
  {
   "cell_type": "code",
   "execution_count": 58,
   "id": "e493d485",
   "metadata": {},
   "outputs": [
    {
     "data": {
      "text/plain": [
       "209"
      ]
     },
     "execution_count": 58,
     "metadata": {},
     "output_type": "execute_result"
    }
   ],
   "source": [
    "len(indexes)"
   ]
  },
  {
   "cell_type": "code",
   "execution_count": 56,
   "id": "f43c7bc0",
   "metadata": {},
   "outputs": [
    {
     "data": {
      "text/html": [
       "<div>\n",
       "<style scoped>\n",
       "    .dataframe tbody tr th:only-of-type {\n",
       "        vertical-align: middle;\n",
       "    }\n",
       "\n",
       "    .dataframe tbody tr th {\n",
       "        vertical-align: top;\n",
       "    }\n",
       "\n",
       "    .dataframe thead th {\n",
       "        text-align: right;\n",
       "    }\n",
       "</style>\n",
       "<table border=\"1\" class=\"dataframe\">\n",
       "  <thead>\n",
       "    <tr style=\"text-align: right;\">\n",
       "      <th></th>\n",
       "      <th>preprocessed_text_no_sep</th>\n",
       "      <th>text_len</th>\n",
       "    </tr>\n",
       "  </thead>\n",
       "  <tbody>\n",
       "    <tr>\n",
       "      <th>5786</th>\n",
       "      <td>истребитель тварь истребитель тварь григорий и...</td>\n",
       "      <td>5000</td>\n",
       "    </tr>\n",
       "    <tr>\n",
       "      <th>7932</th>\n",
       "      <td>владимир галактионович начало девяностый год п...</td>\n",
       "      <td>5000</td>\n",
       "    </tr>\n",
       "    <tr>\n",
       "      <th>2723</th>\n",
       "      <td>хроника хроника весь право защищать никакой ча...</td>\n",
       "      <td>5002</td>\n",
       "    </tr>\n",
       "    <tr>\n",
       "      <th>4266</th>\n",
       "      <td>острие ужас острие ужас григорий острие ужас п...</td>\n",
       "      <td>5004</td>\n",
       "    </tr>\n",
       "    <tr>\n",
       "      <th>2500</th>\n",
       "      <td>василий добрый генерал представлять также боль...</td>\n",
       "      <td>5007</td>\n",
       "    </tr>\n",
       "    <tr>\n",
       "      <th>...</th>\n",
       "      <td>...</td>\n",
       "      <td>...</td>\n",
       "    </tr>\n",
       "    <tr>\n",
       "      <th>9827</th>\n",
       "      <td>каникулы каникулы агата кристи каникулы глава ...</td>\n",
       "      <td>5338</td>\n",
       "    </tr>\n",
       "    <tr>\n",
       "      <th>6590</th>\n",
       "      <td>год год александр сергеевич пушкин год городок...</td>\n",
       "      <td>5341</td>\n",
       "    </tr>\n",
       "    <tr>\n",
       "      <th>5000</th>\n",
       "      <td>кадетский монастырь глава первый переводиться ...</td>\n",
       "      <td>5344</td>\n",
       "    </tr>\n",
       "    <tr>\n",
       "      <th>198</th>\n",
       "      <td>зинаида гиппиус неуместный рифма напевный пот ...</td>\n",
       "      <td>5344</td>\n",
       "    </tr>\n",
       "    <tr>\n",
       "      <th>4914</th>\n",
       "      <td>богатый бедняк богатый бедняк василий трофимов...</td>\n",
       "      <td>5347</td>\n",
       "    </tr>\n",
       "  </tbody>\n",
       "</table>\n",
       "<p>209 rows × 2 columns</p>\n",
       "</div>"
      ],
      "text/plain": [
       "                               preprocessed_text_no_sep  text_len\n",
       "5786  истребитель тварь истребитель тварь григорий и...      5000\n",
       "7932  владимир галактионович начало девяностый год п...      5000\n",
       "2723  хроника хроника весь право защищать никакой ча...      5002\n",
       "4266  острие ужас острие ужас григорий острие ужас п...      5004\n",
       "2500  василий добрый генерал представлять также боль...      5007\n",
       "...                                                 ...       ...\n",
       "9827  каникулы каникулы агата кристи каникулы глава ...      5338\n",
       "6590  год год александр сергеевич пушкин год городок...      5341\n",
       "5000  кадетский монастырь глава первый переводиться ...      5344\n",
       "198   зинаида гиппиус неуместный рифма напевный пот ...      5344\n",
       "4914  богатый бедняк богатый бедняк василий трофимов...      5347\n",
       "\n",
       "[209 rows x 2 columns]"
      ]
     },
     "execution_count": 56,
     "metadata": {},
     "output_type": "execute_result"
    }
   ],
   "source": [
    "df.loc[indexes]"
   ]
  },
  {
   "cell_type": "code",
   "execution_count": 55,
   "id": "35b16dcf",
   "metadata": {},
   "outputs": [
    {
     "data": {
      "text/html": [
       "<div>\n",
       "<style scoped>\n",
       "    .dataframe tbody tr th:only-of-type {\n",
       "        vertical-align: middle;\n",
       "    }\n",
       "\n",
       "    .dataframe tbody tr th {\n",
       "        vertical-align: top;\n",
       "    }\n",
       "\n",
       "    .dataframe thead th {\n",
       "        text-align: right;\n",
       "    }\n",
       "</style>\n",
       "<table border=\"1\" class=\"dataframe\">\n",
       "  <thead>\n",
       "    <tr style=\"text-align: right;\">\n",
       "      <th></th>\n",
       "      <th>bot_preprocessed_text_no_sep</th>\n",
       "      <th>text_len</th>\n",
       "    </tr>\n",
       "  </thead>\n",
       "  <tbody>\n",
       "    <tr>\n",
       "      <th>5786</th>\n",
       "      <td>приходить подобный большой подруга весь весь с...</td>\n",
       "      <td>4508</td>\n",
       "    </tr>\n",
       "    <tr>\n",
       "      <th>7932</th>\n",
       "      <td>пристально становиться подобный девушка молодо...</td>\n",
       "      <td>4689</td>\n",
       "    </tr>\n",
       "    <tr>\n",
       "      <th>2723</th>\n",
       "      <td>возможно возможность признаваться заставлять п...</td>\n",
       "      <td>4754</td>\n",
       "    </tr>\n",
       "    <tr>\n",
       "      <th>4266</th>\n",
       "      <td>приходить весь должный просто подниматься проп...</td>\n",
       "      <td>4604</td>\n",
       "    </tr>\n",
       "    <tr>\n",
       "      <th>2500</th>\n",
       "      <td>конец просто получать подвигаться принимать пр...</td>\n",
       "      <td>4363</td>\n",
       "    </tr>\n",
       "    <tr>\n",
       "      <th>...</th>\n",
       "      <td>...</td>\n",
       "      <td>...</td>\n",
       "    </tr>\n",
       "    <tr>\n",
       "      <th>9827</th>\n",
       "      <td>подавать подумать возможно подобный подобный п...</td>\n",
       "      <td>5190</td>\n",
       "    </tr>\n",
       "    <tr>\n",
       "      <th>6590</th>\n",
       "      <td>подходить весь настоящий весь отец просто мочь...</td>\n",
       "      <td>4825</td>\n",
       "    </tr>\n",
       "    <tr>\n",
       "      <th>5000</th>\n",
       "      <td>свой сторона подписывать помогать дело просто ...</td>\n",
       "      <td>4755</td>\n",
       "    </tr>\n",
       "    <tr>\n",
       "      <th>198</th>\n",
       "      <td>становиться стол становиться проводить просто ...</td>\n",
       "      <td>4978</td>\n",
       "    </tr>\n",
       "    <tr>\n",
       "      <th>4914</th>\n",
       "      <td>принимать подавать потерять соглашаться поддер...</td>\n",
       "      <td>4822</td>\n",
       "    </tr>\n",
       "  </tbody>\n",
       "</table>\n",
       "<p>209 rows × 2 columns</p>\n",
       "</div>"
      ],
      "text/plain": [
       "                           bot_preprocessed_text_no_sep  text_len\n",
       "5786  приходить подобный большой подруга весь весь с...      4508\n",
       "7932  пристально становиться подобный девушка молодо...      4689\n",
       "2723  возможно возможность признаваться заставлять п...      4754\n",
       "4266  приходить весь должный просто подниматься проп...      4604\n",
       "2500  конец просто получать подвигаться принимать пр...      4363\n",
       "...                                                 ...       ...\n",
       "9827  подавать подумать возможно подобный подобный п...      5190\n",
       "6590  подходить весь настоящий весь отец просто мочь...      4825\n",
       "5000  свой сторона подписывать помогать дело просто ...      4755\n",
       "198   становиться стол становиться проводить просто ...      4978\n",
       "4914  принимать подавать потерять соглашаться поддер...      4822\n",
       "\n",
       "[209 rows x 2 columns]"
      ]
     },
     "execution_count": 55,
     "metadata": {},
     "output_type": "execute_result"
    }
   ],
   "source": [
    "df_bot.loc[indexes]"
   ]
  },
  {
   "cell_type": "code",
   "execution_count": 21,
   "id": "c9a8bb1e",
   "metadata": {},
   "outputs": [
    {
     "data": {
      "text/html": [
       "<div>\n",
       "<style scoped>\n",
       "    .dataframe tbody tr th:only-of-type {\n",
       "        vertical-align: middle;\n",
       "    }\n",
       "\n",
       "    .dataframe tbody tr th {\n",
       "        vertical-align: top;\n",
       "    }\n",
       "\n",
       "    .dataframe thead th {\n",
       "        text-align: right;\n",
       "    }\n",
       "</style>\n",
       "<table border=\"1\" class=\"dataframe\">\n",
       "  <thead>\n",
       "    <tr style=\"text-align: right;\">\n",
       "      <th></th>\n",
       "      <th>bot_preprocessed_text_no_sep</th>\n",
       "      <th>text_len</th>\n",
       "    </tr>\n",
       "  </thead>\n",
       "  <tbody>\n",
       "    <tr>\n",
       "      <th>0</th>\n",
       "      <td>рассказывать попросить собираться приходиться ...</td>\n",
       "      <td>10023</td>\n",
       "    </tr>\n",
       "    <tr>\n",
       "      <th>1</th>\n",
       "      <td>становиться позволять приходить весь столько п...</td>\n",
       "      <td>884</td>\n",
       "    </tr>\n",
       "    <tr>\n",
       "      <th>2</th>\n",
       "      <td>представлять просто весь слово помогать подобн...</td>\n",
       "      <td>3704</td>\n",
       "    </tr>\n",
       "    <tr>\n",
       "      <th>3</th>\n",
       "      <td>старик становиться удовольствие просто обезору...</td>\n",
       "      <td>11227</td>\n",
       "    </tr>\n",
       "    <tr>\n",
       "      <th>4</th>\n",
       "      <td>поставлять заставлять просто просто стоять ста...</td>\n",
       "      <td>11301</td>\n",
       "    </tr>\n",
       "    <tr>\n",
       "      <th>...</th>\n",
       "      <td>...</td>\n",
       "      <td>...</td>\n",
       "    </tr>\n",
       "    <tr>\n",
       "      <th>10398</th>\n",
       "      <td>получать оставаться просто последний родственн...</td>\n",
       "      <td>14517</td>\n",
       "    </tr>\n",
       "    <tr>\n",
       "      <th>10399</th>\n",
       "      <td>принимать голова случай просто становиться пос...</td>\n",
       "      <td>12954</td>\n",
       "    </tr>\n",
       "    <tr>\n",
       "      <th>10400</th>\n",
       "      <td>старый приходиться слово поступать случай неск...</td>\n",
       "      <td>18177</td>\n",
       "    </tr>\n",
       "    <tr>\n",
       "      <th>10401</th>\n",
       "      <td>разговор становиться положение подходить подым...</td>\n",
       "      <td>5278</td>\n",
       "    </tr>\n",
       "    <tr>\n",
       "      <th>10402</th>\n",
       "      <td>просто вернуться последний свой представлять п...</td>\n",
       "      <td>5563</td>\n",
       "    </tr>\n",
       "  </tbody>\n",
       "</table>\n",
       "<p>10403 rows × 2 columns</p>\n",
       "</div>"
      ],
      "text/plain": [
       "                            bot_preprocessed_text_no_sep  text_len\n",
       "0      рассказывать попросить собираться приходиться ...     10023\n",
       "1      становиться позволять приходить весь столько п...       884\n",
       "2      представлять просто весь слово помогать подобн...      3704\n",
       "3      старик становиться удовольствие просто обезору...     11227\n",
       "4      поставлять заставлять просто просто стоять ста...     11301\n",
       "...                                                  ...       ...\n",
       "10398  получать оставаться просто последний родственн...     14517\n",
       "10399  принимать голова случай просто становиться пос...     12954\n",
       "10400  старый приходиться слово поступать случай неск...     18177\n",
       "10401  разговор становиться положение подходить подым...      5278\n",
       "10402  просто вернуться последний свой представлять п...      5563\n",
       "\n",
       "[10403 rows x 2 columns]"
      ]
     },
     "execution_count": 21,
     "metadata": {},
     "output_type": "execute_result"
    }
   ],
   "source": [
    "df_bot"
   ]
  },
  {
   "cell_type": "code",
   "execution_count": 24,
   "id": "facb8236",
   "metadata": {},
   "outputs": [
    {
     "data": {
      "image/png": "[encoded data removed]",
      "text/plain": [
       "<Figure size 720x432 with 1 Axes>"
      ]
     },
     "metadata": {
      "needs_background": "light"
     },
     "output_type": "display_data"
    }
   ],
   "source": [
    "plt.figure(figsize=(10, 6))\n",
    "plt.hist(df['text_len'], bins=1000)\n",
    "plt.ylim(0, 1000)\n",
    "plt.xlim(0, 50000)\n",
    "plt.grid()\n",
    "plt.show()"
   ]
  },
  {
   "cell_type": "code",
   "execution_count": null,
   "id": "0a816a9d",
   "metadata": {},
   "outputs": [],
   "source": []
  },
  {
   "cell_type": "markdown",
   "id": "f4d64459",
   "metadata": {},
   "source": [
    "## Распределение степеней"
   ]
  },
  {
   "cell_type": "code",
   "execution_count": 3,
   "id": "63ded1c3",
   "metadata": {},
   "outputs": [],
   "source": [
    "def plot_graph_degrees(degrees: list, k: int, x_max: int, y_max: int = 20000, size: tuple = (10, 8)):\n",
    "    degrees = np.array(degrees)\n",
    "    y = []\n",
    "    xs = [x for x in range(x_max)]\n",
    "    for x in xs:\n",
    "        y.append(len(degrees[degrees == x]))\n",
    "    plt.figure(figsize=size)\n",
    "    plt.bar(x=xs, height=y)\n",
    "    plt.xticks(xs, rotation=45)\n",
    "    plt.grid()\n",
    "    plt.title(f\"Распределение степеней графа Габриэля при размере вектора {k}\")\n",
    "    plt.ylabel(\"Кол-во вершин\")\n",
    "    plt.xlabel(\"Кол-во соседей\")\n",
    "    plt.ylim(0, y_max)\n",
    "    plt.show()\n",
    "    return y"
   ]
  },
  {
   "cell_type": "code",
   "execution_count": 4,
   "id": "1c1057b5",
   "metadata": {},
   "outputs": [],
   "source": [
    "graph_degrees = my_gg_ru_6.get_graph_degrees()"
   ]
  },
  {
   "cell_type": "code",
   "execution_count": 5,
   "id": "fcbaef86",
   "metadata": {},
   "outputs": [
    {
     "data": {
      "image/png": "[encoded data removed]",
      "text/plain": [
       "<Figure size 1440x576 with 1 Axes>"
      ]
     },
     "metadata": {
      "needs_background": "light"
     },
     "output_type": "display_data"
    }
   ],
   "source": [
    "y = plot_graph_degrees(graph_degrees, k=6, x_max=95, size=(20, 8))"
   ]
  },
  {
   "cell_type": "code",
   "execution_count": 14,
   "id": "3f5fa404",
   "metadata": {},
   "outputs": [
    {
     "data": {
      "text/plain": [
       "9346"
      ]
     },
     "execution_count": 14,
     "metadata": {},
     "output_type": "execute_result"
    }
   ],
   "source": [
    "y[0]"
   ]
  },
  {
   "cell_type": "code",
   "execution_count": 15,
   "id": "3a5477fa",
   "metadata": {},
   "outputs": [
    {
     "data": {
      "text/plain": [
       "97028"
      ]
     },
     "execution_count": 15,
     "metadata": {},
     "output_type": "execute_result"
    }
   ],
   "source": [
    "sum(y[1:])"
   ]
  },
  {
   "cell_type": "code",
   "execution_count": 11,
   "id": "95df1c52",
   "metadata": {},
   "outputs": [],
   "source": [
    "stat, p = normaltest(y[1:])"
   ]
  },
  {
   "cell_type": "code",
   "execution_count": 12,
   "id": "4f3c78fe",
   "metadata": {},
   "outputs": [
    {
     "data": {
      "text/plain": [
       "4.633259340517751e-07"
      ]
     },
     "execution_count": 12,
     "metadata": {},
     "output_type": "execute_result"
    }
   ],
   "source": [
    "p"
   ]
  },
  {
   "cell_type": "code",
   "execution_count": 13,
   "id": "ca0eb24c",
   "metadata": {},
   "outputs": [
    {
     "name": "stdout",
     "output_type": "stream",
     "text": [
      "0.00046332593405177505\n"
     ]
    }
   ],
   "source": [
    "print(p * 1000)"
   ]
  },
  {
   "cell_type": "code",
   "execution_count": 15,
   "id": "ec111cac",
   "metadata": {},
   "outputs": [
    {
     "data": {
      "image/png": "[encoded data removed]",
      "text/plain": [
       "<Figure size 720x432 with 1 Axes>"
      ]
     },
     "metadata": {
      "needs_background": "light"
     },
     "output_type": "display_data"
    }
   ],
   "source": [
    "plt.figure(figsize=(10, 6))\n",
    "plt.hist(gg_lc.values(), bins=1000)\n",
    "plt.ylim(0, 7000)\n",
    "plt.grid()\n",
    "plt.show()"
   ]
  },
  {
   "cell_type": "code",
   "execution_count": null,
   "id": "2576a35f",
   "metadata": {},
   "outputs": [],
   "source": []
  },
  {
   "cell_type": "markdown",
   "id": "a73fea38",
   "metadata": {},
   "source": [
    "## Диаметр графа"
   ]
  },
  {
   "cell_type": "code",
   "execution_count": 11,
   "id": "558ad793",
   "metadata": {},
   "outputs": [],
   "source": [
    "diameter_and_radius = np.load(\"/Users/yuvlo/Spot-the-bot/Graph/characteristics/gg_diameter_and_radius.npy\")"
   ]
  },
  {
   "cell_type": "code",
   "execution_count": 13,
   "id": "a94298ad",
   "metadata": {},
   "outputs": [
    {
     "data": {
      "text/plain": [
       "25.400803058900458"
      ]
     },
     "execution_count": 13,
     "metadata": {},
     "output_type": "execute_result"
    }
   ],
   "source": [
    "diameter_and_radius[0]"
   ]
  },
  {
   "cell_type": "markdown",
   "id": "09bbe4c1",
   "metadata": {},
   "source": [
    "## Радиус графа"
   ]
  },
  {
   "cell_type": "code",
   "execution_count": 14,
   "id": "eadcd26d",
   "metadata": {},
   "outputs": [
    {
     "data": {
      "text/plain": [
       "13.145435641054364"
      ]
     },
     "execution_count": 14,
     "metadata": {},
     "output_type": "execute_result"
    }
   ],
   "source": [
    "diameter_and_radius[1]"
   ]
  },
  {
   "cell_type": "markdown",
   "id": "fd5130e1",
   "metadata": {},
   "source": [
    "## Средняя длина кратчайшего пути (average shortest path length)"
   ]
  },
  {
   "cell_type": "code",
   "execution_count": 16,
   "id": "e740cf68",
   "metadata": {},
   "outputs": [
    {
     "data": {
      "text/plain": [
       "array([0.08443474])"
      ]
     },
     "execution_count": 16,
     "metadata": {},
     "output_type": "execute_result"
    }
   ],
   "source": [
    "np.load(\"/Users/yuvlo/Spot-the-bot/Graph/characteristics/gg_av_shortest_path_len.npy\")"
   ]
  },
  {
   "cell_type": "code",
   "execution_count": 31,
   "id": "6257f46c",
   "metadata": {},
   "outputs": [
    {
     "data": {
      "text/plain": [
       "97031"
      ]
     },
     "execution_count": 31,
     "metadata": {},
     "output_type": "execute_result"
    }
   ],
   "source": [
    "len(gg_ru_6)"
   ]
  },
  {
   "cell_type": "code",
   "execution_count": 32,
   "id": "51dc833c",
   "metadata": {
    "scrolled": true
   },
   "outputs": [
    {
     "ename": "KeyboardInterrupt",
     "evalue": "",
     "output_type": "error",
     "traceback": [
      "\u001b[0;31m---------------------------------------------------------------------------\u001b[0m",
      "\u001b[0;31mKeyboardInterrupt\u001b[0m                         Traceback (most recent call last)",
      "Input \u001b[0;32mIn [32]\u001b[0m, in \u001b[0;36m<cell line: 1>\u001b[0;34m()\u001b[0m\n\u001b[0;32m----> 1\u001b[0m \u001b[43maverage_shortest_path_length\u001b[49m\u001b[43m(\u001b[49m\u001b[43mgg_ru_6\u001b[49m\u001b[43m,\u001b[49m\u001b[43m \u001b[49m\u001b[43mweight\u001b[49m\u001b[38;5;241;43m=\u001b[39;49m\u001b[38;5;124;43m'\u001b[39;49m\u001b[38;5;124;43mweight\u001b[39;49m\u001b[38;5;124;43m'\u001b[39;49m\u001b[43m)\u001b[49m\n",
      "Input \u001b[0;32mIn [30]\u001b[0m, in \u001b[0;36maverage_shortest_path_length\u001b[0;34m(G, weight, method)\u001b[0m\n\u001b[1;32m    415\u001b[0m \u001b[38;5;28;01mfor\u001b[39;00m u \u001b[38;5;129;01min\u001b[39;00m G:\n\u001b[1;32m    416\u001b[0m     s_p \u001b[38;5;241m=\u001b[39m s\n\u001b[0;32m--> 417\u001b[0m     \u001b[38;5;28;01mfor\u001b[39;00m l \u001b[38;5;129;01min\u001b[39;00m \u001b[43mpath_length\u001b[49m\u001b[43m(\u001b[49m\u001b[43mu\u001b[49m\u001b[43m)\u001b[49m\u001b[38;5;241m.\u001b[39mvalues():\n\u001b[1;32m    418\u001b[0m         s \u001b[38;5;241m+\u001b[39m\u001b[38;5;241m=\u001b[39m l\n\u001b[1;32m    419\u001b[0m     cnt \u001b[38;5;241m+\u001b[39m\u001b[38;5;241m=\u001b[39m \u001b[38;5;241m1\u001b[39m\n",
      "Input \u001b[0;32mIn [30]\u001b[0m, in \u001b[0;36maverage_shortest_path_length.<locals>.path_length\u001b[0;34m(v)\u001b[0m\n\u001b[1;32m    403\u001b[0m     \u001b[38;5;28;01mreturn\u001b[39;00m nx\u001b[38;5;241m.\u001b[39msingle_source_shortest_path_length(G, v)\n\u001b[1;32m    404\u001b[0m \u001b[38;5;28;01melif\u001b[39;00m method \u001b[38;5;241m==\u001b[39m \u001b[38;5;124m\"\u001b[39m\u001b[38;5;124mdijkstra\u001b[39m\u001b[38;5;124m\"\u001b[39m:\n\u001b[0;32m--> 405\u001b[0m     \u001b[38;5;28;01mreturn\u001b[39;00m \u001b[43mnx\u001b[49m\u001b[38;5;241;43m.\u001b[39;49m\u001b[43msingle_source_dijkstra_path_length\u001b[49m\u001b[43m(\u001b[49m\u001b[43mG\u001b[49m\u001b[43m,\u001b[49m\u001b[43m \u001b[49m\u001b[43mv\u001b[49m\u001b[43m,\u001b[49m\u001b[43m \u001b[49m\u001b[43mweight\u001b[49m\u001b[38;5;241;43m=\u001b[39;49m\u001b[43mweight\u001b[49m\u001b[43m)\u001b[49m\n\u001b[1;32m    406\u001b[0m \u001b[38;5;28;01melif\u001b[39;00m method \u001b[38;5;241m==\u001b[39m \u001b[38;5;124m\"\u001b[39m\u001b[38;5;124mbellman-ford\u001b[39m\u001b[38;5;124m\"\u001b[39m:\n\u001b[1;32m    407\u001b[0m     \u001b[38;5;28;01mreturn\u001b[39;00m nx\u001b[38;5;241m.\u001b[39msingle_source_bellman_ford_path_length(G, v, weight\u001b[38;5;241m=\u001b[39mweight)\n",
      "File \u001b[0;32m~/opt/anaconda3/lib/python3.9/site-packages/networkx/algorithms/shortest_paths/weighted.py:373\u001b[0m, in \u001b[0;36msingle_source_dijkstra_path_length\u001b[0;34m(G, source, cutoff, weight)\u001b[0m\n\u001b[1;32m    305\u001b[0m \u001b[38;5;28;01mdef\u001b[39;00m \u001b[38;5;21msingle_source_dijkstra_path_length\u001b[39m(G, source, cutoff\u001b[38;5;241m=\u001b[39m\u001b[38;5;28;01mNone\u001b[39;00m, weight\u001b[38;5;241m=\u001b[39m\u001b[38;5;124m\"\u001b[39m\u001b[38;5;124mweight\u001b[39m\u001b[38;5;124m\"\u001b[39m):\n\u001b[1;32m    306\u001b[0m     \u001b[38;5;124;03m\"\"\"Find shortest weighted path lengths in G from a source node.\u001b[39;00m\n\u001b[1;32m    307\u001b[0m \n\u001b[1;32m    308\u001b[0m \u001b[38;5;124;03m    Compute the shortest path length between source and all other\u001b[39;00m\n\u001b[0;32m   (...)\u001b[0m\n\u001b[1;32m    371\u001b[0m \n\u001b[1;32m    372\u001b[0m \u001b[38;5;124;03m    \"\"\"\u001b[39;00m\n\u001b[0;32m--> 373\u001b[0m     \u001b[38;5;28;01mreturn\u001b[39;00m \u001b[43mmulti_source_dijkstra_path_length\u001b[49m\u001b[43m(\u001b[49m\u001b[43mG\u001b[49m\u001b[43m,\u001b[49m\u001b[43m \u001b[49m\u001b[43m{\u001b[49m\u001b[43msource\u001b[49m\u001b[43m}\u001b[49m\u001b[43m,\u001b[49m\u001b[43m \u001b[49m\u001b[43mcutoff\u001b[49m\u001b[38;5;241;43m=\u001b[39;49m\u001b[43mcutoff\u001b[49m\u001b[43m,\u001b[49m\u001b[43m \u001b[49m\u001b[43mweight\u001b[49m\u001b[38;5;241;43m=\u001b[39;49m\u001b[43mweight\u001b[49m\u001b[43m)\u001b[49m\n",
      "File \u001b[0;32m~/opt/anaconda3/lib/python3.9/site-packages/networkx/algorithms/shortest_paths/weighted.py:628\u001b[0m, in \u001b[0;36mmulti_source_dijkstra_path_length\u001b[0;34m(G, sources, cutoff, weight)\u001b[0m\n\u001b[1;32m    626\u001b[0m         \u001b[38;5;28;01mraise\u001b[39;00m nx\u001b[38;5;241m.\u001b[39mNodeNotFound(\u001b[38;5;124mf\u001b[39m\u001b[38;5;124m\"\u001b[39m\u001b[38;5;124mNode \u001b[39m\u001b[38;5;132;01m{\u001b[39;00ms\u001b[38;5;132;01m}\u001b[39;00m\u001b[38;5;124m not found in graph\u001b[39m\u001b[38;5;124m\"\u001b[39m)\n\u001b[1;32m    627\u001b[0m weight \u001b[38;5;241m=\u001b[39m _weight_function(G, weight)\n\u001b[0;32m--> 628\u001b[0m \u001b[38;5;28;01mreturn\u001b[39;00m \u001b[43m_dijkstra_multisource\u001b[49m\u001b[43m(\u001b[49m\u001b[43mG\u001b[49m\u001b[43m,\u001b[49m\u001b[43m \u001b[49m\u001b[43msources\u001b[49m\u001b[43m,\u001b[49m\u001b[43m \u001b[49m\u001b[43mweight\u001b[49m\u001b[43m,\u001b[49m\u001b[43m \u001b[49m\u001b[43mcutoff\u001b[49m\u001b[38;5;241;43m=\u001b[39;49m\u001b[43mcutoff\u001b[49m\u001b[43m)\u001b[49m\n",
      "File \u001b[0;32m~/opt/anaconda3/lib/python3.9/site-packages/networkx/algorithms/shortest_paths/weighted.py:837\u001b[0m, in \u001b[0;36m_dijkstra_multisource\u001b[0;34m(G, sources, weight, pred, paths, cutoff, target)\u001b[0m\n\u001b[1;32m    835\u001b[0m     \u001b[38;5;28;01mbreak\u001b[39;00m\n\u001b[1;32m    836\u001b[0m \u001b[38;5;28;01mfor\u001b[39;00m u, e \u001b[38;5;129;01min\u001b[39;00m G_succ[v]\u001b[38;5;241m.\u001b[39mitems():\n\u001b[0;32m--> 837\u001b[0m     cost \u001b[38;5;241m=\u001b[39m \u001b[43mweight\u001b[49m\u001b[43m(\u001b[49m\u001b[43mv\u001b[49m\u001b[43m,\u001b[49m\u001b[43m \u001b[49m\u001b[43mu\u001b[49m\u001b[43m,\u001b[49m\u001b[43m \u001b[49m\u001b[43me\u001b[49m\u001b[43m)\u001b[49m\n\u001b[1;32m    838\u001b[0m     \u001b[38;5;28;01mif\u001b[39;00m cost \u001b[38;5;129;01mis\u001b[39;00m \u001b[38;5;28;01mNone\u001b[39;00m:\n\u001b[1;32m    839\u001b[0m         \u001b[38;5;28;01mcontinue\u001b[39;00m\n",
      "File \u001b[0;32m~/opt/anaconda3/lib/python3.9/site-packages/networkx/algorithms/shortest_paths/weighted.py:78\u001b[0m, in \u001b[0;36m_weight_function.<locals>.<lambda>\u001b[0;34m(u, v, data)\u001b[0m\n\u001b[1;32m     76\u001b[0m \u001b[38;5;28;01mif\u001b[39;00m G\u001b[38;5;241m.\u001b[39mis_multigraph():\n\u001b[1;32m     77\u001b[0m     \u001b[38;5;28;01mreturn\u001b[39;00m \u001b[38;5;28;01mlambda\u001b[39;00m u, v, d: \u001b[38;5;28mmin\u001b[39m(attr\u001b[38;5;241m.\u001b[39mget(weight, \u001b[38;5;241m1\u001b[39m) \u001b[38;5;28;01mfor\u001b[39;00m attr \u001b[38;5;129;01min\u001b[39;00m d\u001b[38;5;241m.\u001b[39mvalues())\n\u001b[0;32m---> 78\u001b[0m \u001b[38;5;28;01mreturn\u001b[39;00m \u001b[38;5;28;01mlambda\u001b[39;00m u, v, data: \u001b[43mdata\u001b[49m\u001b[38;5;241;43m.\u001b[39;49m\u001b[43mget\u001b[49m\u001b[43m(\u001b[49m\u001b[43mweight\u001b[49m\u001b[43m,\u001b[49m\u001b[43m \u001b[49m\u001b[38;5;241;43m1\u001b[39;49m\u001b[43m)\u001b[49m\n",
      "\u001b[0;31mKeyboardInterrupt\u001b[0m: "
     ]
    }
   ],
   "source": [
    "average_shortest_path_length(gg_ru_6, weight='weight')"
   ]
  },
  {
   "cell_type": "markdown",
   "id": "9b14353d",
   "metadata": {},
   "source": [
    "## Распределение центральности по близости (closeness centrality)"
   ]
  },
  {
   "attachments": {
    "image.png": {
     "image/png": "[encoded data removed]"
    }
   },
   "cell_type": "markdown",
   "id": "465db58c",
   "metadata": {},
   "source": [
    "![image.png](attachment:image.png)"
   ]
  },
  {
   "cell_type": "code",
   "execution_count": 18,
   "id": "e892cb22",
   "metadata": {
    "scrolled": true
   },
   "outputs": [],
   "source": [
    "with open(\"/Users/yuvlo/Spot-the-bot/Graph/characteristics/gg_closeness_centrality.pickle\", 'rb') as f:\n",
    "    gg_cc = pickle.load(f)"
   ]
  },
  {
   "cell_type": "code",
   "execution_count": 20,
   "id": "78a61021",
   "metadata": {},
   "outputs": [
    {
     "data": {
      "text/plain": [
       "{'поножовщина': 19.45100733881495,\n",
       " 'душитель': 19.514818742764934,\n",
       " 'централизованно': 20.552144133340978,\n",
       " 'перепрофилировать': 20.761518488359936,\n",
       " 'нефтянка': 21.052936796040928,\n",
       " 'атиля': 21.02645082742342,\n",
       " 'шпанка': 20.335481074438352,\n",
       " 'хлебопекарня': 20.38350883008192,\n",
       " 'восьмирублевый': 21.004962298752115,\n",
       " 'венедиктович': 21.015894585888894,\n",
       " 'обо': 1.9755268518838809,\n",
       " 'приглашать': 1.7194390354614817,\n",
       " 'молотьба': 17.19496607253694,\n",
       " 'станичный': 16.908847414603013,\n",
       " 'почесывание': 20.899687932060004,\n",
       " 'брусочек': 20.966628857042753,\n",
       " 'восстановитель': 21.016866789075422,\n",
       " 'разграблять': 20.83674001112635,\n",
       " 'найт': 21.001385774899916,\n",
       " 'гипнос': 21.002076690004767,\n",
       " 'лежать': 0.6318472629098637,\n",
       " 'белый': 0.5428033824847468,\n",
       " 'плесневый': 20.956598658630497,\n",
       " 'милослава': 20.953640271680744,\n",
       " 'вымогательство': 19.717120987058674,\n",
       " 'совершеннолетний': 19.483114733956686,\n",
       " 'беспрерывный': 10.64104733714113,\n",
       " 'набожный': 12.179142856358752,\n",
       " 'легковушка': 13.511323372912143,\n",
       " 'экскаватор': 14.091035788478134,\n",
       " 'бегло': 11.667513562139245,\n",
       " 'обнадеживать': 12.559705759543526,\n",
       " 'парагвайский': 21.035667138969494,\n",
       " 'трассировка': 21.003528650859288,\n",
       " 'самодержица': 20.301287879627594,\n",
       " 'сеймовый': 20.53783518905311,\n",
       " 'изобретательно': 20.3632946764561,\n",
       " 'ухлестывать': 20.275031958352585,\n",
       " 'стандартизованный': 21.06181750528559,\n",
       " 'цзян': 21.03726937775541,\n",
       " 'поденщина': 17.45153660297851,\n",
       " 'биток': 17.313967141577404,\n",
       " 'заступник': 14.780470210049195,\n",
       " 'приемыш': 13.187489412852269,\n",
       " 'рассчитать': 5.737102988388439,\n",
       " 'зацеплять': 5.98222668869429,\n",
       " 'дристать': 21.019288669468445,\n",
       " 'неформатный': 21.003621915861014,\n",
       " 'рейнгольд': 21.013476535846948,\n",
       " 'неэгоистичный': 21.007157357442825,\n",
       " 'конфиденциально': 20.02318561410519,\n",
       " 'перебеситься': 20.229089132771826,\n",
       " 'переосмыслять': 18.55115686798234,\n",
       " 'безответственность': 18.94185292173255,\n",
       " 'изгореваться': 21.011615390707128,\n",
       " 'смолокуренный': 21.01524636081009,\n",
       " 'мрамор': 5.473815381024941,\n",
       " 'таиться': 5.8704149359066,\n",
       " 'лысогорец': 21.028862402564346,\n",
       " 'тавир': 21.01798444660843,\n",
       " 'упражнение': 6.4676638588102415,\n",
       " 'создаваться': 6.395376860447585,\n",
       " 'разносол': 18.73278854333161,\n",
       " 'навытяжку': 18.633005227787613,\n",
       " 'соотносить': 17.96748422253937,\n",
       " 'отсеивать': 17.64442809132186,\n",
       " 'подельник': 12.020309701662754,\n",
       " 'подминать': 12.588981031067252,\n",
       " 'пальчик': 5.136017687178344,\n",
       " 'расправлять': 5.2935417412073305,\n",
       " 'слепо': 11.310014529381595,\n",
       " 'избавление': 12.077376962117347,\n",
       " 'неоплаканный': 20.88040881524178,\n",
       " 'багрянородный': 20.826989371145395,\n",
       " 'обезвреживание': 20.30466886707287,\n",
       " 'нежизнеспособный': 20.50627724640099,\n",
       " 'близ': 4.661801025039718,\n",
       " 'келья': 5.64396789247699,\n",
       " 'топанье': 20.272677966215497,\n",
       " 'снестись': 20.25726148441616,\n",
       " 'москворецкий': 20.848184729905558,\n",
       " 'выростковый': 20.855416007961107,\n",
       " 'мечта': 1.7696621072706538,\n",
       " 'луч': 1.4425233710135683,\n",
       " 'шамкать': 15.879225893582774,\n",
       " 'заплутаться': 16.166949736226524,\n",
       " 'выраженность': 20.575825788988464,\n",
       " 'живосечение': 20.786222711977207,\n",
       " 'перемалывание': 21.115745848039445,\n",
       " 'подковываться': 21.09625560743602,\n",
       " 'промасливать': 19.202204840076732,\n",
       " 'берг': 19.156063139607557,\n",
       " 'абрикосовый': 18.81254274440284,\n",
       " 'попугайчик': 19.48111469758404,\n",
       " 'колпино': 20.818197744587827,\n",
       " 'наславить': 20.83602531030892,\n",
       " 'шестимесячный': 20.473878019997535,\n",
       " 'корректность': 20.569394294286425,\n",
       " 'шамбертен': 20.949027342476313,\n",
       " 'аскольдова': 20.872698229336763,\n",
       " 'надсаживать': 19.9118478060676,\n",
       " 'изморить': 19.685536210469326,\n",
       " 'нескладный': 12.112208987579997,\n",
       " 'пойма': 11.630538010863772,\n",
       " 'пошляк': 17.78567600499479,\n",
       " 'впечатлительность': 17.61448995505465,\n",
       " 'нукать': 20.782862976178567,\n",
       " 'зацепа': 20.8243548237839,\n",
       " 'бином': 20.732539238116402,\n",
       " 'починиться': 20.83773745813351,\n",
       " 'моментный': 21.033381026425648,\n",
       " 'пентал': 21.01381636465785,\n",
       " 'офицерье': 20.884887179134825,\n",
       " 'мельчить': 20.890795781986068,\n",
       " 'властительница': 18.93225278610974,\n",
       " 'ерн': 18.137943128485695,\n",
       " 'рокотать': 13.33909997569219,\n",
       " 'дерн': 12.891040614545243,\n",
       " 'обратно': 1.3619108323985312,\n",
       " 'возле': 1.206100909519356,\n",
       " 'висок': 2.4570935227379906,\n",
       " 'бедро': 2.1623368219551056,\n",
       " 'кредит': 4.131050008840202,\n",
       " 'норма': 4.5791892805203505,\n",
       " 'оптовик': 20.629887868741562,\n",
       " 'непотопляемый': 20.845537596090235,\n",
       " 'объезжий': 20.80895631827304,\n",
       " 'толстолицый': 20.74454953005144,\n",
       " 'психолингвистика': 21.02610731981579,\n",
       " 'расплавление': 21.03012180560537,\n",
       " 'воронежец': 20.952151184165906,\n",
       " 'апрош': 20.92089902664664,\n",
       " 'набредать': 15.703566951195278,\n",
       " 'буйвол': 14.977111244756294,\n",
       " 'противолежащий': 20.77106436458724,\n",
       " 'басенный': 20.835583507630968,\n",
       " 'локоток': 13.931568524386018,\n",
       " 'рань': 13.738507892817397,\n",
       " 'радиоточка': 20.758580783129652,\n",
       " 'двухосный': 20.60088103571701,\n",
       " 'крупноцветный': 21.02636438182947,\n",
       " 'первохристианский': 21.02493965749145,\n",
       " 'сикурс': 20.735491456435913,\n",
       " 'переморить': 20.88290639692325,\n",
       " 'орфографический': 18.975182510931763,\n",
       " 'рассказик': 18.88006923915059,\n",
       " 'владимирцев': 21.033804367753945,\n",
       " 'пластырный': 21.022707859138027,\n",
       " 'безубыточность': 21.000640740028505,\n",
       " 'танек': 21.002766279878458,\n",
       " 'исхитряться': 17.31072475700843,\n",
       " 'отираться': 17.84355715325868,\n",
       " 'душеполезный': 20.80641782394058,\n",
       " 'родственность': 20.832973964270206,\n",
       " 'монисто': 18.484762898663956,\n",
       " 'беляк': 18.51709308801003,\n",
       " 'аристократически': 20.002986321559778,\n",
       " 'фримен': 20.027948158068227,\n",
       " 'истязание': 12.15438712126951,\n",
       " 'мещанство': 12.364839130404972,\n",
       " 'полкомнаты': 20.51609677322112,\n",
       " 'прапрабабушка': 20.346179239995017,\n",
       " 'панаш': 21.03636063226274,\n",
       " 'просвежаться': 21.02711089774718,\n",
       " 'гладенький': 19.661163449307356,\n",
       " 'сердчишко': 19.75056571694589,\n",
       " 'велия': 19.506510625922534,\n",
       " 'выписной': 20.00680992863245,\n",
       " 'лучевидный': 21.005322667356012,\n",
       " 'этноботаника': 21.026387408098127,\n",
       " 'смерш': 21.01286492461191,\n",
       " 'захламление': 21.019854550037962,\n",
       " 'трансцендентный': 20.716557185428922,\n",
       " 'лженаука': 20.70846983612312,\n",
       " 'подсушиваться': 21.090388908045547,\n",
       " 'сощелкнуть': 21.049667962588043,\n",
       " 'святить': 19.00638531872478,\n",
       " 'гуцул': 18.8594489478887,\n",
       " 'хулиганить': 18.406620773305242,\n",
       " 'блокнотик': 18.33286210161106,\n",
       " 'геройски': 19.51739497117598,\n",
       " 'вылакать': 19.28774208483493,\n",
       " 'охрипший': 20.51661577860833,\n",
       " 'сливовица': 20.65428967591337,\n",
       " 'хазарин': 20.714937519362824,\n",
       " 'негашеный': 20.827366707416775,\n",
       " 'перильце': 20.27716858251718,\n",
       " 'молодить': 19.865419514369897,\n",
       " 'мыслитель': 7.48055543757545,\n",
       " 'догмат': 7.614411172007343,\n",
       " 'припоминать': 3.465985823358729,\n",
       " 'блюдо': 3.5357702865440648,\n",
       " 'стационарный': 9.993867659562303,\n",
       " 'откат': 9.578616643930305,\n",
       " 'номенклатура': 19.23813042907287,\n",
       " 'резервист': 19.398069102700912,\n",
       " 'курослеп': 20.912517998425646,\n",
       " 'жбанчик': 20.922938977751247,\n",
       " 'бригадник': 20.9279810419901,\n",
       " 'барраж': 20.79987094361781,\n",
       " 'курш': 20.999968479281495,\n",
       " 'жулан': 20.987840678517976,\n",
       " 'беломорина': 20.932926044040645,\n",
       " 'саамский': 20.799693144789263,\n",
       " 'убавление': 21.088992549641425,\n",
       " 'сусанин': 21.090264140869397,\n",
       " 'девчоночка': 17.879947271511426,\n",
       " 'востроносый': 18.47443551189318,\n",
       " 'сортовой': 21.15287877346874,\n",
       " 'сандаль': 21.098786972313885,\n",
       " 'свистун': 20.120737108020858,\n",
       " 'ботфорты': 20.15884440644003,\n",
       " 'нахлобучиваться': 21.103886905307956,\n",
       " 'шельмовство': 21.072332336398542,\n",
       " 'мотет': 21.01255721467704,\n",
       " 'проспрягать': 21.021859868352372,\n",
       " 'маркграф': 18.90371970503536,\n",
       " 'контратаковать': 18.825957695863035,\n",
       " 'маневр': 6.1084070875932435,\n",
       " 'выживание': 6.147383368692768,\n",
       " 'смешанный': 9.19854362086981,\n",
       " 'навевать': 9.790740333069145,\n",
       " 'инициаторша': 21.013654423655538,\n",
       " 'инкриминироваться': 21.01073157957816,\n",
       " 'скоморошничать': 21.084945353745958,\n",
       " 'вымбовка': 21.118993188714843,\n",
       " 'скоротечный': 15.885187957510164,\n",
       " 'скопище': 17.276611437880305,\n",
       " 'вымерить': 20.60525838409916,\n",
       " 'арапчонок': 20.588118609069504,\n",
       " 'поизмять': 20.973749199989044,\n",
       " 'самоуправничать': 20.96856999763665,\n",
       " 'пепе': 21.017020856398965,\n",
       " 'узкозадый': 21.010189624473306,\n",
       " 'трехпудовый': 21.10736752846928,\n",
       " 'потарахтеть': 21.096961583563544,\n",
       " 'графомания': 21.065379326446088,\n",
       " 'репетиторствовать': 21.07372018650519,\n",
       " 'раскрепощать': 18.328508535202275,\n",
       " 'умопомрачение': 18.305356862898297,\n",
       " 'ткемали': 21.06510156238445,\n",
       " 'помножаться': 21.05478235857083,\n",
       " 'варюша': 20.992479552150304,\n",
       " 'пересмеивание': 20.91688795957958,\n",
       " 'нерадостный': 18.46356596805852,\n",
       " 'согнать': 10.445599851755103,\n",
       " 'лесок': 11.841204058541546,\n",
       " 'трюк': 8.942868472317112,\n",
       " 'запоминаться': 9.208323889779392,\n",
       " 'стерлинг': 17.77683150341482,\n",
       " 'корректор': 18.60337354743599,\n",
       " 'коробить': 17.4122078017313,\n",
       " 'булочник': 16.979073810083403,\n",
       " 'неострый': 21.115688952274727,\n",
       " 'подторговывать': 21.08268685967535,\n",
       " 'непокоренный': 20.899390698047757,\n",
       " 'фиванский': 20.76239321126592,\n",
       " 'леклерк': 20.97272339025474,\n",
       " 'балкарский': 21.072047581294317,\n",
       " 'стройбат': 20.00145165946133,\n",
       " 'очковать': 20.18754024225204,\n",
       " 'переключение': 17.30913200756268,\n",
       " 'процедурный': 18.105518677592332,\n",
       " 'заглядывать': 1.4923651703678324,\n",
       " 'надевать': 1.5547047986638314,\n",
       " 'распоясываться': 16.60423555049406,\n",
       " 'чудить': 16.365779170596404,\n",
       " 'банкротиться': 20.916855282757886,\n",
       " 'форсисто': 20.843403350215,\n",
       " 'пожурить': 15.786901494952993,\n",
       " 'недомогание': 15.487277121355742,\n",
       " 'насбирать': 18.947969113815436,\n",
       " 'поматывать': 19.42645425928288,\n",
       " 'разъездиться': 21.01110756053949,\n",
       " 'поволочься': 20.902271390176242,\n",
       " 'изгнание': 8.393673514320676,\n",
       " 'исцеление': 9.52091923045267,\n",
       " 'программистский': 21.01427349216127,\n",
       " 'линка': 21.048606512307952,\n",
       " 'кофейник': 13.847449998484414,\n",
       " 'бифштекс': 14.033101347189103,\n",
       " 'жучка': 19.22795848240132,\n",
       " 'негласно': 19.34053808742522,\n",
       " 'книготорговец': 19.947259062771884,\n",
       " 'четвертая': 20.35006945429302,\n",
       " 'смигивать': 20.90804842271626,\n",
       " 'эх': 20.81862340276065,\n",
       " 'обсеяться': 21.012464564829337,\n",
       " 'диомид': 21.01655485331426,\n",
       " 'глубинный': 12.552961280298518,\n",
       " 'раскопка': 11.445351024957805,\n",
       " 'чертовщина': 11.924307583173539,\n",
       " 'ларек': 12.193082245187,\n",
       " 'подкоска': 20.996349651130508,\n",
       " 'ирей': 20.990745198274727,\n",
       " 'смущенность': 21.039849000740862,\n",
       " 'сподвижничество': 21.04955042477862,\n",
       " 'разнобойный': 21.07493463481892,\n",
       " 'гелиоцентрический': 21.096298258101076,\n",
       " 'васнецов': 21.011957771665056,\n",
       " 'барионный': 20.98965961269427,\n",
       " 'нетрудовой': 20.611168468461774,\n",
       " 'лучеиспускание': 20.673726036194314,\n",
       " 'технико': 21.033115495302987,\n",
       " 'гавел': 21.02243255637585,\n",
       " 'выметание': 20.997778280154613,\n",
       " 'вупи': 20.978444557125865,\n",
       " 'настилать': 18.06400833240083,\n",
       " 'итан': 18.330347894394414,\n",
       " 'гор': 21.063478201911277,\n",
       " 'тиунов': 20.985691691370047,\n",
       " 'отступной': 21.095504739850046,\n",
       " 'аггелов': 21.08571440597122,\n",
       " 'подраса': 21.0156470312311,\n",
       " 'люцерновый': 21.014127588243905,\n",
       " 'застенок': 13.130612606948944,\n",
       " 'визирь': 12.052985743808142,\n",
       " 'жиганов': 21.061865512656684,\n",
       " 'типолитография': 21.02104361980346,\n",
       " 'наползаться': 21.03854827635975,\n",
       " 'кедрач': 21.011581764260026,\n",
       " 'застынуть': 21.004626109194447,\n",
       " 'стид': 21.012241010430596,\n",
       " 'прерафаэлитский': 21.06010610534463,\n",
       " 'бесприбыльный': 21.031615222150823,\n",
       " 'бессменно': 19.25618799247644,\n",
       " 'нерукотворный': 19.785251182830052,\n",
       " 'сборочный': 19.510872086925833,\n",
       " 'вероятностный': 19.827627470107004,\n",
       " 'ташкентский': 20.82133029316893,\n",
       " 'эмпирика': 20.843266937689464,\n",
       " 'щец': 18.72675621632888,\n",
       " 'турман': 18.987169913906897,\n",
       " 'тоскующий': 14.772922273382411,\n",
       " 'нева': 16.2168341707918,\n",
       " 'кладовая': 9.25554158808308,\n",
       " 'чинно': 9.626721045035232,\n",
       " 'иголка': 7.0765557257586185,\n",
       " 'соседство': 7.5095946076474815,\n",
       " 'неабсолютный': 21.04672422273892,\n",
       " 'утроение': 21.021186629380093,\n",
       " 'арабист': 20.993652850666315,\n",
       " 'обскабливать': 20.915234814372422,\n",
       " 'сарынь': 20.40862263461965,\n",
       " 'швейцария': 20.25838472203372,\n",
       " 'непереданный': 20.98445114471969,\n",
       " 'неотрадный': 21.009817747533184,\n",
       " 'агаповский': 21.030321725678952,\n",
       " 'квасовар': 21.026407919391865,\n",
       " 'деменция': 21.046903105303358,\n",
       " 'отзваниваться': 20.95846087441387,\n",
       " 'аккредитив': 21.109961738937773,\n",
       " 'замор': 21.061610125868224,\n",
       " 'отжимной': 21.007761136679047,\n",
       " 'жиронепроницаемый': 20.996131419665815,\n",
       " 'доблестно': 19.893292354625327,\n",
       " 'пособничество': 20.259443433833233,\n",
       " 'динамичность': 20.913335612713887,\n",
       " 'диссидентский': 20.97417577249456,\n",
       " 'эвакуировать': 12.127377232487712,\n",
       " 'авиационный': 12.607493160157702,\n",
       " 'чаять': 9.622625916908827,\n",
       " 'почивать': 10.256559869857611,\n",
       " 'благозвучный': 19.641629413154085,\n",
       " 'гидра': 19.252558912609764,\n",
       " 'небесталанный': 21.07485999771181,\n",
       " 'упорядочивание': 20.957477462589637,\n",
       " 'агит': 21.07498384573481,\n",
       " 'кизяков': 21.044889899808997,\n",
       " 'рио': 21.14893148148793,\n",
       " 'однозначность': 21.056226373938568,\n",
       " 'навиваться': 21.078131180672145,\n",
       " 'петровская': 21.062016801869095,\n",
       " 'упокой': 11.762721292980043,\n",
       " 'знавать': 12.083362881067272,\n",
       " 'агреман': 21.00812081453165,\n",
       " 'куник': 21.01633921562879,\n",
       " 'дублирование': 20.082869346802546,\n",
       " 'цинский': 20.407838787593594,\n",
       " 'подогреваться': 20.49456714430135,\n",
       " 'прохладца': 20.60046643656711,\n",
       " 'бесприютность': 20.556243299507752,\n",
       " 'пачкотня': 20.778908818986004,\n",
       " 'лопушок': 20.830238336650304,\n",
       " 'нола': 20.779771802654945,\n",
       " 'митрий': 19.92910177609079,\n",
       " 'пульхерия': 20.223011195909837,\n",
       " 'комарье': 20.701473053288087,\n",
       " 'кумекать': 20.582461137982285,\n",
       " 'натрое': 20.892443892720756,\n",
       " 'измолачивать': 20.87959181363457,\n",
       " 'савельевна': 20.996042006390876,\n",
       " 'писарева': 20.994309003083252,\n",
       " 'утоление': 18.254464962663963,\n",
       " 'путешественница': 17.853072483126347,\n",
       " 'непреодоленный': 21.00960827178393,\n",
       " 'рентгенизация': 21.01848864429648,\n",
       " 'вербоваться': 20.993696586769474,\n",
       " 'подоходный': 20.8481911280417,\n",
       " 'сырьем': 21.003235770644803,\n",
       " 'георгиус': 21.015859010867835,\n",
       " 'вживляться': 20.72460254639844,\n",
       " 'жидкостный': 20.726436336571176,\n",
       " 'предательски': 9.057942678114678,\n",
       " 'захлестнуть': 9.964111471881468,\n",
       " 'одерживать': 9.927276192852174,\n",
       " 'варварский': 11.224402647432141,\n",
       " 'олюшка': 21.041808290930256,\n",
       " 'крючковидный': 21.01955869782351,\n",
       " 'баратынский': 18.947050430617324,\n",
       " 'абрамович': 19.30450600453665,\n",
       " 'подметный': 20.449665707309926,\n",
       " 'прогонный': 20.48977350418867,\n",
       " 'биль': 21.14751585158704,\n",
       " 'шуточно': 21.11318736428216,\n",
       " 'разобщаться': 21.040301514670332,\n",
       " 'истаптываться': 21.082165701838274,\n",
       " 'сухопутный': 12.5382555807765,\n",
       " 'пистоль': 12.092839290057684,\n",
       " 'подтирание': 21.033439544324704,\n",
       " 'политизировать': 21.063561379390986,\n",
       " 'сбежаться': 11.978705657412169,\n",
       " 'оглядка': 11.963199445277839,\n",
       " 'основное': 7.544712664056147,\n",
       " 'разборка': 7.1847238566004386,\n",
       " 'клюква': 15.808368091966335,\n",
       " 'топотать': 15.669824747078376,\n",
       " 'тератогенный': 21.026694246658987,\n",
       " 'девяностопятилетний': 21.029930287916113,\n",
       " 'дамоклов': 20.21730804120369,\n",
       " 'прокатный': 20.166168524157158,\n",
       " 'медведеобразный': 21.020378570389866,\n",
       " 'провесить': 20.91528842849008,\n",
       " 'звательный': 21.012216223765456,\n",
       " 'герменевтика': 21.052100537755308,\n",
       " 'понурый': 16.27490392638065,\n",
       " 'старьевщик': 16.81337551405775,\n",
       " 'невыжатый': 21.057772923451555,\n",
       " 'ошта': 21.05943241940123,\n",
       " 'толстота': 20.546197982173776,\n",
       " 'прародительский': 20.371724334205606,\n",
       " 'иммобилизовать': 21.02309632551797,\n",
       " 'заводняться': 21.022974005133584,\n",
       " 'говор': 4.522357581198073,\n",
       " 'кверху': 4.328663165503297,\n",
       " 'трассировать': 21.038215086566638,\n",
       " 'шутейный': 21.07664829442298,\n",
       " 'созерцательница': 20.99873919729542,\n",
       " 'белогорье': 21.001256746242216,\n",
       " 'замедлять': 5.560816299344937,\n",
       " 'приближение': 5.7857127508731425,\n",
       " 'очухаться': 11.355935739849388,\n",
       " 'спирать': 12.119167194099424,\n",
       " 'облегчаться': 18.271884716101873,\n",
       " 'добывание': 17.524053761446428,\n",
       " 'баночка': 9.02140487809888,\n",
       " 'чмокнуть': 8.533598039591089,\n",
       " 'геройствовать': 17.88473137823556,\n",
       " 'тягловый': 18.047843313911763,\n",
       " 'напыщенно': 19.07053594410985,\n",
       " 'быстротечный': 18.981199797131048,\n",
       " 'душонка': 18.219510659493764,\n",
       " 'девичество': 18.100716442877925,\n",
       " 'анютка': 20.817230437191377,\n",
       " 'казинет': 20.88961204495212,\n",
       " 'голубочек': 18.662188469186063,\n",
       " 'тополевый': 18.951785787217574,\n",
       " 'кортик': 17.094616889472665,\n",
       " 'пленение': 17.305333041121198,\n",
       " 'миколай': 20.96832490424851,\n",
       " 'помелить': 20.961980137078346,\n",
       " 'пристойный': 16.099357658391835,\n",
       " 'посягательство': 16.893958092743794,\n",
       " 'скарлетт': 20.99528526595541,\n",
       " 'неубежденный': 20.995160126129477,\n",
       " 'пропирать': 21.022749644391688,\n",
       " 'лесозаготовка': 21.024819673967567,\n",
       " 'манерничанье': 21.057018719906875,\n",
       " 'жерихов': 21.05472368357135,\n",
       " 'пифагорейский': 20.88987731519694,\n",
       " 'предумышление': 20.76874513068553,\n",
       " 'копировщик': 20.96893965138415,\n",
       " 'побитие': 20.93797747437587,\n",
       " 'закопошиться': 18.39561523502955,\n",
       " 'шипучий': 17.66966679353987,\n",
       " 'опоздалый': 20.957671947170784,\n",
       " 'растравляться': 20.984112772744254,\n",
       " 'купиться': 15.079600736996218,\n",
       " 'отлипать': 15.276586435760816,\n",
       " 'немой': 1.5079508388931222,\n",
       " 'страсть': 1.446552574622757,\n",
       " 'исправничий': 20.707452997460344,\n",
       " 'севалка': 20.783018043794847,\n",
       " 'обращать': 1.2399326233087475,\n",
       " 'надежда': 1.4244347661217607,\n",
       " 'глазунья': 19.817971179311368,\n",
       " 'внеклассный': 20.1601569634024,\n",
       " 'загордиться': 19.978705402818452,\n",
       " 'принцепс': 19.982076026626462,\n",
       " 'электромотор': 18.658230599777106,\n",
       " 'воздуховод': 18.392555683514264,\n",
       " 'попадать': 0.8970868759284624,\n",
       " 'война': 0.7894199462227093,\n",
       " 'молиться': 1.9857891130690144,\n",
       " 'дитя': 2.340827581226216,\n",
       " 'перуны': 17.82116282769627,\n",
       " 'иноплеменный': 17.99401592712924,\n",
       " 'долбленый': 20.937959525889173,\n",
       " 'гост': 21.05779990149379,\n",
       " 'проводка': 16.219916988459566,\n",
       " 'супермен': 16.572717638287056,\n",
       " 'общеупотребительный': 20.523600313319054,\n",
       " 'благоустраивать': 20.557931570477834,\n",
       " 'квестор': 20.93137180016163,\n",
       " 'сенешал': 20.83397736610722,\n",
       " 'плодоносящий': 21.13648312656905,\n",
       " 'проглатываться': 21.149599091931716,\n",
       " 'хлебосолка': 21.010993210106186,\n",
       " 'урывчатый': 21.034204560401257,\n",
       " 'брючки': 17.13697209706969,\n",
       " 'совок': 16.865849659232598,\n",
       " 'эхинококк': 21.070921743345806,\n",
       " 'исстегивать': 21.063010573622552,\n",
       " 'гвоздичный': 20.75765902988539,\n",
       " 'завихриться': 20.860774234424813,\n",
       " 'приболеть': 17.904529792826384,\n",
       " 'страшило': 18.27918168090399,\n",
       " 'римлянка': 20.59633036437847,\n",
       " 'здравость': 20.434045489000123,\n",
       " 'ярославский': 16.674592629749473,\n",
       " 'горемыка': 16.612504629953488,\n",
       " 'генуя': 21.0008464124144,\n",
       " 'перехихикиваться': 21.041192636526628,\n",
       " 'забредать': 9.47592088370396,\n",
       " 'мордочка': 10.092424230304397,\n",
       " 'обрубаться': 21.030007959528977,\n",
       " 'выкачка': 20.999205449769626,\n",
       " 'автокафе': 20.975975547987524,\n",
       " 'шлакобетон': 20.989353967695525,\n",
       " 'попустительство': 19.69437652826436,\n",
       " 'вышеназванный': 19.55724233504495,\n",
       " 'образно': 16.02802997595809,\n",
       " 'терпимый': 15.313229278544533,\n",
       " 'шпрехшталмейстер': 21.057751862334346,\n",
       " 'бесновато': 21.05630750628287,\n",
       " 'неоглашенный': 21.02445318388686,\n",
       " 'усиковый': 21.027556097606052,\n",
       " 'волго': 21.062832189272193,\n",
       " 'шихта': 21.020220973584106,\n",
       " 'пугало': 19.036505165720207,\n",
       " 'оскомина': 18.837556998437226,\n",
       " 'счетоводный': 20.96419357709333,\n",
       " 'потенцирование': 20.900809157195166,\n",
       " 'редуцированный': 21.0783575877599,\n",
       " 'запутывание': 21.082198933099328,\n",
       " 'защемлять': 13.854433828991535,\n",
       " 'невпопад': 14.227174229435585,\n",
       " 'сэм': 20.757892523252938,\n",
       " 'сложносочиненный': 20.785675722681543,\n",
       " 'утопление': 20.259254610531638,\n",
       " 'миндальничать': 20.126978184097947,\n",
       " 'тряпичный': 13.1756080064704,\n",
       " 'измазывать': 13.259274963628409,\n",
       " 'солонеть': 20.99605247275923,\n",
       " 'вершининский': 20.997086080928092,\n",
       " 'чавкание': 19.816965240270104,\n",
       " 'катаный': 19.187494642359862,\n",
       " 'нервный': 3.072691922851594,\n",
       " 'парк': 2.3728439080095156,\n",
       " 'изюмов': 21.008586007955483,\n",
       " 'коноводить': 21.021938933610233,\n",
       " 'мастичный': 21.051650903898498,\n",
       " 'амьенец': 21.026348186777177,\n",
       " 'хлюпик': 18.213761773939694,\n",
       " 'запудривать': 18.253339764640113,\n",
       " 'коптиться': 21.013284246906284,\n",
       " 'миллиампер': 21.01331057757344,\n",
       " 'дуайт': 21.00206434594476,\n",
       " 'экстренно': 18.330638067348758,\n",
       " 'отсидка': 18.791870211267614,\n",
       " 'мочить': 12.199565995656378,\n",
       " 'глинистый': 12.377976858503862,\n",
       " 'выжидательный': 18.3669759655694,\n",
       " 'посеребрить': 17.739943667304455,\n",
       " 'незажженный': 19.39582937468269,\n",
       " 'джо': 19.21480536528489,\n",
       " 'самопоклонение': 21.0355762548062,\n",
       " 'пульмонология': 21.038285217551916,\n",
       " 'остеопороз': 21.05184406532651,\n",
       " 'бурлить': 7.315776700752105,\n",
       " 'вонзаться': 7.279576927733953,\n",
       " 'зыкать': 21.007932073864488,\n",
       " 'сицилианец': 20.992552589770014,\n",
       " 'острога': 13.9660492238571,\n",
       " 'москаль': 14.315224668426156,\n",
       " 'скручивание': 20.90855763799019,\n",
       " 'голеностоп': 20.89682646614631,\n",
       " 'пиршественный': 17.74213551142084,\n",
       " 'богомерзкий': 17.74085076380929,\n",
       " 'седоусый': 18.04124477076668,\n",
       " 'проломиться': 18.011476885723457,\n",
       " 'бездельный': 18.83776398191519,\n",
       " 'наново': 19.319822252106906,\n",
       " 'заблеять': 19.023676312281303,\n",
       " 'тенька': 18.563502009860823,\n",
       " 'митрей': 20.949299864364907,\n",
       " 'отпахаться': 20.894660470983958,\n",
       " 'цыкать': 19.9512902684768,\n",
       " 'тискаться': 20.45872089516022,\n",
       " 'ахроматический': 21.05300279530685,\n",
       " 'нониус': 21.027225579104446,\n",
       " 'анабазис': 21.01204941091026,\n",
       " 'сахарить': 21.014140115205997,\n",
       " 'покрышка': 13.348467998522914,\n",
       " 'гавно': 12.50035503283982,\n",
       " 'днище': 9.736901986116699,\n",
       " 'бегун': 11.533234720084334,\n",
       " 'богослужение': 13.141953410909093,\n",
       " 'движимый': 13.938469885789118,\n",
       " 'гипсолюбка': 20.999129159109046,\n",
       " 'шакер': 20.99503736311812,\n",
       " 'подкорректироваться': 21.020649109864685,\n",
       " 'шингард': 21.00859216853806,\n",
       " 'забивание': 21.143041114918528,\n",
       " 'высокомерность': 21.105053701290334,\n",
       " 'распластываться': 10.313641888425762,\n",
       " 'рябь': 9.87597108156413,\n",
       " 'самомоднейший': 20.995650363776182,\n",
       " 'афиноген': 20.99231698964821,\n",
       " 'опрокидыватель': 21.01928824060948,\n",
       " 'гагарина': 21.023131834143623,\n",
       " 'тратить': 3.5853347369203163,\n",
       " 'задерживать': 3.903595100710467,\n",
       " 'продолжать': 0.5522648145329017,\n",
       " 'нужно': 0.4891623500709783,\n",
       " 'конфитюр': 20.978789654208438,\n",
       " 'хиромантка': 20.99950767396394,\n",
       " 'дивизия': 4.347408259721053,\n",
       " 'эскадра': 4.169615494874757,\n",
       " 'ненавидеть': 1.8743359522227743,\n",
       " 'поцелуй': 1.5982499707483104,\n",
       " 'зачарованно': 13.750540103900079,\n",
       " 'двуликий': 14.00390000544371,\n",
       " 'контрабандистский': 21.073813978808065,\n",
       " 'местообитание': 21.10640703332914,\n",
       " 'антимонопольный': 21.013358541976974,\n",
       " 'ортогональный': 21.03227046128984,\n",
       " 'суперинтендент': 20.741861325840755,\n",
       " 'литкружок': 20.615955180765308,\n",
       " 'губернаторов': 21.073908528126537,\n",
       " 'оконопачивать': 21.0385580763689,\n",
       " 'чертяка': 19.457510774582353,\n",
       " 'курва': 19.10760734123092,\n",
       " 'грудной': 7.1477826909003275,\n",
       " 'усиленно': 7.914941011737858,\n",
       " 'ниша': 6.467786882638745,\n",
       " 'смертельно': 6.730080424737824,\n",
       " 'засалить': 18.209068642860363,\n",
       " 'валандаться': 18.380031859142004,\n",
       " 'зарисовывать': 18.738794050418065,\n",
       " 'жонглировать': 18.754081022695882,\n",
       " 'опечаливать': 14.129071196876474,\n",
       " 'наперекор': 13.51527800338838,\n",
       " 'барашков': 20.48547078471527,\n",
       " 'приутихать': 20.34334231782876,\n",
       " 'калибровочный': 21.021512467091807,\n",
       " 'стефана': 21.032801160224246,\n",
       " 'неособенный': 21.097684944209274,\n",
       " 'гаулейтер': 21.11874332116084,\n",
       " 'кази': 21.00554948314723,\n",
       " 'мерсийский': 20.94900145110626,\n",
       " 'полонение': 21.017552545991894,\n",
       " 'болотище': 21.040346010850918,\n",
       " 'гамма': 11.498033827997178,\n",
       " 'сглаживать': 11.519723577581232,\n",
       " 'примиряться': 8.648422342781833,\n",
       " 'прошедшее': 8.181375996493651,\n",
       " 'облагодетельствовать': 16.95493784367421,\n",
       " 'хитрец': 16.595396633404587,\n",
       " 'прищипывать': 20.984174446160115,\n",
       " 'занюхаться': 20.950127502835787,\n",
       " 'охотливый': 21.126032779668268,\n",
       " 'сквалыжничать': 21.135271083647584,\n",
       " 'увалень': 15.303603939942054,\n",
       " 'врассыпную': 15.351540337011212,\n",
       " 'запутанный': 10.721328593444161,\n",
       " 'выливаться': 10.359478123102042,\n",
       " 'архимедов': 21.09963907701328,\n",
       " 'нецивилизованный': 21.078845406083254,\n",
       " 'англоязычный': 19.641796191589744,\n",
       " 'монтажный': 19.81306921020751,\n",
       " 'кирсановский': 20.9925626266011,\n",
       " 'ходильный': 20.933592078552167,\n",
       " 'староцерковный': 21.02513945374919,\n",
       " 'ганчо': 21.032905647783302,\n",
       " 'сплошняком': 20.098134956145113,\n",
       " 'матерок': 20.191217768156704,\n",
       " 'волоколамский': 21.06581001530403,\n",
       " 'голубовский': 21.053323542460365,\n",
       " 'безосновательность': 21.064142585926543,\n",
       " 'отщепенка': 21.022236626347794,\n",
       " 'ланок': 21.065138970025885,\n",
       " 'куприянов': 21.03404440614514,\n",
       " 'атлант': 17.77731582891811,\n",
       " 'базальтовый': 17.855889525870822,\n",
       " 'неглавный': 21.08434050163557,\n",
       " 'сеттльмент': 21.06275318532057,\n",
       " 'слеш': 21.030713020970435,\n",
       " 'лютневый': 21.029439279551607,\n",
       " 'тулий': 21.027510045454335,\n",
       " 'обмораживание': 21.022865000678593,\n",
       " 'трапезничать': 18.891409299806398,\n",
       " 'шумерский': 18.489460881063653,\n",
       " 'кадастр': 21.04500146433225,\n",
       " 'распечатывание': 21.036900756464018,\n",
       " 'кривляние': 18.251278110804645,\n",
       " 'мнительность': 18.295710633473053,\n",
       " 'администрировать': 21.002359996635903,\n",
       " 'режиссерство': 20.95566479435089,\n",
       " 'перебалтывать': 21.119589971491077,\n",
       " 'витание': 21.06792671089117,\n",
       " 'лихоманка': 17.075424451235254,\n",
       " 'гатить': 17.297185917260414,\n",
       " 'блеснуть': 3.74170788141092,\n",
       " 'обнажать': 4.602954659717665,\n",
       " 'неряшество': 18.84988704416892,\n",
       " 'растление': 18.764051230615976,\n",
       " 'оплыть': 15.373506202569809,\n",
       " 'песочек': 15.6553452203345,\n",
       " 'убойный': 12.812248085354765,\n",
       " 'вслепую': 12.819987799431873,\n",
       " 'извращенец': 8.518517133171825,\n",
       " 'листать': 8.511694901418133,\n",
       " 'срастание': 21.052821863780547,\n",
       " 'тестикулы': 21.071850394639476,\n",
       " 'провяливаться': 21.115531250925546,\n",
       " 'федюша': 21.094789248150388,\n",
       " 'поминутно': 6.418845490293483,\n",
       " 'кушанье': 6.924429584403074,\n",
       " 'работорговля': 19.212199886970975,\n",
       " 'отлов': 19.047061597439498,\n",
       " 'поспорить': 6.51025667247751,\n",
       " 'подготавливаться': 6.68959507277667,\n",
       " 'переформировываться': 21.085627773386367,\n",
       " 'членовредитель': 21.087444248916704,\n",
       " 'благоговение': 8.24999889492923,\n",
       " 'утешаться': 9.05416295656925,\n",
       " 'потенцировать': 21.04026395142919,\n",
       " 'зенд': 21.053328130832714,\n",
       " 'ношение': 13.235910944224354,\n",
       " 'закупка': 13.964079361730665,\n",
       " 'буденновец': 21.031650806079824,\n",
       " 'мовсар': 21.015249346532535,\n",
       " 'нахлопаться': 20.95534850810937,\n",
       " 'феин': 20.973554626093414,\n",
       " 'спокой': 15.85390092388088,\n",
       " 'гурт': 16.03871524129326,\n",
       " 'членистый': 20.98523672911161,\n",
       " 'искрошиться': 20.896511928336373,\n",
       " 'трансформатор': 18.48088187695677,\n",
       " 'автопарк': 17.907596461344028,\n",
       " 'пухленький': 13.952606302101351,\n",
       " 'вымучивать': 14.682752432934706,\n",
       " 'воробушек': 18.807395745214677,\n",
       " 'злюка': 18.489921695856488,\n",
       " 'иллюминатор': 6.607261596124243,\n",
       " 'вирус': 6.242575646752146,\n",
       " 'нектар': 15.705933606656581,\n",
       " 'пернатое': 14.590602814931769,\n",
       " 'деликатно': 9.846170152623719,\n",
       " 'немолодой': 8.791029457106447,\n",
       " 'принятие': 8.01167202494007,\n",
       " 'дисциплина': 6.48287909109551,\n",
       " 'полувековой': 20.370388108275638,\n",
       " 'изолированность': 20.56528572522209,\n",
       " 'почтальонский': 21.16312762267559,\n",
       " 'миа': 21.142878349406182,\n",
       " 'полипропиленовый': 21.01967356090093,\n",
       " 'стриптизный': 21.01910953173257,\n",
       " 'подначальный': 18.351183384547785,\n",
       " 'руководствовать': 18.520914865311866,\n",
       " 'несимметричный': 20.780695685529473,\n",
       " 'пульнуть': 20.644472018788786,\n",
       " 'симпатично': 18.014512707514257,\n",
       " 'программка': 18.891525755939398,\n",
       " 'вперебивку': 20.955779953608275,\n",
       " 'люэс': 20.97973646368098,\n",
       " 'засахариваться': 21.02913298749644,\n",
       " 'раскокать': 20.902418353583457,\n",
       " 'прикармливаться': 21.065854621170192,\n",
       " 'митрофанов': 21.036153740711967,\n",
       " 'оческа': 21.018200194050838,\n",
       " 'валинец': 21.01057869898011,\n",
       " 'поедание': 18.58923333818029,\n",
       " 'бытовать': 18.556142854645422,\n",
       " 'пятницкий': 21.027697038292057,\n",
       " 'пахви': 21.022536018790312,\n",
       " 'блевотный': 21.10446298830248,\n",
       " 'почковаться': 21.071625792422925,\n",
       " 'блистание': 17.08212039293336,\n",
       " 'шептание': 17.671833583938028,\n",
       " 'курчонок': 20.86562087110815,\n",
       " 'ванечка': 20.97851319957859,\n",
       " 'сердак': 21.018317473676234,\n",
       " 'бранденбуржец': 21.020009614697976,\n",
       " 'изрезаться': 21.059999820019577,\n",
       " 'блузон': 21.057933122025347,\n",
       " 'шанс': 1.484481042276325,\n",
       " 'обнаруживать': 1.3192265610739522,\n",
       " 'вологодский': 19.5529518549132,\n",
       " 'поволжский': 19.319311788222493,\n",
       " 'привес': 21.14520056942833,\n",
       " 'наломаться': 21.117423017508457,\n",
       " 'дьяческий': 21.018755116267428,\n",
       " 'жиронда': 21.011061285278352,\n",
       " 'нерезаный': 20.610917907039983,\n",
       " 'нахапывать': 20.600748973459222,\n",
       " 'распрыгаться': 20.995784293858406,\n",
       " 'гейдельбергский': 21.01358049267966,\n",
       " 'ненарушимый': 17.074510938660822,\n",
       " 'перепутье': 17.39699514447783,\n",
       " 'выгуливание': 21.017348279958,\n",
       " 'отказница': 21.00583163297428,\n",
       " 'кровосмеситель': 20.985942158715112,\n",
       " 'индиянка': 20.975783309834107,\n",
       " 'рася': 21.008365076432767,\n",
       " 'смирность': 21.00966468660547,\n",
       " 'чадорождение': 20.973333338145977,\n",
       " 'бедствование': 20.961950911842347,\n",
       " 'саботаж': 17.95242359233045,\n",
       " 'форте': 16.86176857762482,\n",
       " 'копошение': 19.92450910713114,\n",
       " 'обхитрить': 20.290514547838725,\n",
       " 'тольяттинский': 21.047612048208634,\n",
       " 'геотропизм': 21.0407527634207,\n",
       " 'эпопея': 14.203751187298934,\n",
       " 'бессмысленность': 14.966105588533404,\n",
       " 'пластаться': 20.631295029901644,\n",
       " 'тесло': 20.421383319083745,\n",
       " 'обильно': 9.994346174378705,\n",
       " 'перелетать': 10.043529463746076,\n",
       " 'повыдирать': 20.80208246795128,\n",
       " 'отпружинить': 20.649026904884654,\n",
       " 'погладить': 3.144675102660012,\n",
       " 'подоконник': 3.7117992456180877,\n",
       " 'республиканка': 20.861443676796306,\n",
       " 'азал': 20.988278576023124,\n",
       " 'малыгин': 21.038927785819933,\n",
       " 'галанец': 20.970784225463888,\n",
       " 'учительский': 15.59572420207036,\n",
       " 'ноябрьский': 15.646564002608308,\n",
       " 'помозговать': 21.01385535937659,\n",
       " 'самоподготовка': 20.942832730044035,\n",
       " 'пионерство': 20.98439062734977,\n",
       " 'вульгаризация': 21.014291698276736,\n",
       " 'тарви': 21.005019945211842,\n",
       " 'белобилетник': 20.992728069735158,\n",
       " 'глиссад': 21.009347799243855,\n",
       " 'разлюбезничаться': 21.005987803459607,\n",
       " 'прищепок': 20.622127183199048,\n",
       " 'филиппинец': 20.71641999957553,\n",
       " 'недисциплинированность': 21.048740538706973,\n",
       " 'чифир': 21.074225908467394,\n",
       " 'ряст': 20.936365265709014,\n",
       " 'борщак': 20.854642562358322,\n",
       " 'нефтеперерабатывающий': 20.636313476366144,\n",
       " 'эпизодически': 20.504185107237085,\n",
       " 'девятисотый': 20.496247404633017,\n",
       " 'дальнозоркость': 20.596895761094217,\n",
       " 'деспотичность': 20.948336084117038,\n",
       " 'несносность': 20.920280393945323,\n",
       " 'люда': 18.46644909700345,\n",
       " 'нетрудный': 18.68784487561619,\n",
       " 'поблагодарить': 4.065673135808245,\n",
       " 'угрожать': 4.369118371672729,\n",
       " 'забегание': 21.039470711220165,\n",
       " 'маклерство': 21.048901742638893,\n",
       " 'накурено': 20.53654353089169,\n",
       " 'табельщик': 20.54202999683354,\n",
       " 'обмолачиваться': 21.021163218330848,\n",
       " 'сдваивание': 21.03646028386461,\n",
       " 'некалорийный': 21.028872989288434,\n",
       " 'колготня': 21.07387919961887,\n",
       " 'припудриваться': 20.92368092800756,\n",
       " 'одергиваться': 21.07866015717191,\n",
       " 'преклоняться': 10.627223548497835,\n",
       " 'неслыханный': 9.488278800522583,\n",
       " 'славный': 2.509430127203054,\n",
       " 'почтенный': 2.889948038617608,\n",
       " 'ретинол': 21.000652255252632,\n",
       " 'брендан': 21.01238723059853,\n",
       " 'метил': 21.093770872832486,\n",
       " 'нашпиливать': 21.109362377220048,\n",
       " 'пластично': 20.968645923906642,\n",
       " 'огнеопасный': 21.010471611639844,\n",
       " 'постряпать': 20.77356695530268,\n",
       " 'бордюрчик': 20.89940815739852,\n",
       " 'рудный': 19.22885035641403,\n",
       " 'аванпост': 19.159693397376053,\n",
       " 'последыш': 20.600974965488806,\n",
       " 'таранов': 20.483534140831942,\n",
       " 'христопродавец': 19.37957667199773,\n",
       " 'продувной': 19.31279370460423,\n",
       " 'досточтимый': 14.373562630916425,\n",
       " 'безродный': 12.930972230087749,\n",
       " 'израильтянка': 20.91263589083302,\n",
       " 'навозник': 20.87695122721127,\n",
       " 'ниспадать': 12.120384015091854,\n",
       " 'упоительный': 12.054780926773336,\n",
       " 'помирить': 14.930786322821708,\n",
       " 'тиранство': 15.26112521351781,\n",
       " 'сеностав': 20.34220725510032,\n",
       " 'дефибрилляция': 21.044899873718744,\n",
       " 'скидывание': 21.061622588994105,\n",
       " 'баку': 20.87908402915486,\n",
       " 'гаишный': 20.7602049057599,\n",
       " 'расхрабриться': 20.031749113298932,\n",
       " 'заплесневеть': 20.302697829853106,\n",
       " 'селянка': 16.241633855472177,\n",
       " 'проклятущий': 17.407606890100354,\n",
       " 'несмолкавший': 21.041406307696043,\n",
       " 'оза': 21.01902677814244,\n",
       " 'некролог': 15.99676595606117,\n",
       " 'журнальчик': 16.784998737802926,\n",
       " 'асик': 20.72336882497142,\n",
       " 'липкость': 20.90321397933413,\n",
       " 'самообольщаться': 21.05258117196009,\n",
       " 'романный': 21.05258008990434,\n",
       " 'наоми': 21.022504403857905,\n",
       " 'грешность': 21.020411125309558,\n",
       " 'мстительница': 20.77004118790242,\n",
       " 'пашот': 20.857135803152758,\n",
       " 'искуривать': 21.092836022587235,\n",
       " 'дураковатый': 21.08737345003086,\n",
       " 'несуразность': 19.154918502269595,\n",
       " 'чинуша': 18.726709212352127,\n",
       " 'лекторская': 20.991168166313738,\n",
       " 'полукозел': 20.987429370921266,\n",
       " 'философствовать': 11.751143154442044,\n",
       " 'стреляться': 12.54783898468426,\n",
       " 'повисеть': 18.128968542965755,\n",
       " 'плюхнуть': 18.53557894293639,\n",
       " 'неугасающий': 20.437974309426433,\n",
       " 'пианола': 20.56686928718014,\n",
       " 'сирина': 20.92168521505472,\n",
       " 'пущин': 20.94441210532803,\n",
       " 'благонравие': 17.44599069628421,\n",
       " 'глаголать': 17.70067394624547,\n",
       " 'кормораздатчик': 21.01439565370007,\n",
       " 'субкарлик': 21.01390205174595,\n",
       " 'брыкать': 20.574159746249368,\n",
       " 'зраза': 20.63111584472463,\n",
       " 'фаат': 21.050840838429547,\n",
       " 'виолета': 21.06295948099635,\n",
       " 'беспритязательный': 20.816127746625344,\n",
       " 'празднолюбец': 20.748933887385014,\n",
       " 'пресмыкающееся': 20.194240089423438,\n",
       " 'водопойный': 21.022380990176778,\n",
       " 'копань': 20.979862938546194,\n",
       " 'механизм': 4.050235759119654,\n",
       " 'новичок': 3.5662340598572904,\n",
       " 'совмещаться': 14.310945444329795,\n",
       " 'писательство': 14.325889972868225,\n",
       " 'никандр': 20.85162948255361,\n",
       " 'фефела': 20.808760218219092,\n",
       " 'рабствовать': 20.23613141194491,\n",
       " 'взманивать': 19.89353471500125,\n",
       " 'подцвечивать': 21.076510013127876,\n",
       " 'предотъездный': 21.130364308678406,\n",
       " 'эмансипироваться': 20.5667514274825,\n",
       " 'герундий': 20.685572752127992,\n",
       " 'шлендра': 21.04225441209786,\n",
       " 'приспать': 21.112984095462025,\n",
       " 'загиб': 20.533192644453376,\n",
       " 'чехольчик': 20.72917212038024,\n",
       " 'влажность': 14.180179405183758,\n",
       " 'ностальгия': 14.321678903975032,\n",
       " 'патологоанатом': 13.085834232971555,\n",
       " 'ординаторская': 13.396234024252571,\n",
       " 'мирза': 19.020558616648877,\n",
       " 'огулом': 19.28873900955159,\n",
       " 'авран': 20.993886096387023,\n",
       " 'наплотить': 20.99124677499055,\n",
       " 'осмеивать': 11.423353830329082,\n",
       " 'венгерский': 11.550115677389865,\n",
       " 'флажный': 20.754861580801826,\n",
       " 'бункеровка': 20.820090343727202,\n",
       " 'триллионный': 21.051289286637417,\n",
       " 'коллапсар': 21.039780359003416,\n",
       " 'исключая': 10.30878247106332,\n",
       " 'непременный': 11.298793253955882,\n",
       " 'прорисовывать': 18.285487074810227,\n",
       " 'молчун': 17.9775388298747,\n",
       " 'сквернослов': 20.880507253016138,\n",
       " 'третья': 20.965548003451122,\n",
       " 'негодящий': 20.87245804343578,\n",
       " 'перевертень': 20.889851217497206,\n",
       " 'дорофея': 21.02235067578773,\n",
       " 'сурочий': 21.037105637345952,\n",
       " 'джанна': 21.009844375961436,\n",
       " ...}"
      ]
     },
     "execution_count": 20,
     "metadata": {},
     "output_type": "execute_result"
    }
   ],
   "source": [
    "gg_cc"
   ]
  },
  {
   "cell_type": "code",
   "execution_count": 23,
   "id": "48101911",
   "metadata": {},
   "outputs": [
    {
     "data": {
      "image/png": "[encoded data removed]",
      "text/plain": [
       "<Figure size 720x432 with 1 Axes>"
      ]
     },
     "metadata": {
      "needs_background": "light"
     },
     "output_type": "display_data"
    }
   ],
   "source": [
    "plt.figure(figsize=(10, 6))\n",
    "plt.hist(gg_cc.values(), bins=1000)\n",
    "plt.ylim(0, 7000)\n",
    "plt.grid()\n",
    "plt.title(\"Распределение closeness centrality\")\n",
    "plt.xlabel(\"Значение closeness centrality\")\n",
    "plt.ylabel(\"Кол-во вершин\")\n",
    "plt.show()"
   ]
  },
  {
   "cell_type": "markdown",
   "id": "58c5306f",
   "metadata": {},
   "source": [
    "## Средняя степень соседей (Average Neighbor Degree)"
   ]
  },
  {
   "attachments": {
    "image.png": {
     "image/png": "[encoded data removed]"
    }
   },
   "cell_type": "markdown",
   "id": "ad6d8f1e",
   "metadata": {},
   "source": [
    "![image.png](attachment:image.png)"
   ]
  },
  {
   "cell_type": "code",
   "execution_count": 51,
   "id": "832735cb",
   "metadata": {},
   "outputs": [],
   "source": [
    "av_nd = nx.average_neighbor_degree(gg_ru_6)"
   ]
  },
  {
   "cell_type": "code",
   "execution_count": 54,
   "id": "00e77fcd",
   "metadata": {},
   "outputs": [
    {
     "data": {
      "image/png": "[encoded data removed]",
      "text/plain": [
       "<Figure size 720x432 with 1 Axes>"
      ]
     },
     "metadata": {
      "needs_background": "light"
     },
     "output_type": "display_data"
    }
   ],
   "source": [
    "plt.figure(figsize=(10, 6))\n",
    "plt.hist(av_nd.values(), bins=1000)\n",
    "plt.ylim(0, 400)\n",
    "plt.title(\"Распределение average neighbor degree\")\n",
    "plt.xlabel(\"Значение average neighbor degree\")\n",
    "plt.ylabel(\"Кол-во вершин\")\n",
    "plt.grid()\n",
    "plt.show()"
   ]
  },
  {
   "attachments": {
    "image.png": {
     "image/png": "[encoded data removed]"
    }
   },
   "cell_type": "markdown",
   "id": "2893be60",
   "metadata": {},
   "source": [
    "![image.png](attachment:image.png)"
   ]
  },
  {
   "cell_type": "code",
   "execution_count": 55,
   "id": "3ceecc4b",
   "metadata": {},
   "outputs": [],
   "source": [
    "av_nd_w = nx.average_neighbor_degree(gg_ru_6, weight='weight')"
   ]
  },
  {
   "cell_type": "code",
   "execution_count": 57,
   "id": "7185faca",
   "metadata": {},
   "outputs": [
    {
     "data": {
      "image/png": "[encoded data removed]",
      "text/plain": [
       "<Figure size 720x432 with 1 Axes>"
      ]
     },
     "metadata": {
      "needs_background": "light"
     },
     "output_type": "display_data"
    }
   ],
   "source": [
    "plt.figure(figsize=(10, 6))\n",
    "plt.hist(av_nd_w.values(), bins=1000)\n",
    "plt.ylim(0, 400)\n",
    "plt.grid()\n",
    "plt.title(\"Распределение weighted average neighbor degree\")\n",
    "plt.xlabel(\"Значение weighted average neighbor degree\")\n",
    "plt.ylabel(\"Кол-во вершин\")\n",
    "plt.show()"
   ]
  },
  {
   "cell_type": "markdown",
   "id": "3d61efc6",
   "metadata": {},
   "source": [
    "Из этого определения следует, что $k_{nn,i}^w> k_{nn,i}$, если ребра с большими весами указывают на соседей с большей степенью. И $k_{nn,i}^w < k_{nn,i}$ для противоположного"
   ]
  },
  {
   "cell_type": "code",
   "execution_count": 58,
   "id": "c53a5563",
   "metadata": {},
   "outputs": [],
   "source": [
    "more_list, less_list = [], []\n",
    "for word in av_nd:\n",
    "    if av_nd_w[word] > av_nd[word]:\n",
    "        more_list.append(word)\n",
    "    else:\n",
    "        less_list.append(word)"
   ]
  },
  {
   "cell_type": "code",
   "execution_count": 59,
   "id": "8bc35b8b",
   "metadata": {},
   "outputs": [
    {
     "data": {
      "text/plain": [
       "74563"
      ]
     },
     "execution_count": 59,
     "metadata": {},
     "output_type": "execute_result"
    }
   ],
   "source": [
    "len(more_list)"
   ]
  },
  {
   "cell_type": "code",
   "execution_count": 60,
   "id": "9ab0000c",
   "metadata": {},
   "outputs": [
    {
     "data": {
      "text/plain": [
       "22468"
      ]
     },
     "execution_count": 60,
     "metadata": {},
     "output_type": "execute_result"
    }
   ],
   "source": [
    "len(less_list)"
   ]
  },
  {
   "cell_type": "code",
   "execution_count": null,
   "id": "ae09a2c4",
   "metadata": {},
   "outputs": [],
   "source": []
  },
  {
   "cell_type": "markdown",
   "id": "66b600b2",
   "metadata": {},
   "source": [
    "## Центральность по близости между вершинами (vertices betweenness centrality)"
   ]
  },
  {
   "attachments": {
    "image-2.png": {
     "image/png": "[encoded data removed]"
    }
   },
   "cell_type": "markdown",
   "id": "eb9ff9ad",
   "metadata": {},
   "source": [
    "![image-2.png](attachment:image-2.png)"
   ]
  },
  {
   "cell_type": "code",
   "execution_count": 33,
   "id": "70c009d8",
   "metadata": {},
   "outputs": [],
   "source": [
    "with open(\"/Users/yuvlo/Spot-the-bot/Graph/characteristics/gg_betweenness_centrality.pickle\", \"rb\") as f:\n",
    "    gg_bc = pickle.load(f)"
   ]
  },
  {
   "cell_type": "code",
   "execution_count": 35,
   "id": "cd537ea9",
   "metadata": {},
   "outputs": [
    {
     "data": {
      "image/png": "[encoded data removed]",
      "text/plain": [
       "<Figure size 720x432 with 1 Axes>"
      ]
     },
     "metadata": {
      "needs_background": "light"
     },
     "output_type": "display_data"
    }
   ],
   "source": [
    "plt.figure(figsize=(10, 6))\n",
    "plt.hist(gg_bc.values(), bins=1000)\n",
    "plt.ylim(0, 8000)\n",
    "plt.grid()\n",
    "plt.title(\"Распределение betweenness centrality\")\n",
    "plt.xlabel(\"Значение betweenness centrality\")\n",
    "plt.ylabel(\"Кол-во вершин\")\n",
    "plt.show()"
   ]
  },
  {
   "cell_type": "markdown",
   "id": "8a560898",
   "metadata": {},
   "source": [
    "## Центральность по близости между ребрами (edges betweenness centrality)"
   ]
  },
  {
   "attachments": {
    "image.png": {
     "image/png": "[encoded data removed]"
    }
   },
   "cell_type": "markdown",
   "id": "bd8a7bb5",
   "metadata": {},
   "source": [
    "![image.png](attachment:image.png)"
   ]
  },
  {
   "cell_type": "code",
   "execution_count": 36,
   "id": "00b78be3",
   "metadata": {},
   "outputs": [],
   "source": [
    "with open(\"/Users/yuvlo/Spot-the-bot/Graph/characteristics/gg_edge_betweenness_centrality.pickle\", \"rb\") as f:\n",
    "    gg_ebc = pickle.load(f)"
   ]
  },
  {
   "cell_type": "code",
   "execution_count": 37,
   "id": "4d890a07",
   "metadata": {},
   "outputs": [],
   "source": [
    "v = np.array(list(gg_ebc.values()))"
   ]
  },
  {
   "cell_type": "code",
   "execution_count": 38,
   "id": "de748fc7",
   "metadata": {},
   "outputs": [
    {
     "data": {
      "text/plain": [
       "1867261"
      ]
     },
     "execution_count": 38,
     "metadata": {},
     "output_type": "execute_result"
    }
   ],
   "source": [
    "len(v)"
   ]
  },
  {
   "cell_type": "code",
   "execution_count": 76,
   "id": "70c51f8b",
   "metadata": {},
   "outputs": [
    {
     "data": {
      "text/plain": [
       "1866622"
      ]
     },
     "execution_count": 76,
     "metadata": {},
     "output_type": "execute_result"
    }
   ],
   "source": [
    "len(v[v < 0.001])"
   ]
  },
  {
   "cell_type": "code",
   "execution_count": 46,
   "id": "11681016",
   "metadata": {},
   "outputs": [
    {
     "data": {
      "image/png": "[encoded data removed]",
      "text/plain": [
       "<Figure size 720x432 with 1 Axes>"
      ]
     },
     "metadata": {
      "needs_background": "light"
     },
     "output_type": "display_data"
    }
   ],
   "source": [
    "plt.figure(figsize=(10, 6))\n",
    "plt.hist(gg_ebc.values(), bins=3000)\n",
    "# plt.ylim(0, 1000)\n",
    "plt.xlim(0, 0.0001)\n",
    "plt.grid()\n",
    "plt.title(\"Распределение edges betweenness centrality\")\n",
    "plt.xlabel(\"Значение edges betweenness centrality\")\n",
    "plt.ylabel(\"Кол-во вершин\")\n",
    "plt.show()"
   ]
  },
  {
   "cell_type": "code",
   "execution_count": 47,
   "id": "197a3290",
   "metadata": {},
   "outputs": [],
   "source": [
    "with open(\"/Users/yuvlo/Spot-the-bot/Graph/characteristics/gg_load_centrality.pickle\", \"rb\") as f:\n",
    "    gg_load = pickle.load(f)"
   ]
  },
  {
   "cell_type": "code",
   "execution_count": 50,
   "id": "19bbbfa5",
   "metadata": {},
   "outputs": [
    {
     "data": {
      "image/png": "[encoded data removed]",
      "text/plain": [
       "<Figure size 720x432 with 1 Axes>"
      ]
     },
     "metadata": {
      "needs_background": "light"
     },
     "output_type": "display_data"
    }
   ],
   "source": [
    "plt.figure(figsize=(10, 6))\n",
    "plt.hist(gg_load.values(), bins=1000)\n",
    "# plt.ylim(0, 1000)\n",
    "plt.xlim(0, 0.001)\n",
    "plt.grid()\n",
    "plt.title(\"Распределение load centrality\")\n",
    "plt.xlabel(\"Значение load centrality\")\n",
    "plt.ylabel(\"Кол-во вершин\")\n",
    "plt.show()"
   ]
  },
  {
   "cell_type": "code",
   "execution_count": null,
   "id": "1887594c",
   "metadata": {},
   "outputs": [],
   "source": []
  },
  {
   "cell_type": "markdown",
   "id": "056c6844",
   "metadata": {},
   "source": [
    "## Коэффициент кластеризации (взвешенный и невзвешенный)"
   ]
  },
  {
   "cell_type": "code",
   "execution_count": 60,
   "id": "a4e35505",
   "metadata": {},
   "outputs": [],
   "source": [
    "cc = nx.clustering(gg_ru_6)\n",
    "cc_w = nx.clustering(gg_ru_6, weight='weight')"
   ]
  },
  {
   "cell_type": "code",
   "execution_count": 65,
   "id": "04da4c8b",
   "metadata": {},
   "outputs": [
    {
     "data": {
      "image/png": "[encoded data removed]",
      "text/plain": [
       "<Figure size 720x432 with 1 Axes>"
      ]
     },
     "metadata": {
      "needs_background": "light"
     },
     "output_type": "display_data"
    }
   ],
   "source": [
    "plt.figure(figsize=(10, 6))\n",
    "plt.hist(cc.values(), bins=1000)\n",
    "plt.ylim(0, 1200)\n",
    "plt.grid()\n",
    "plt.show()"
   ]
  },
  {
   "cell_type": "code",
   "execution_count": 66,
   "id": "c2fceaa9",
   "metadata": {},
   "outputs": [
    {
     "data": {
      "image/png": "[encoded data removed]",
      "text/plain": [
       "<Figure size 720x432 with 1 Axes>"
      ]
     },
     "metadata": {
      "needs_background": "light"
     },
     "output_type": "display_data"
    }
   ],
   "source": [
    "plt.figure(figsize=(10, 6))\n",
    "plt.hist(cc_w.values(), bins=1000)\n",
    "plt.ylim(0, 1200)\n",
    "plt.grid()\n",
    "plt.show()"
   ]
  },
  {
   "cell_type": "markdown",
   "id": "41c5f725",
   "metadata": {},
   "source": [
    "## Средний коэффициент кластеризации (взвешенный и невзвешенный)"
   ]
  },
  {
   "cell_type": "code",
   "execution_count": 62,
   "id": "0f014826",
   "metadata": {},
   "outputs": [],
   "source": [
    "cc = nx.clustering(gg_ru_6)"
   ]
  },
  {
   "cell_type": "code",
   "execution_count": 64,
   "id": "eabea1a2",
   "metadata": {},
   "outputs": [],
   "source": [
    "w_cc = nx.clustering(gg_ru_6, weight='weight')"
   ]
  },
  {
   "cell_type": "code",
   "execution_count": 67,
   "id": "c459256d",
   "metadata": {},
   "outputs": [
    {
     "data": {
      "image/png": "[encoded data removed]",
      "text/plain": [
       "<Figure size 720x432 with 1 Axes>"
      ]
     },
     "metadata": {
      "needs_background": "light"
     },
     "output_type": "display_data"
    }
   ],
   "source": [
    "plt.figure(figsize=(10, 6))\n",
    "plt.hist(cc.values(), bins=1000)\n",
    "plt.ylim(0, 1200)\n",
    "plt.grid()\n",
    "plt.title(\"Распределение clustering coefficient\")\n",
    "plt.xlabel(\"Значение clustering coefficient\")\n",
    "plt.ylabel(\"Кол-во вершин\")\n",
    "plt.show()"
   ]
  },
  {
   "cell_type": "code",
   "execution_count": 74,
   "id": "d0b0e2e5",
   "metadata": {},
   "outputs": [
    {
     "data": {
      "image/png": "[encoded data removed]",
      "text/plain": [
       "<Figure size 720x432 with 1 Axes>"
      ]
     },
     "metadata": {
      "needs_background": "light"
     },
     "output_type": "display_data"
    }
   ],
   "source": [
    "plt.figure(figsize=(10, 6))\n",
    "plt.hist(w_cc.values(), bins=10000)\n",
    "# plt.ylim(0, )\n",
    "plt.xlim(0, 0.004)\n",
    "plt.grid()\n",
    "plt.title(\"Weighted clustering coefficient\")\n",
    "plt.xlabel(\"Значение weighted clustering coefficient\")\n",
    "plt.ylabel(\"Кол-во вершин\")\n",
    "plt.show()"
   ]
  },
  {
   "cell_type": "code",
   "execution_count": 75,
   "id": "64598e73",
   "metadata": {},
   "outputs": [
    {
     "data": {
      "text/plain": [
       "0.253621144654654"
      ]
     },
     "execution_count": 75,
     "metadata": {},
     "output_type": "execute_result"
    }
   ],
   "source": [
    "nx.average_clustering(gg_ru_6)"
   ]
  },
  {
   "cell_type": "code",
   "execution_count": 76,
   "id": "81b8f8cf",
   "metadata": {},
   "outputs": [
    {
     "data": {
      "text/plain": [
       "0.0004080038377177213"
      ]
     },
     "execution_count": 76,
     "metadata": {},
     "output_type": "execute_result"
    }
   ],
   "source": [
    "nx.average_clustering(gg_ru_6, weight='weight')"
   ]
  },
  {
   "cell_type": "code",
   "execution_count": 4,
   "id": "976fab07",
   "metadata": {},
   "outputs": [],
   "source": [
    "nds = list(gg_ru_6.nodes)[:10000]"
   ]
  },
  {
   "cell_type": "code",
   "execution_count": 5,
   "id": "67123c59",
   "metadata": {},
   "outputs": [
    {
     "data": {
      "text/plain": [
       "0.9142849624422718"
      ]
     },
     "execution_count": 5,
     "metadata": {},
     "output_type": "execute_result"
    }
   ],
   "source": [
    "nx.degree_assortativity_coefficient(gg_ru_6, weight='weight', nodes=nds)"
   ]
  },
  {
   "cell_type": "code",
   "execution_count": 7,
   "id": "0d3550cb",
   "metadata": {
    "scrolled": true
   },
   "outputs": [],
   "source": [
    "rc = nx.rich_club_coefficient(gg_ru_6, normalized=False)"
   ]
  },
  {
   "cell_type": "code",
   "execution_count": 14,
   "id": "4473a320",
   "metadata": {},
   "outputs": [
    {
     "data": {
      "image/png": "[encoded data removed]",
      "text/plain": [
       "<Figure size 720x432 with 1 Axes>"
      ]
     },
     "metadata": {
      "needs_background": "light"
     },
     "output_type": "display_data"
    }
   ],
   "source": [
    "plt.figure(figsize=(10, 6))\n",
    "plt.bar(x=rc.keys(), height=rc.values())\n",
    "plt.grid()\n",
    "plt.title(\"Rich club coefficient\")\n",
    "plt.xlabel(\"k\")\n",
    "plt.ylabel(\"Значение rich club coefficient\")\n",
    "plt.show()"
   ]
  },
  {
   "cell_type": "code",
   "execution_count": null,
   "id": "88e3c474",
   "metadata": {},
   "outputs": [],
   "source": []
  },
  {
   "cell_type": "code",
   "execution_count": null,
   "id": "04294096",
   "metadata": {},
   "outputs": [],
   "source": []
  }
 ],
 "metadata": {
  "colab": {
   "collapsed_sections": [
    "ukmM-Ajjufo-",
    "c9e669bc",
    "75819a03",
    "19907425",
    "bdb35e20",
    "19944998"
   ],
   "name": "Копия блокнота \"graph_init.ipynb\"",
   "provenance": []
  },
  "kernelspec": {
   "display_name": "Python 3 (ipykernel)",
   "language": "python",
   "name": "python3"
  },
  "language_info": {
   "codemirror_mode": {
    "name": "ipython",
    "version": 3
   },
   "file_extension": ".py",
   "mimetype": "text/x-python",
   "name": "python",
   "nbconvert_exporter": "python",
   "pygments_lexer": "ipython3",
   "version": "3.9.7"
  }
 },
 "nbformat": 4,
 "nbformat_minor": 5
}
