{
 "cells": [
  {
   "cell_type": "code",
   "execution_count": 1,
   "id": "7162a68c",
   "metadata": {},
   "outputs": [],
   "source": [
    "import sys\n",
    "sys.path.insert(1, \"/Users/yuvlo/Spot-the-bot/Utils\")\n",
    "from graph_utils import *\n",
    "import pandas as pd\n",
    "import numpy as np\n",
    "import pickle"
   ]
  },
  {
   "cell_type": "code",
   "execution_count": 2,
   "id": "579cd2e7",
   "metadata": {},
   "outputs": [
    {
     "name": "stderr",
     "output_type": "stream",
     "text": [
      "100%|████████████████████████████████| 211648/211648 [00:02<00:00, 85451.94it/s]\n"
     ]
    }
   ],
   "source": [
    "rng_ru_vertices = np.load(\"/Users/yuvlo/Spot-the-bot/Graph/GraphCheck/6_rng_ru.npy\",\n",
    "                          allow_pickle=True).take(0)\n",
    "rng_ru = nx.Graph()\n",
    "my_rng_ru = GG(rng_ru_vertices)\n",
    "\n",
    "edges = my_rng_ru.get_weighted_edges()\n",
    "rng_ru.add_weighted_edges_from(edges)"
   ]
  },
  {
   "cell_type": "code",
   "execution_count": 3,
   "id": "859a6131",
   "metadata": {},
   "outputs": [],
   "source": [
    "df_bot = pd.read_csv(\"/Users/yuvlo/Spot-the-bot/Russian/df_clean_bot.csv\")"
   ]
  },
  {
   "cell_type": "code",
   "execution_count": null,
   "id": "8506fcb1",
   "metadata": {},
   "outputs": [
    {
     "name": "stderr",
     "output_type": "stream",
     "text": [
      "  9%|██▉                              | 230/2556 [1:41:54<414:16:11, 641.17s/it]"
     ]
    }
   ],
   "source": [
    "texts_paths = dict()\n",
    "for i in tqdm(range(df_bot.shape[0])):\n",
    "    text = df_bot.loc[i, 'clean_text']\n",
    "    path_edges = go_through_text(text, rng_ru)\n",
    "    texts_paths[i] = path_edges\n",
    "    if i % 1000 == 0:\n",
    "        with open(f\"{i}_bot_rng_texts_path.pickle\", \"wb\") as f:\n",
    "            pickle.dump(texts_paths, f)"
   ]
  },
  {
   "cell_type": "code",
   "execution_count": null,
   "id": "5f2f74b0",
   "metadata": {},
   "outputs": [],
   "source": [
    "with open(f\"bot_rng_texts_path.pickle\", \"wb\") as f:\n",
    "    pickle.dump(texts_paths, f)"
   ]
  },
  {
   "cell_type": "code",
   "execution_count": null,
   "id": "a848ae2f",
   "metadata": {},
   "outputs": [],
   "source": []
  },
  {
   "cell_type": "code",
   "execution_count": null,
   "id": "c74a8e23",
   "metadata": {},
   "outputs": [],
   "source": []
  },
  {
   "cell_type": "code",
   "execution_count": null,
   "id": "b659f02c",
   "metadata": {},
   "outputs": [],
   "source": []
  }
 ],
 "metadata": {
  "kernelspec": {
   "display_name": "Python 3 (ipykernel)",
   "language": "python",
   "name": "python3"
  },
  "language_info": {
   "codemirror_mode": {
    "name": "ipython",
    "version": 3
   },
   "file_extension": ".py",
   "mimetype": "text/x-python",
   "name": "python",
   "nbconvert_exporter": "python",
   "pygments_lexer": "ipython3",
   "version": "3.9.7"
  }
 },
 "nbformat": 4,
 "nbformat_minor": 5
}
