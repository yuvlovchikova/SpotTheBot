{
 "cells": [
  {
   "cell_type": "code",
   "execution_count": null,
   "id": "6ce1e951",
   "metadata": {},
   "outputs": [],
   "source": [
    "def plot_graph_degrees(degrees: list, k: int, x_max: int, y_max: int = 20000, size: tuple = (10, 8)):\n",
    "    y = []\n",
    "    xs = [x for x in range(x_max)]\n",
    "    for x in xs:\n",
    "        y.append(len(degrees[degrees == x]))\n",
    "    plt.figure(figsize=size)\n",
    "    plt.bar(x=xs, height=y)\n",
    "    plt.xticks(xs)\n",
    "    plt.grid()\n",
    "    plt.title(f\"Распределение степеней графа Габриэля при размере вектора {k}\")\n",
    "    plt.ylabel(\"Кол-во вершин\")\n",
    "    plt.xlabel(\"Кол-во соседей\")\n",
    "    plt.ylim(0, y_max)\n",
    "    plt.show()\n",
    "    return y"
   ]
  },
  {
   "cell_type": "code",
   "execution_count": null,
   "id": "b9b02d2d",
   "metadata": {},
   "outputs": [],
   "source": [
    "def get_x_y_from_degrees(degrees: list, x_max: int) -> tuple:\n",
    "    y = []\n",
    "    xs = [x for x in range(x_max)]\n",
    "    for x in xs:\n",
    "        y.append(len(degrees[degrees == x]))\n",
    "    return xs, y\n",
    "\n",
    "def plot_3_graphs_degrees(graphs_degrees: list, k: list,\n",
    "                          x_max: int,\n",
    "                          y_max: int = 20000,\n",
    "                          size: tuple = (10, 8)):\n",
    "    fig = plt.figure()\n",
    "    x, y = [], []\n",
    "    for degrees in graphs_degrees:\n",
    "        xs, ys = get_x_y_from_degrees(degrees, x_max)\n",
    "        x.append(xs)\n",
    "        y.append(ys)\n",
    "    fig = plt.figure(figsize=(20, 8))\n",
    "    fig.suptitle(\"Распределение степеней графа Габриэля\")\n",
    "    ax_1 = fig.add_subplot(1, 3, 1)\n",
    "    ax_2 = fig.add_subplot(1, 3, 2)\n",
    "    ax_3 = fig.add_subplot(1, 3, 3)\n",
    "    axs = [ax_1, ax_2, ax_3]\n",
    "    for i in range(len(axs)):\n",
    "        axs[i].bar(x=x[i], height=y[i])\n",
    "        axs[i].set_xticks(xs)\n",
    "        axs[i].grid()\n",
    "        axs[i].set_title(f\"Размер вектора {k[i]}\")\n",
    "        axs[i].set_ylabel(\"Кол-во вершин\")\n",
    "        axs[i].set_xlabel(\"Кол-во соседей\")\n",
    "        axs[i].set_ylim(0, y_max)\n",
    "    plt.show()\n",
    "    return y"
   ]
  },
  {
   "cell_type": "markdown",
   "id": "72e9c41a",
   "metadata": {},
   "source": [
    "## Граф Габриэля без доп. услсовий"
   ]
  },
  {
   "cell_type": "code",
   "execution_count": null,
   "id": "992a6115",
   "metadata": {},
   "outputs": [],
   "source": [
    "y = plot_graph_degrees(graph_degrees_3, 3, 20)"
   ]
  },
  {
   "cell_type": "code",
   "execution_count": null,
   "id": "ac9201c6",
   "metadata": {},
   "outputs": [],
   "source": []
  },
  {
   "cell_type": "code",
   "execution_count": null,
   "id": "1f3f7cc6",
   "metadata": {},
   "outputs": [],
   "source": []
  },
  {
   "cell_type": "code",
   "execution_count": null,
   "id": "05530c00",
   "metadata": {},
   "outputs": [],
   "source": []
  },
  {
   "cell_type": "code",
   "execution_count": null,
   "id": "924d45ca",
   "metadata": {},
   "outputs": [],
   "source": []
  },
  {
   "cell_type": "code",
   "execution_count": null,
   "id": "4f1979fb",
   "metadata": {},
   "outputs": [],
   "source": []
  },
  {
   "cell_type": "code",
   "execution_count": null,
   "id": "20e3873a",
   "metadata": {},
   "outputs": [],
   "source": []
  },
  {
   "cell_type": "code",
   "execution_count": null,
   "id": "a58fce3f",
   "metadata": {},
   "outputs": [],
   "source": []
  }
 ],
 "metadata": {
  "kernelspec": {
   "display_name": "Python 3 (ipykernel)",
   "language": "python",
   "name": "python3"
  },
  "language_info": {
   "codemirror_mode": {
    "name": "ipython",
    "version": 3
   },
   "file_extension": ".py",
   "mimetype": "text/x-python",
   "name": "python",
   "nbconvert_exporter": "python",
   "pygments_lexer": "ipython3",
   "version": "3.9.7"
  }
 },
 "nbformat": 4,
 "nbformat_minor": 5
}
