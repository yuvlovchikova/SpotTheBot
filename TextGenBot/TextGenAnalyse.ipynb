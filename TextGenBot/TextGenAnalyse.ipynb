{
 "cells": [
  {
   "cell_type": "code",
   "execution_count": 5,
   "id": "8b8f9689",
   "metadata": {},
   "outputs": [],
   "source": [
    "import numpy as np\n",
    "import pandas as pd\n",
    "from tqdm import tqdm"
   ]
  },
  {
   "cell_type": "code",
   "execution_count": 3,
   "id": "2d38b784",
   "metadata": {},
   "outputs": [],
   "source": [
    "df_bot = pd.read_csv(\"/Users/yuvlo/Spot-the-bot/Russian/BotRuPreprocessedNoSep.csv\")"
   ]
  },
  {
   "cell_type": "code",
   "execution_count": 8,
   "id": "bdf0e6dc",
   "metadata": {},
   "outputs": [
    {
     "data": {
      "text/html": [
       "<div>\n",
       "<style scoped>\n",
       "    .dataframe tbody tr th:only-of-type {\n",
       "        vertical-align: middle;\n",
       "    }\n",
       "\n",
       "    .dataframe tbody tr th {\n",
       "        vertical-align: top;\n",
       "    }\n",
       "\n",
       "    .dataframe thead th {\n",
       "        text-align: right;\n",
       "    }\n",
       "</style>\n",
       "<table border=\"1\" class=\"dataframe\">\n",
       "  <thead>\n",
       "    <tr style=\"text-align: right;\">\n",
       "      <th></th>\n",
       "      <th>bot_preprocessed_text_no_sep</th>\n",
       "    </tr>\n",
       "  </thead>\n",
       "  <tbody>\n",
       "    <tr>\n",
       "      <th>0</th>\n",
       "      <td>рассказывать попросить собираться приходиться ...</td>\n",
       "    </tr>\n",
       "    <tr>\n",
       "      <th>1</th>\n",
       "      <td>становиться позволять приходить весь столько п...</td>\n",
       "    </tr>\n",
       "    <tr>\n",
       "      <th>2</th>\n",
       "      <td>представлять просто весь слово помогать подобн...</td>\n",
       "    </tr>\n",
       "    <tr>\n",
       "      <th>3</th>\n",
       "      <td>старик становиться удовольствие просто обезору...</td>\n",
       "    </tr>\n",
       "    <tr>\n",
       "      <th>4</th>\n",
       "      <td>поставлять заставлять просто просто стоять ста...</td>\n",
       "    </tr>\n",
       "    <tr>\n",
       "      <th>...</th>\n",
       "      <td>...</td>\n",
       "    </tr>\n",
       "    <tr>\n",
       "      <th>10398</th>\n",
       "      <td>получать оставаться просто последний родственн...</td>\n",
       "    </tr>\n",
       "    <tr>\n",
       "      <th>10399</th>\n",
       "      <td>принимать голова случай просто становиться пос...</td>\n",
       "    </tr>\n",
       "    <tr>\n",
       "      <th>10400</th>\n",
       "      <td>старый приходиться слово поступать случай неск...</td>\n",
       "    </tr>\n",
       "    <tr>\n",
       "      <th>10401</th>\n",
       "      <td>разговор становиться положение подходить подым...</td>\n",
       "    </tr>\n",
       "    <tr>\n",
       "      <th>10402</th>\n",
       "      <td>просто вернуться последний свой представлять п...</td>\n",
       "    </tr>\n",
       "  </tbody>\n",
       "</table>\n",
       "<p>10403 rows × 1 columns</p>\n",
       "</div>"
      ],
      "text/plain": [
       "                            bot_preprocessed_text_no_sep\n",
       "0      рассказывать попросить собираться приходиться ...\n",
       "1      становиться позволять приходить весь столько п...\n",
       "2      представлять просто весь слово помогать подобн...\n",
       "3      старик становиться удовольствие просто обезору...\n",
       "4      поставлять заставлять просто просто стоять ста...\n",
       "...                                                  ...\n",
       "10398  получать оставаться просто последний родственн...\n",
       "10399  принимать голова случай просто становиться пос...\n",
       "10400  старый приходиться слово поступать случай неск...\n",
       "10401  разговор становиться положение подходить подым...\n",
       "10402  просто вернуться последний свой представлять п...\n",
       "\n",
       "[10403 rows x 1 columns]"
      ]
     },
     "execution_count": 8,
     "metadata": {},
     "output_type": "execute_result"
    }
   ],
   "source": [
    "df_bot"
   ]
  },
  {
   "cell_type": "code",
   "execution_count": null,
   "id": "ffb15200",
   "metadata": {},
   "outputs": [],
   "source": [
    "text_len_dict = {k: 0 for k in range(100)}\n",
    "for i in tqdm(range(df.shape[0])):\n",
    "    sent_text = df.loc[i, 'predicted_text'].split(' . ')\n",
    "    txt = list(map(lambda sentence: sentence.split(), sent_text))\n",
    "    sent_len = list(map(lambda sent_lst: len(sent_lst), txt))\n",
    "    for length in sent_len:\n",
    "        text_len_dict[length] += 1"
   ]
  },
  {
   "cell_type": "code",
   "execution_count": 6,
   "id": "bddbb46d",
   "metadata": {},
   "outputs": [
    {
     "name": "stderr",
     "output_type": "stream",
     "text": [
      "100%|████████████████████████████████████| 10403/10403 [00:16<00:00, 625.92it/s]\n"
     ]
    }
   ],
   "source": [
    "words = set()\n",
    "for i in tqdm(range(df_bot.shape[0])):\n",
    "    words.update(df_bot.loc[i, 'bot_preprocessed_text_no_sep'].split())"
   ]
  },
  {
   "cell_type": "code",
   "execution_count": 7,
   "id": "aad78e2a",
   "metadata": {},
   "outputs": [
    {
     "data": {
      "text/plain": [
       "11847"
      ]
     },
     "execution_count": 7,
     "metadata": {},
     "output_type": "execute_result"
    }
   ],
   "source": [
    "len(words)"
   ]
  },
  {
   "cell_type": "code",
   "execution_count": null,
   "id": "f19aeebe",
   "metadata": {},
   "outputs": [],
   "source": []
  }
 ],
 "metadata": {
  "kernelspec": {
   "display_name": "Python 3 (ipykernel)",
   "language": "python",
   "name": "python3"
  },
  "language_info": {
   "codemirror_mode": {
    "name": "ipython",
    "version": 3
   },
   "file_extension": ".py",
   "mimetype": "text/x-python",
   "name": "python",
   "nbconvert_exporter": "python",
   "pygments_lexer": "ipython3",
   "version": "3.9.7"
  }
 },
 "nbformat": 4,
 "nbformat_minor": 5
}
